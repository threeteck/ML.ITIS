{
 "cells": [
  {
   "cell_type": "code",
   "execution_count": 2,
   "metadata": {
    "collapsed": true,
    "pycharm": {
     "name": "#%%\n"
    }
   },
   "outputs": [],
   "source": [
    "import pandas as pd"
   ]
  },
  {
   "cell_type": "code",
   "execution_count": 3,
   "outputs": [
    {
     "data": {
      "text/plain": "   PassengerId  Survived  Pclass  \\\n0            1         0       3   \n1            2         1       1   \n2            3         1       3   \n3            4         1       1   \n4            5         0       3   \n\n                                                Name     Sex   Age  SibSp  \\\n0                            Braund, Mr. Owen Harris    male  22.0      1   \n1  Cumings, Mrs. John Bradley (Florence Briggs Th...  female  38.0      1   \n2                             Heikkinen, Miss. Laina  female  26.0      0   \n3       Futrelle, Mrs. Jacques Heath (Lily May Peel)  female  35.0      1   \n4                           Allen, Mr. William Henry    male  35.0      0   \n\n   Parch            Ticket     Fare Cabin Embarked  \n0      0         A/5 21171   7.2500   NaN        S  \n1      0          PC 17599  71.2833   C85        C  \n2      0  STON/O2. 3101282   7.9250   NaN        S  \n3      0            113803  53.1000  C123        S  \n4      0            373450   8.0500   NaN        S  ",
      "text/html": "<div>\n<style scoped>\n    .dataframe tbody tr th:only-of-type {\n        vertical-align: middle;\n    }\n\n    .dataframe tbody tr th {\n        vertical-align: top;\n    }\n\n    .dataframe thead th {\n        text-align: right;\n    }\n</style>\n<table border=\"1\" class=\"dataframe\">\n  <thead>\n    <tr style=\"text-align: right;\">\n      <th></th>\n      <th>PassengerId</th>\n      <th>Survived</th>\n      <th>Pclass</th>\n      <th>Name</th>\n      <th>Sex</th>\n      <th>Age</th>\n      <th>SibSp</th>\n      <th>Parch</th>\n      <th>Ticket</th>\n      <th>Fare</th>\n      <th>Cabin</th>\n      <th>Embarked</th>\n    </tr>\n  </thead>\n  <tbody>\n    <tr>\n      <th>0</th>\n      <td>1</td>\n      <td>0</td>\n      <td>3</td>\n      <td>Braund, Mr. Owen Harris</td>\n      <td>male</td>\n      <td>22.0</td>\n      <td>1</td>\n      <td>0</td>\n      <td>A/5 21171</td>\n      <td>7.2500</td>\n      <td>NaN</td>\n      <td>S</td>\n    </tr>\n    <tr>\n      <th>1</th>\n      <td>2</td>\n      <td>1</td>\n      <td>1</td>\n      <td>Cumings, Mrs. John Bradley (Florence Briggs Th...</td>\n      <td>female</td>\n      <td>38.0</td>\n      <td>1</td>\n      <td>0</td>\n      <td>PC 17599</td>\n      <td>71.2833</td>\n      <td>C85</td>\n      <td>C</td>\n    </tr>\n    <tr>\n      <th>2</th>\n      <td>3</td>\n      <td>1</td>\n      <td>3</td>\n      <td>Heikkinen, Miss. Laina</td>\n      <td>female</td>\n      <td>26.0</td>\n      <td>0</td>\n      <td>0</td>\n      <td>STON/O2. 3101282</td>\n      <td>7.9250</td>\n      <td>NaN</td>\n      <td>S</td>\n    </tr>\n    <tr>\n      <th>3</th>\n      <td>4</td>\n      <td>1</td>\n      <td>1</td>\n      <td>Futrelle, Mrs. Jacques Heath (Lily May Peel)</td>\n      <td>female</td>\n      <td>35.0</td>\n      <td>1</td>\n      <td>0</td>\n      <td>113803</td>\n      <td>53.1000</td>\n      <td>C123</td>\n      <td>S</td>\n    </tr>\n    <tr>\n      <th>4</th>\n      <td>5</td>\n      <td>0</td>\n      <td>3</td>\n      <td>Allen, Mr. William Henry</td>\n      <td>male</td>\n      <td>35.0</td>\n      <td>0</td>\n      <td>0</td>\n      <td>373450</td>\n      <td>8.0500</td>\n      <td>NaN</td>\n      <td>S</td>\n    </tr>\n  </tbody>\n</table>\n</div>"
     },
     "execution_count": 3,
     "metadata": {},
     "output_type": "execute_result"
    }
   ],
   "source": [
    "df = pd.read_csv('train.csv', sep=',')\n",
    "df.head()"
   ],
   "metadata": {
    "collapsed": false,
    "pycharm": {
     "name": "#%%\n"
    }
   }
  },
  {
   "cell_type": "code",
   "execution_count": 19,
   "outputs": [
    {
     "data": {
      "text/plain": "(891, 12)"
     },
     "execution_count": 19,
     "metadata": {},
     "output_type": "execute_result"
    }
   ],
   "source": [
    "df.shape"
   ],
   "metadata": {
    "collapsed": false,
    "pycharm": {
     "name": "#%%\n"
    }
   }
  },
  {
   "cell_type": "markdown",
   "source": [
    "## Распределение выживших среди мужчин и женщин по классу билета."
   ],
   "metadata": {
    "collapsed": false,
    "pycharm": {
     "name": "#%% md\n"
    }
   }
  },
  {
   "cell_type": "code",
   "execution_count": 4,
   "outputs": [
    {
     "data": {
      "text/plain": "Pclass\n1    0.368852\n2    0.157407\n3    0.135447\nName: Survived, dtype: float64"
     },
     "execution_count": 4,
     "metadata": {},
     "output_type": "execute_result"
    }
   ],
   "source": [
    "surv_by_male = df[df.Sex == 'male'].groupby('Pclass').Survived.mean()\n",
    "surv_by_female = df[df.Sex == 'female'].groupby('Pclass').Survived.mean()\n",
    "surv_by_male"
   ],
   "metadata": {
    "collapsed": false,
    "pycharm": {
     "name": "#%%\n"
    }
   }
  },
  {
   "cell_type": "code",
   "execution_count": 8,
   "outputs": [
    {
     "data": {
      "application/vnd.plotly.v1+json": {
       "data": [
        {
         "marker": {
          "color": "blue"
         },
         "name": "Male",
         "text": [
          36.885245901639344,
          15.74074074074074,
          13.544668587896252
         ],
         "x": [
          1,
          2,
          3
         ],
         "y": [
          0.36885245901639346,
          0.1574074074074074,
          0.13544668587896252
         ],
         "type": "bar",
         "textposition": "outside",
         "texttemplate": "%{text:.0f}%"
        },
        {
         "marker": {
          "color": "red"
         },
         "name": "Female",
         "text": [
          96.80851063829788,
          92.10526315789474,
          50.0
         ],
         "x": [
          1,
          2,
          3
         ],
         "y": [
          0.9680851063829787,
          0.9210526315789473,
          0.5
         ],
         "type": "bar",
         "textposition": "outside",
         "texttemplate": "%{text:.0f}%"
        }
       ],
       "layout": {
        "template": {
         "data": {
          "histogram2dcontour": [
           {
            "type": "histogram2dcontour",
            "colorbar": {
             "outlinewidth": 0,
             "ticks": ""
            },
            "colorscale": [
             [
              0.0,
              "#0d0887"
             ],
             [
              0.1111111111111111,
              "#46039f"
             ],
             [
              0.2222222222222222,
              "#7201a8"
             ],
             [
              0.3333333333333333,
              "#9c179e"
             ],
             [
              0.4444444444444444,
              "#bd3786"
             ],
             [
              0.5555555555555556,
              "#d8576b"
             ],
             [
              0.6666666666666666,
              "#ed7953"
             ],
             [
              0.7777777777777778,
              "#fb9f3a"
             ],
             [
              0.8888888888888888,
              "#fdca26"
             ],
             [
              1.0,
              "#f0f921"
             ]
            ]
           }
          ],
          "choropleth": [
           {
            "type": "choropleth",
            "colorbar": {
             "outlinewidth": 0,
             "ticks": ""
            }
           }
          ],
          "histogram2d": [
           {
            "type": "histogram2d",
            "colorbar": {
             "outlinewidth": 0,
             "ticks": ""
            },
            "colorscale": [
             [
              0.0,
              "#0d0887"
             ],
             [
              0.1111111111111111,
              "#46039f"
             ],
             [
              0.2222222222222222,
              "#7201a8"
             ],
             [
              0.3333333333333333,
              "#9c179e"
             ],
             [
              0.4444444444444444,
              "#bd3786"
             ],
             [
              0.5555555555555556,
              "#d8576b"
             ],
             [
              0.6666666666666666,
              "#ed7953"
             ],
             [
              0.7777777777777778,
              "#fb9f3a"
             ],
             [
              0.8888888888888888,
              "#fdca26"
             ],
             [
              1.0,
              "#f0f921"
             ]
            ]
           }
          ],
          "heatmap": [
           {
            "type": "heatmap",
            "colorbar": {
             "outlinewidth": 0,
             "ticks": ""
            },
            "colorscale": [
             [
              0.0,
              "#0d0887"
             ],
             [
              0.1111111111111111,
              "#46039f"
             ],
             [
              0.2222222222222222,
              "#7201a8"
             ],
             [
              0.3333333333333333,
              "#9c179e"
             ],
             [
              0.4444444444444444,
              "#bd3786"
             ],
             [
              0.5555555555555556,
              "#d8576b"
             ],
             [
              0.6666666666666666,
              "#ed7953"
             ],
             [
              0.7777777777777778,
              "#fb9f3a"
             ],
             [
              0.8888888888888888,
              "#fdca26"
             ],
             [
              1.0,
              "#f0f921"
             ]
            ]
           }
          ],
          "heatmapgl": [
           {
            "type": "heatmapgl",
            "colorbar": {
             "outlinewidth": 0,
             "ticks": ""
            },
            "colorscale": [
             [
              0.0,
              "#0d0887"
             ],
             [
              0.1111111111111111,
              "#46039f"
             ],
             [
              0.2222222222222222,
              "#7201a8"
             ],
             [
              0.3333333333333333,
              "#9c179e"
             ],
             [
              0.4444444444444444,
              "#bd3786"
             ],
             [
              0.5555555555555556,
              "#d8576b"
             ],
             [
              0.6666666666666666,
              "#ed7953"
             ],
             [
              0.7777777777777778,
              "#fb9f3a"
             ],
             [
              0.8888888888888888,
              "#fdca26"
             ],
             [
              1.0,
              "#f0f921"
             ]
            ]
           }
          ],
          "contourcarpet": [
           {
            "type": "contourcarpet",
            "colorbar": {
             "outlinewidth": 0,
             "ticks": ""
            }
           }
          ],
          "contour": [
           {
            "type": "contour",
            "colorbar": {
             "outlinewidth": 0,
             "ticks": ""
            },
            "colorscale": [
             [
              0.0,
              "#0d0887"
             ],
             [
              0.1111111111111111,
              "#46039f"
             ],
             [
              0.2222222222222222,
              "#7201a8"
             ],
             [
              0.3333333333333333,
              "#9c179e"
             ],
             [
              0.4444444444444444,
              "#bd3786"
             ],
             [
              0.5555555555555556,
              "#d8576b"
             ],
             [
              0.6666666666666666,
              "#ed7953"
             ],
             [
              0.7777777777777778,
              "#fb9f3a"
             ],
             [
              0.8888888888888888,
              "#fdca26"
             ],
             [
              1.0,
              "#f0f921"
             ]
            ]
           }
          ],
          "surface": [
           {
            "type": "surface",
            "colorbar": {
             "outlinewidth": 0,
             "ticks": ""
            },
            "colorscale": [
             [
              0.0,
              "#0d0887"
             ],
             [
              0.1111111111111111,
              "#46039f"
             ],
             [
              0.2222222222222222,
              "#7201a8"
             ],
             [
              0.3333333333333333,
              "#9c179e"
             ],
             [
              0.4444444444444444,
              "#bd3786"
             ],
             [
              0.5555555555555556,
              "#d8576b"
             ],
             [
              0.6666666666666666,
              "#ed7953"
             ],
             [
              0.7777777777777778,
              "#fb9f3a"
             ],
             [
              0.8888888888888888,
              "#fdca26"
             ],
             [
              1.0,
              "#f0f921"
             ]
            ]
           }
          ],
          "mesh3d": [
           {
            "type": "mesh3d",
            "colorbar": {
             "outlinewidth": 0,
             "ticks": ""
            }
           }
          ],
          "scatter": [
           {
            "marker": {
             "line": {
              "color": "#283442"
             }
            },
            "type": "scatter"
           }
          ],
          "parcoords": [
           {
            "type": "parcoords",
            "line": {
             "colorbar": {
              "outlinewidth": 0,
              "ticks": ""
             }
            }
           }
          ],
          "scatterpolargl": [
           {
            "type": "scatterpolargl",
            "marker": {
             "colorbar": {
              "outlinewidth": 0,
              "ticks": ""
             }
            }
           }
          ],
          "bar": [
           {
            "error_x": {
             "color": "#f2f5fa"
            },
            "error_y": {
             "color": "#f2f5fa"
            },
            "marker": {
             "line": {
              "color": "rgb(17,17,17)",
              "width": 0.5
             },
             "pattern": {
              "fillmode": "overlay",
              "size": 10,
              "solidity": 0.2
             }
            },
            "type": "bar"
           }
          ],
          "scattergeo": [
           {
            "type": "scattergeo",
            "marker": {
             "colorbar": {
              "outlinewidth": 0,
              "ticks": ""
             }
            }
           }
          ],
          "scatterpolar": [
           {
            "type": "scatterpolar",
            "marker": {
             "colorbar": {
              "outlinewidth": 0,
              "ticks": ""
             }
            }
           }
          ],
          "histogram": [
           {
            "marker": {
             "pattern": {
              "fillmode": "overlay",
              "size": 10,
              "solidity": 0.2
             }
            },
            "type": "histogram"
           }
          ],
          "scattergl": [
           {
            "marker": {
             "line": {
              "color": "#283442"
             }
            },
            "type": "scattergl"
           }
          ],
          "scatter3d": [
           {
            "type": "scatter3d",
            "line": {
             "colorbar": {
              "outlinewidth": 0,
              "ticks": ""
             }
            },
            "marker": {
             "colorbar": {
              "outlinewidth": 0,
              "ticks": ""
             }
            }
           }
          ],
          "scattermapbox": [
           {
            "type": "scattermapbox",
            "marker": {
             "colorbar": {
              "outlinewidth": 0,
              "ticks": ""
             }
            }
           }
          ],
          "scatterternary": [
           {
            "type": "scatterternary",
            "marker": {
             "colorbar": {
              "outlinewidth": 0,
              "ticks": ""
             }
            }
           }
          ],
          "scattercarpet": [
           {
            "type": "scattercarpet",
            "marker": {
             "colorbar": {
              "outlinewidth": 0,
              "ticks": ""
             }
            }
           }
          ],
          "carpet": [
           {
            "aaxis": {
             "endlinecolor": "#A2B1C6",
             "gridcolor": "#506784",
             "linecolor": "#506784",
             "minorgridcolor": "#506784",
             "startlinecolor": "#A2B1C6"
            },
            "baxis": {
             "endlinecolor": "#A2B1C6",
             "gridcolor": "#506784",
             "linecolor": "#506784",
             "minorgridcolor": "#506784",
             "startlinecolor": "#A2B1C6"
            },
            "type": "carpet"
           }
          ],
          "table": [
           {
            "cells": {
             "fill": {
              "color": "#506784"
             },
             "line": {
              "color": "rgb(17,17,17)"
             }
            },
            "header": {
             "fill": {
              "color": "#2a3f5f"
             },
             "line": {
              "color": "rgb(17,17,17)"
             }
            },
            "type": "table"
           }
          ],
          "barpolar": [
           {
            "marker": {
             "line": {
              "color": "rgb(17,17,17)",
              "width": 0.5
             },
             "pattern": {
              "fillmode": "overlay",
              "size": 10,
              "solidity": 0.2
             }
            },
            "type": "barpolar"
           }
          ],
          "pie": [
           {
            "automargin": true,
            "type": "pie"
           }
          ]
         },
         "layout": {
          "autotypenumbers": "strict",
          "colorway": [
           "#636efa",
           "#EF553B",
           "#00cc96",
           "#ab63fa",
           "#FFA15A",
           "#19d3f3",
           "#FF6692",
           "#B6E880",
           "#FF97FF",
           "#FECB52"
          ],
          "font": {
           "color": "#f2f5fa"
          },
          "hovermode": "closest",
          "hoverlabel": {
           "align": "left"
          },
          "paper_bgcolor": "rgb(17,17,17)",
          "plot_bgcolor": "rgb(17,17,17)",
          "polar": {
           "bgcolor": "rgb(17,17,17)",
           "angularaxis": {
            "gridcolor": "#506784",
            "linecolor": "#506784",
            "ticks": ""
           },
           "radialaxis": {
            "gridcolor": "#506784",
            "linecolor": "#506784",
            "ticks": ""
           }
          },
          "ternary": {
           "bgcolor": "rgb(17,17,17)",
           "aaxis": {
            "gridcolor": "#506784",
            "linecolor": "#506784",
            "ticks": ""
           },
           "baxis": {
            "gridcolor": "#506784",
            "linecolor": "#506784",
            "ticks": ""
           },
           "caxis": {
            "gridcolor": "#506784",
            "linecolor": "#506784",
            "ticks": ""
           }
          },
          "coloraxis": {
           "colorbar": {
            "outlinewidth": 0,
            "ticks": ""
           }
          },
          "colorscale": {
           "sequential": [
            [
             0.0,
             "#0d0887"
            ],
            [
             0.1111111111111111,
             "#46039f"
            ],
            [
             0.2222222222222222,
             "#7201a8"
            ],
            [
             0.3333333333333333,
             "#9c179e"
            ],
            [
             0.4444444444444444,
             "#bd3786"
            ],
            [
             0.5555555555555556,
             "#d8576b"
            ],
            [
             0.6666666666666666,
             "#ed7953"
            ],
            [
             0.7777777777777778,
             "#fb9f3a"
            ],
            [
             0.8888888888888888,
             "#fdca26"
            ],
            [
             1.0,
             "#f0f921"
            ]
           ],
           "sequentialminus": [
            [
             0.0,
             "#0d0887"
            ],
            [
             0.1111111111111111,
             "#46039f"
            ],
            [
             0.2222222222222222,
             "#7201a8"
            ],
            [
             0.3333333333333333,
             "#9c179e"
            ],
            [
             0.4444444444444444,
             "#bd3786"
            ],
            [
             0.5555555555555556,
             "#d8576b"
            ],
            [
             0.6666666666666666,
             "#ed7953"
            ],
            [
             0.7777777777777778,
             "#fb9f3a"
            ],
            [
             0.8888888888888888,
             "#fdca26"
            ],
            [
             1.0,
             "#f0f921"
            ]
           ],
           "diverging": [
            [
             0,
             "#8e0152"
            ],
            [
             0.1,
             "#c51b7d"
            ],
            [
             0.2,
             "#de77ae"
            ],
            [
             0.3,
             "#f1b6da"
            ],
            [
             0.4,
             "#fde0ef"
            ],
            [
             0.5,
             "#f7f7f7"
            ],
            [
             0.6,
             "#e6f5d0"
            ],
            [
             0.7,
             "#b8e186"
            ],
            [
             0.8,
             "#7fbc41"
            ],
            [
             0.9,
             "#4d9221"
            ],
            [
             1,
             "#276419"
            ]
           ]
          },
          "xaxis": {
           "gridcolor": "#283442",
           "linecolor": "#506784",
           "ticks": "",
           "title": {
            "standoff": 15
           },
           "zerolinecolor": "#283442",
           "automargin": true,
           "zerolinewidth": 2
          },
          "yaxis": {
           "gridcolor": "#283442",
           "linecolor": "#506784",
           "ticks": "",
           "title": {
            "standoff": 15
           },
           "zerolinecolor": "#283442",
           "automargin": true,
           "zerolinewidth": 2
          },
          "scene": {
           "xaxis": {
            "backgroundcolor": "rgb(17,17,17)",
            "gridcolor": "#506784",
            "linecolor": "#506784",
            "showbackground": true,
            "ticks": "",
            "zerolinecolor": "#C8D4E3",
            "gridwidth": 2
           },
           "yaxis": {
            "backgroundcolor": "rgb(17,17,17)",
            "gridcolor": "#506784",
            "linecolor": "#506784",
            "showbackground": true,
            "ticks": "",
            "zerolinecolor": "#C8D4E3",
            "gridwidth": 2
           },
           "zaxis": {
            "backgroundcolor": "rgb(17,17,17)",
            "gridcolor": "#506784",
            "linecolor": "#506784",
            "showbackground": true,
            "ticks": "",
            "zerolinecolor": "#C8D4E3",
            "gridwidth": 2
           }
          },
          "shapedefaults": {
           "line": {
            "color": "#f2f5fa"
           }
          },
          "annotationdefaults": {
           "arrowcolor": "#f2f5fa",
           "arrowhead": 0,
           "arrowwidth": 1
          },
          "geo": {
           "bgcolor": "rgb(17,17,17)",
           "landcolor": "rgb(17,17,17)",
           "subunitcolor": "#506784",
           "showland": true,
           "showlakes": true,
           "lakecolor": "rgb(17,17,17)"
          },
          "title": {
           "x": 0.05
          },
          "updatemenudefaults": {
           "bgcolor": "#506784",
           "borderwidth": 0
          },
          "sliderdefaults": {
           "bgcolor": "#C8D4E3",
           "borderwidth": 1,
           "bordercolor": "rgb(17,17,17)",
           "tickwidth": 0
          },
          "mapbox": {
           "style": "dark"
          }
         }
        }
       },
       "config": {
        "plotlyServerURL": "https://plot.ly"
       }
      },
      "text/html": "<div>                            <div id=\"c3ae86d4-e75a-402b-8c59-a1dea6698538\" class=\"plotly-graph-div\" style=\"height:525px; width:100%;\"></div>            <script type=\"text/javascript\">                require([\"plotly\"], function(Plotly) {                    window.PLOTLYENV=window.PLOTLYENV || {};                                    if (document.getElementById(\"c3ae86d4-e75a-402b-8c59-a1dea6698538\")) {                    Plotly.newPlot(                        \"c3ae86d4-e75a-402b-8c59-a1dea6698538\",                        [{\"marker\":{\"color\":\"blue\"},\"name\":\"Male\",\"text\":[36.885245901639344,15.74074074074074,13.544668587896252],\"x\":[1,2,3],\"y\":[0.36885245901639346,0.1574074074074074,0.13544668587896252],\"type\":\"bar\",\"textposition\":\"outside\",\"texttemplate\":\"%{text:.0f}%\"},{\"marker\":{\"color\":\"red\"},\"name\":\"Female\",\"text\":[96.80851063829788,92.10526315789474,50.0],\"x\":[1,2,3],\"y\":[0.9680851063829787,0.9210526315789473,0.5],\"type\":\"bar\",\"textposition\":\"outside\",\"texttemplate\":\"%{text:.0f}%\"}],                        {\"template\":{\"data\":{\"histogram2dcontour\":[{\"type\":\"histogram2dcontour\",\"colorbar\":{\"outlinewidth\":0,\"ticks\":\"\"},\"colorscale\":[[0.0,\"#0d0887\"],[0.1111111111111111,\"#46039f\"],[0.2222222222222222,\"#7201a8\"],[0.3333333333333333,\"#9c179e\"],[0.4444444444444444,\"#bd3786\"],[0.5555555555555556,\"#d8576b\"],[0.6666666666666666,\"#ed7953\"],[0.7777777777777778,\"#fb9f3a\"],[0.8888888888888888,\"#fdca26\"],[1.0,\"#f0f921\"]]}],\"choropleth\":[{\"type\":\"choropleth\",\"colorbar\":{\"outlinewidth\":0,\"ticks\":\"\"}}],\"histogram2d\":[{\"type\":\"histogram2d\",\"colorbar\":{\"outlinewidth\":0,\"ticks\":\"\"},\"colorscale\":[[0.0,\"#0d0887\"],[0.1111111111111111,\"#46039f\"],[0.2222222222222222,\"#7201a8\"],[0.3333333333333333,\"#9c179e\"],[0.4444444444444444,\"#bd3786\"],[0.5555555555555556,\"#d8576b\"],[0.6666666666666666,\"#ed7953\"],[0.7777777777777778,\"#fb9f3a\"],[0.8888888888888888,\"#fdca26\"],[1.0,\"#f0f921\"]]}],\"heatmap\":[{\"type\":\"heatmap\",\"colorbar\":{\"outlinewidth\":0,\"ticks\":\"\"},\"colorscale\":[[0.0,\"#0d0887\"],[0.1111111111111111,\"#46039f\"],[0.2222222222222222,\"#7201a8\"],[0.3333333333333333,\"#9c179e\"],[0.4444444444444444,\"#bd3786\"],[0.5555555555555556,\"#d8576b\"],[0.6666666666666666,\"#ed7953\"],[0.7777777777777778,\"#fb9f3a\"],[0.8888888888888888,\"#fdca26\"],[1.0,\"#f0f921\"]]}],\"heatmapgl\":[{\"type\":\"heatmapgl\",\"colorbar\":{\"outlinewidth\":0,\"ticks\":\"\"},\"colorscale\":[[0.0,\"#0d0887\"],[0.1111111111111111,\"#46039f\"],[0.2222222222222222,\"#7201a8\"],[0.3333333333333333,\"#9c179e\"],[0.4444444444444444,\"#bd3786\"],[0.5555555555555556,\"#d8576b\"],[0.6666666666666666,\"#ed7953\"],[0.7777777777777778,\"#fb9f3a\"],[0.8888888888888888,\"#fdca26\"],[1.0,\"#f0f921\"]]}],\"contourcarpet\":[{\"type\":\"contourcarpet\",\"colorbar\":{\"outlinewidth\":0,\"ticks\":\"\"}}],\"contour\":[{\"type\":\"contour\",\"colorbar\":{\"outlinewidth\":0,\"ticks\":\"\"},\"colorscale\":[[0.0,\"#0d0887\"],[0.1111111111111111,\"#46039f\"],[0.2222222222222222,\"#7201a8\"],[0.3333333333333333,\"#9c179e\"],[0.4444444444444444,\"#bd3786\"],[0.5555555555555556,\"#d8576b\"],[0.6666666666666666,\"#ed7953\"],[0.7777777777777778,\"#fb9f3a\"],[0.8888888888888888,\"#fdca26\"],[1.0,\"#f0f921\"]]}],\"surface\":[{\"type\":\"surface\",\"colorbar\":{\"outlinewidth\":0,\"ticks\":\"\"},\"colorscale\":[[0.0,\"#0d0887\"],[0.1111111111111111,\"#46039f\"],[0.2222222222222222,\"#7201a8\"],[0.3333333333333333,\"#9c179e\"],[0.4444444444444444,\"#bd3786\"],[0.5555555555555556,\"#d8576b\"],[0.6666666666666666,\"#ed7953\"],[0.7777777777777778,\"#fb9f3a\"],[0.8888888888888888,\"#fdca26\"],[1.0,\"#f0f921\"]]}],\"mesh3d\":[{\"type\":\"mesh3d\",\"colorbar\":{\"outlinewidth\":0,\"ticks\":\"\"}}],\"scatter\":[{\"marker\":{\"line\":{\"color\":\"#283442\"}},\"type\":\"scatter\"}],\"parcoords\":[{\"type\":\"parcoords\",\"line\":{\"colorbar\":{\"outlinewidth\":0,\"ticks\":\"\"}}}],\"scatterpolargl\":[{\"type\":\"scatterpolargl\",\"marker\":{\"colorbar\":{\"outlinewidth\":0,\"ticks\":\"\"}}}],\"bar\":[{\"error_x\":{\"color\":\"#f2f5fa\"},\"error_y\":{\"color\":\"#f2f5fa\"},\"marker\":{\"line\":{\"color\":\"rgb(17,17,17)\",\"width\":0.5},\"pattern\":{\"fillmode\":\"overlay\",\"size\":10,\"solidity\":0.2}},\"type\":\"bar\"}],\"scattergeo\":[{\"type\":\"scattergeo\",\"marker\":{\"colorbar\":{\"outlinewidth\":0,\"ticks\":\"\"}}}],\"scatterpolar\":[{\"type\":\"scatterpolar\",\"marker\":{\"colorbar\":{\"outlinewidth\":0,\"ticks\":\"\"}}}],\"histogram\":[{\"marker\":{\"pattern\":{\"fillmode\":\"overlay\",\"size\":10,\"solidity\":0.2}},\"type\":\"histogram\"}],\"scattergl\":[{\"marker\":{\"line\":{\"color\":\"#283442\"}},\"type\":\"scattergl\"}],\"scatter3d\":[{\"type\":\"scatter3d\",\"line\":{\"colorbar\":{\"outlinewidth\":0,\"ticks\":\"\"}},\"marker\":{\"colorbar\":{\"outlinewidth\":0,\"ticks\":\"\"}}}],\"scattermapbox\":[{\"type\":\"scattermapbox\",\"marker\":{\"colorbar\":{\"outlinewidth\":0,\"ticks\":\"\"}}}],\"scatterternary\":[{\"type\":\"scatterternary\",\"marker\":{\"colorbar\":{\"outlinewidth\":0,\"ticks\":\"\"}}}],\"scattercarpet\":[{\"type\":\"scattercarpet\",\"marker\":{\"colorbar\":{\"outlinewidth\":0,\"ticks\":\"\"}}}],\"carpet\":[{\"aaxis\":{\"endlinecolor\":\"#A2B1C6\",\"gridcolor\":\"#506784\",\"linecolor\":\"#506784\",\"minorgridcolor\":\"#506784\",\"startlinecolor\":\"#A2B1C6\"},\"baxis\":{\"endlinecolor\":\"#A2B1C6\",\"gridcolor\":\"#506784\",\"linecolor\":\"#506784\",\"minorgridcolor\":\"#506784\",\"startlinecolor\":\"#A2B1C6\"},\"type\":\"carpet\"}],\"table\":[{\"cells\":{\"fill\":{\"color\":\"#506784\"},\"line\":{\"color\":\"rgb(17,17,17)\"}},\"header\":{\"fill\":{\"color\":\"#2a3f5f\"},\"line\":{\"color\":\"rgb(17,17,17)\"}},\"type\":\"table\"}],\"barpolar\":[{\"marker\":{\"line\":{\"color\":\"rgb(17,17,17)\",\"width\":0.5},\"pattern\":{\"fillmode\":\"overlay\",\"size\":10,\"solidity\":0.2}},\"type\":\"barpolar\"}],\"pie\":[{\"automargin\":true,\"type\":\"pie\"}]},\"layout\":{\"autotypenumbers\":\"strict\",\"colorway\":[\"#636efa\",\"#EF553B\",\"#00cc96\",\"#ab63fa\",\"#FFA15A\",\"#19d3f3\",\"#FF6692\",\"#B6E880\",\"#FF97FF\",\"#FECB52\"],\"font\":{\"color\":\"#f2f5fa\"},\"hovermode\":\"closest\",\"hoverlabel\":{\"align\":\"left\"},\"paper_bgcolor\":\"rgb(17,17,17)\",\"plot_bgcolor\":\"rgb(17,17,17)\",\"polar\":{\"bgcolor\":\"rgb(17,17,17)\",\"angularaxis\":{\"gridcolor\":\"#506784\",\"linecolor\":\"#506784\",\"ticks\":\"\"},\"radialaxis\":{\"gridcolor\":\"#506784\",\"linecolor\":\"#506784\",\"ticks\":\"\"}},\"ternary\":{\"bgcolor\":\"rgb(17,17,17)\",\"aaxis\":{\"gridcolor\":\"#506784\",\"linecolor\":\"#506784\",\"ticks\":\"\"},\"baxis\":{\"gridcolor\":\"#506784\",\"linecolor\":\"#506784\",\"ticks\":\"\"},\"caxis\":{\"gridcolor\":\"#506784\",\"linecolor\":\"#506784\",\"ticks\":\"\"}},\"coloraxis\":{\"colorbar\":{\"outlinewidth\":0,\"ticks\":\"\"}},\"colorscale\":{\"sequential\":[[0.0,\"#0d0887\"],[0.1111111111111111,\"#46039f\"],[0.2222222222222222,\"#7201a8\"],[0.3333333333333333,\"#9c179e\"],[0.4444444444444444,\"#bd3786\"],[0.5555555555555556,\"#d8576b\"],[0.6666666666666666,\"#ed7953\"],[0.7777777777777778,\"#fb9f3a\"],[0.8888888888888888,\"#fdca26\"],[1.0,\"#f0f921\"]],\"sequentialminus\":[[0.0,\"#0d0887\"],[0.1111111111111111,\"#46039f\"],[0.2222222222222222,\"#7201a8\"],[0.3333333333333333,\"#9c179e\"],[0.4444444444444444,\"#bd3786\"],[0.5555555555555556,\"#d8576b\"],[0.6666666666666666,\"#ed7953\"],[0.7777777777777778,\"#fb9f3a\"],[0.8888888888888888,\"#fdca26\"],[1.0,\"#f0f921\"]],\"diverging\":[[0,\"#8e0152\"],[0.1,\"#c51b7d\"],[0.2,\"#de77ae\"],[0.3,\"#f1b6da\"],[0.4,\"#fde0ef\"],[0.5,\"#f7f7f7\"],[0.6,\"#e6f5d0\"],[0.7,\"#b8e186\"],[0.8,\"#7fbc41\"],[0.9,\"#4d9221\"],[1,\"#276419\"]]},\"xaxis\":{\"gridcolor\":\"#283442\",\"linecolor\":\"#506784\",\"ticks\":\"\",\"title\":{\"standoff\":15},\"zerolinecolor\":\"#283442\",\"automargin\":true,\"zerolinewidth\":2},\"yaxis\":{\"gridcolor\":\"#283442\",\"linecolor\":\"#506784\",\"ticks\":\"\",\"title\":{\"standoff\":15},\"zerolinecolor\":\"#283442\",\"automargin\":true,\"zerolinewidth\":2},\"scene\":{\"xaxis\":{\"backgroundcolor\":\"rgb(17,17,17)\",\"gridcolor\":\"#506784\",\"linecolor\":\"#506784\",\"showbackground\":true,\"ticks\":\"\",\"zerolinecolor\":\"#C8D4E3\",\"gridwidth\":2},\"yaxis\":{\"backgroundcolor\":\"rgb(17,17,17)\",\"gridcolor\":\"#506784\",\"linecolor\":\"#506784\",\"showbackground\":true,\"ticks\":\"\",\"zerolinecolor\":\"#C8D4E3\",\"gridwidth\":2},\"zaxis\":{\"backgroundcolor\":\"rgb(17,17,17)\",\"gridcolor\":\"#506784\",\"linecolor\":\"#506784\",\"showbackground\":true,\"ticks\":\"\",\"zerolinecolor\":\"#C8D4E3\",\"gridwidth\":2}},\"shapedefaults\":{\"line\":{\"color\":\"#f2f5fa\"}},\"annotationdefaults\":{\"arrowcolor\":\"#f2f5fa\",\"arrowhead\":0,\"arrowwidth\":1},\"geo\":{\"bgcolor\":\"rgb(17,17,17)\",\"landcolor\":\"rgb(17,17,17)\",\"subunitcolor\":\"#506784\",\"showland\":true,\"showlakes\":true,\"lakecolor\":\"rgb(17,17,17)\"},\"title\":{\"x\":0.05},\"updatemenudefaults\":{\"bgcolor\":\"#506784\",\"borderwidth\":0},\"sliderdefaults\":{\"bgcolor\":\"#C8D4E3\",\"borderwidth\":1,\"bordercolor\":\"rgb(17,17,17)\",\"tickwidth\":0},\"mapbox\":{\"style\":\"dark\"}}}},                        {\"responsive\": true}                    ).then(function(){\n                            \nvar gd = document.getElementById('c3ae86d4-e75a-402b-8c59-a1dea6698538');\nvar x = new MutationObserver(function (mutations, observer) {{\n        var display = window.getComputedStyle(gd).display;\n        if (!display || display === 'none') {{\n            console.log([gd, 'removed!']);\n            Plotly.purge(gd);\n            observer.disconnect();\n        }}\n}});\n\n// Listen for the removal of the full notebook cells\nvar notebookContainer = gd.closest('#notebook-container');\nif (notebookContainer) {{\n    x.observe(notebookContainer, {childList: true});\n}}\n\n// Listen for the clearing of the current output cell\nvar outputEl = gd.closest('.output');\nif (outputEl) {{\n    x.observe(outputEl, {childList: true});\n}}\n\n                        })                };                });            </script>        </div>"
     },
     "metadata": {},
     "output_type": "display_data"
    }
   ],
   "source": [
    "import plotly.graph_objects as go\n",
    "\n",
    "data = [go.Bar(name='Male', x=surv_by_male.index, y=surv_by_male,\n",
    "               marker_color='blue', text=surv_by_male*100),\n",
    "        go.Bar(name='Female', x=surv_by_female.index, y=surv_by_female,\n",
    "               marker_color='red', text=surv_by_female*100),]\n",
    "fig = go.Figure(data)\n",
    "fig.update_traces(texttemplate='%{text:.0f}%', textposition='outside')\n",
    "fig.show()"
   ],
   "metadata": {
    "collapsed": false,
    "pycharm": {
     "name": "#%%\n"
    }
   }
  },
  {
   "cell_type": "markdown",
   "source": [
    "## Круговая диаграмма для признака \"класс пассажира\" (количество людей в каждом классе)"
   ],
   "metadata": {
    "collapsed": false,
    "pycharm": {
     "name": "#%% md\n"
    }
   }
  },
  {
   "cell_type": "code",
   "execution_count": 9,
   "outputs": [
    {
     "data": {
      "text/plain": "Pclass\n1    216\n2    184\n3    491\ndtype: int64"
     },
     "execution_count": 9,
     "metadata": {},
     "output_type": "execute_result"
    }
   ],
   "source": [
    "size_by_class = df.groupby('Pclass').size()\n",
    "size_by_class"
   ],
   "metadata": {
    "collapsed": false,
    "pycharm": {
     "name": "#%%\n"
    }
   }
  },
  {
   "cell_type": "code",
   "execution_count": 11,
   "outputs": [
    {
     "data": {
      "application/vnd.plotly.v1+json": {
       "data": [
        {
         "domain": {
          "x": [
           0.0,
           1.0
          ],
          "y": [
           0.0,
           1.0
          ]
         },
         "hovertemplate": "Pclass=%{label}<br>value=%{value}<extra></extra>",
         "labels": [
          1,
          2,
          3
         ],
         "legendgroup": "",
         "name": "",
         "showlegend": true,
         "values": [
          216,
          184,
          491
         ],
         "type": "pie"
        }
       ],
       "layout": {
        "template": {
         "data": {
          "histogram2dcontour": [
           {
            "type": "histogram2dcontour",
            "colorbar": {
             "outlinewidth": 0,
             "ticks": ""
            },
            "colorscale": [
             [
              0.0,
              "#0d0887"
             ],
             [
              0.1111111111111111,
              "#46039f"
             ],
             [
              0.2222222222222222,
              "#7201a8"
             ],
             [
              0.3333333333333333,
              "#9c179e"
             ],
             [
              0.4444444444444444,
              "#bd3786"
             ],
             [
              0.5555555555555556,
              "#d8576b"
             ],
             [
              0.6666666666666666,
              "#ed7953"
             ],
             [
              0.7777777777777778,
              "#fb9f3a"
             ],
             [
              0.8888888888888888,
              "#fdca26"
             ],
             [
              1.0,
              "#f0f921"
             ]
            ]
           }
          ],
          "choropleth": [
           {
            "type": "choropleth",
            "colorbar": {
             "outlinewidth": 0,
             "ticks": ""
            }
           }
          ],
          "histogram2d": [
           {
            "type": "histogram2d",
            "colorbar": {
             "outlinewidth": 0,
             "ticks": ""
            },
            "colorscale": [
             [
              0.0,
              "#0d0887"
             ],
             [
              0.1111111111111111,
              "#46039f"
             ],
             [
              0.2222222222222222,
              "#7201a8"
             ],
             [
              0.3333333333333333,
              "#9c179e"
             ],
             [
              0.4444444444444444,
              "#bd3786"
             ],
             [
              0.5555555555555556,
              "#d8576b"
             ],
             [
              0.6666666666666666,
              "#ed7953"
             ],
             [
              0.7777777777777778,
              "#fb9f3a"
             ],
             [
              0.8888888888888888,
              "#fdca26"
             ],
             [
              1.0,
              "#f0f921"
             ]
            ]
           }
          ],
          "heatmap": [
           {
            "type": "heatmap",
            "colorbar": {
             "outlinewidth": 0,
             "ticks": ""
            },
            "colorscale": [
             [
              0.0,
              "#0d0887"
             ],
             [
              0.1111111111111111,
              "#46039f"
             ],
             [
              0.2222222222222222,
              "#7201a8"
             ],
             [
              0.3333333333333333,
              "#9c179e"
             ],
             [
              0.4444444444444444,
              "#bd3786"
             ],
             [
              0.5555555555555556,
              "#d8576b"
             ],
             [
              0.6666666666666666,
              "#ed7953"
             ],
             [
              0.7777777777777778,
              "#fb9f3a"
             ],
             [
              0.8888888888888888,
              "#fdca26"
             ],
             [
              1.0,
              "#f0f921"
             ]
            ]
           }
          ],
          "heatmapgl": [
           {
            "type": "heatmapgl",
            "colorbar": {
             "outlinewidth": 0,
             "ticks": ""
            },
            "colorscale": [
             [
              0.0,
              "#0d0887"
             ],
             [
              0.1111111111111111,
              "#46039f"
             ],
             [
              0.2222222222222222,
              "#7201a8"
             ],
             [
              0.3333333333333333,
              "#9c179e"
             ],
             [
              0.4444444444444444,
              "#bd3786"
             ],
             [
              0.5555555555555556,
              "#d8576b"
             ],
             [
              0.6666666666666666,
              "#ed7953"
             ],
             [
              0.7777777777777778,
              "#fb9f3a"
             ],
             [
              0.8888888888888888,
              "#fdca26"
             ],
             [
              1.0,
              "#f0f921"
             ]
            ]
           }
          ],
          "contourcarpet": [
           {
            "type": "contourcarpet",
            "colorbar": {
             "outlinewidth": 0,
             "ticks": ""
            }
           }
          ],
          "contour": [
           {
            "type": "contour",
            "colorbar": {
             "outlinewidth": 0,
             "ticks": ""
            },
            "colorscale": [
             [
              0.0,
              "#0d0887"
             ],
             [
              0.1111111111111111,
              "#46039f"
             ],
             [
              0.2222222222222222,
              "#7201a8"
             ],
             [
              0.3333333333333333,
              "#9c179e"
             ],
             [
              0.4444444444444444,
              "#bd3786"
             ],
             [
              0.5555555555555556,
              "#d8576b"
             ],
             [
              0.6666666666666666,
              "#ed7953"
             ],
             [
              0.7777777777777778,
              "#fb9f3a"
             ],
             [
              0.8888888888888888,
              "#fdca26"
             ],
             [
              1.0,
              "#f0f921"
             ]
            ]
           }
          ],
          "surface": [
           {
            "type": "surface",
            "colorbar": {
             "outlinewidth": 0,
             "ticks": ""
            },
            "colorscale": [
             [
              0.0,
              "#0d0887"
             ],
             [
              0.1111111111111111,
              "#46039f"
             ],
             [
              0.2222222222222222,
              "#7201a8"
             ],
             [
              0.3333333333333333,
              "#9c179e"
             ],
             [
              0.4444444444444444,
              "#bd3786"
             ],
             [
              0.5555555555555556,
              "#d8576b"
             ],
             [
              0.6666666666666666,
              "#ed7953"
             ],
             [
              0.7777777777777778,
              "#fb9f3a"
             ],
             [
              0.8888888888888888,
              "#fdca26"
             ],
             [
              1.0,
              "#f0f921"
             ]
            ]
           }
          ],
          "mesh3d": [
           {
            "type": "mesh3d",
            "colorbar": {
             "outlinewidth": 0,
             "ticks": ""
            }
           }
          ],
          "scatter": [
           {
            "marker": {
             "line": {
              "color": "#283442"
             }
            },
            "type": "scatter"
           }
          ],
          "parcoords": [
           {
            "type": "parcoords",
            "line": {
             "colorbar": {
              "outlinewidth": 0,
              "ticks": ""
             }
            }
           }
          ],
          "scatterpolargl": [
           {
            "type": "scatterpolargl",
            "marker": {
             "colorbar": {
              "outlinewidth": 0,
              "ticks": ""
             }
            }
           }
          ],
          "bar": [
           {
            "error_x": {
             "color": "#f2f5fa"
            },
            "error_y": {
             "color": "#f2f5fa"
            },
            "marker": {
             "line": {
              "color": "rgb(17,17,17)",
              "width": 0.5
             },
             "pattern": {
              "fillmode": "overlay",
              "size": 10,
              "solidity": 0.2
             }
            },
            "type": "bar"
           }
          ],
          "scattergeo": [
           {
            "type": "scattergeo",
            "marker": {
             "colorbar": {
              "outlinewidth": 0,
              "ticks": ""
             }
            }
           }
          ],
          "scatterpolar": [
           {
            "type": "scatterpolar",
            "marker": {
             "colorbar": {
              "outlinewidth": 0,
              "ticks": ""
             }
            }
           }
          ],
          "histogram": [
           {
            "marker": {
             "pattern": {
              "fillmode": "overlay",
              "size": 10,
              "solidity": 0.2
             }
            },
            "type": "histogram"
           }
          ],
          "scattergl": [
           {
            "marker": {
             "line": {
              "color": "#283442"
             }
            },
            "type": "scattergl"
           }
          ],
          "scatter3d": [
           {
            "type": "scatter3d",
            "line": {
             "colorbar": {
              "outlinewidth": 0,
              "ticks": ""
             }
            },
            "marker": {
             "colorbar": {
              "outlinewidth": 0,
              "ticks": ""
             }
            }
           }
          ],
          "scattermapbox": [
           {
            "type": "scattermapbox",
            "marker": {
             "colorbar": {
              "outlinewidth": 0,
              "ticks": ""
             }
            }
           }
          ],
          "scatterternary": [
           {
            "type": "scatterternary",
            "marker": {
             "colorbar": {
              "outlinewidth": 0,
              "ticks": ""
             }
            }
           }
          ],
          "scattercarpet": [
           {
            "type": "scattercarpet",
            "marker": {
             "colorbar": {
              "outlinewidth": 0,
              "ticks": ""
             }
            }
           }
          ],
          "carpet": [
           {
            "aaxis": {
             "endlinecolor": "#A2B1C6",
             "gridcolor": "#506784",
             "linecolor": "#506784",
             "minorgridcolor": "#506784",
             "startlinecolor": "#A2B1C6"
            },
            "baxis": {
             "endlinecolor": "#A2B1C6",
             "gridcolor": "#506784",
             "linecolor": "#506784",
             "minorgridcolor": "#506784",
             "startlinecolor": "#A2B1C6"
            },
            "type": "carpet"
           }
          ],
          "table": [
           {
            "cells": {
             "fill": {
              "color": "#506784"
             },
             "line": {
              "color": "rgb(17,17,17)"
             }
            },
            "header": {
             "fill": {
              "color": "#2a3f5f"
             },
             "line": {
              "color": "rgb(17,17,17)"
             }
            },
            "type": "table"
           }
          ],
          "barpolar": [
           {
            "marker": {
             "line": {
              "color": "rgb(17,17,17)",
              "width": 0.5
             },
             "pattern": {
              "fillmode": "overlay",
              "size": 10,
              "solidity": 0.2
             }
            },
            "type": "barpolar"
           }
          ],
          "pie": [
           {
            "automargin": true,
            "type": "pie"
           }
          ]
         },
         "layout": {
          "autotypenumbers": "strict",
          "colorway": [
           "#636efa",
           "#EF553B",
           "#00cc96",
           "#ab63fa",
           "#FFA15A",
           "#19d3f3",
           "#FF6692",
           "#B6E880",
           "#FF97FF",
           "#FECB52"
          ],
          "font": {
           "color": "#f2f5fa"
          },
          "hovermode": "closest",
          "hoverlabel": {
           "align": "left"
          },
          "paper_bgcolor": "rgb(17,17,17)",
          "plot_bgcolor": "rgb(17,17,17)",
          "polar": {
           "bgcolor": "rgb(17,17,17)",
           "angularaxis": {
            "gridcolor": "#506784",
            "linecolor": "#506784",
            "ticks": ""
           },
           "radialaxis": {
            "gridcolor": "#506784",
            "linecolor": "#506784",
            "ticks": ""
           }
          },
          "ternary": {
           "bgcolor": "rgb(17,17,17)",
           "aaxis": {
            "gridcolor": "#506784",
            "linecolor": "#506784",
            "ticks": ""
           },
           "baxis": {
            "gridcolor": "#506784",
            "linecolor": "#506784",
            "ticks": ""
           },
           "caxis": {
            "gridcolor": "#506784",
            "linecolor": "#506784",
            "ticks": ""
           }
          },
          "coloraxis": {
           "colorbar": {
            "outlinewidth": 0,
            "ticks": ""
           }
          },
          "colorscale": {
           "sequential": [
            [
             0.0,
             "#0d0887"
            ],
            [
             0.1111111111111111,
             "#46039f"
            ],
            [
             0.2222222222222222,
             "#7201a8"
            ],
            [
             0.3333333333333333,
             "#9c179e"
            ],
            [
             0.4444444444444444,
             "#bd3786"
            ],
            [
             0.5555555555555556,
             "#d8576b"
            ],
            [
             0.6666666666666666,
             "#ed7953"
            ],
            [
             0.7777777777777778,
             "#fb9f3a"
            ],
            [
             0.8888888888888888,
             "#fdca26"
            ],
            [
             1.0,
             "#f0f921"
            ]
           ],
           "sequentialminus": [
            [
             0.0,
             "#0d0887"
            ],
            [
             0.1111111111111111,
             "#46039f"
            ],
            [
             0.2222222222222222,
             "#7201a8"
            ],
            [
             0.3333333333333333,
             "#9c179e"
            ],
            [
             0.4444444444444444,
             "#bd3786"
            ],
            [
             0.5555555555555556,
             "#d8576b"
            ],
            [
             0.6666666666666666,
             "#ed7953"
            ],
            [
             0.7777777777777778,
             "#fb9f3a"
            ],
            [
             0.8888888888888888,
             "#fdca26"
            ],
            [
             1.0,
             "#f0f921"
            ]
           ],
           "diverging": [
            [
             0,
             "#8e0152"
            ],
            [
             0.1,
             "#c51b7d"
            ],
            [
             0.2,
             "#de77ae"
            ],
            [
             0.3,
             "#f1b6da"
            ],
            [
             0.4,
             "#fde0ef"
            ],
            [
             0.5,
             "#f7f7f7"
            ],
            [
             0.6,
             "#e6f5d0"
            ],
            [
             0.7,
             "#b8e186"
            ],
            [
             0.8,
             "#7fbc41"
            ],
            [
             0.9,
             "#4d9221"
            ],
            [
             1,
             "#276419"
            ]
           ]
          },
          "xaxis": {
           "gridcolor": "#283442",
           "linecolor": "#506784",
           "ticks": "",
           "title": {
            "standoff": 15
           },
           "zerolinecolor": "#283442",
           "automargin": true,
           "zerolinewidth": 2
          },
          "yaxis": {
           "gridcolor": "#283442",
           "linecolor": "#506784",
           "ticks": "",
           "title": {
            "standoff": 15
           },
           "zerolinecolor": "#283442",
           "automargin": true,
           "zerolinewidth": 2
          },
          "scene": {
           "xaxis": {
            "backgroundcolor": "rgb(17,17,17)",
            "gridcolor": "#506784",
            "linecolor": "#506784",
            "showbackground": true,
            "ticks": "",
            "zerolinecolor": "#C8D4E3",
            "gridwidth": 2
           },
           "yaxis": {
            "backgroundcolor": "rgb(17,17,17)",
            "gridcolor": "#506784",
            "linecolor": "#506784",
            "showbackground": true,
            "ticks": "",
            "zerolinecolor": "#C8D4E3",
            "gridwidth": 2
           },
           "zaxis": {
            "backgroundcolor": "rgb(17,17,17)",
            "gridcolor": "#506784",
            "linecolor": "#506784",
            "showbackground": true,
            "ticks": "",
            "zerolinecolor": "#C8D4E3",
            "gridwidth": 2
           }
          },
          "shapedefaults": {
           "line": {
            "color": "#f2f5fa"
           }
          },
          "annotationdefaults": {
           "arrowcolor": "#f2f5fa",
           "arrowhead": 0,
           "arrowwidth": 1
          },
          "geo": {
           "bgcolor": "rgb(17,17,17)",
           "landcolor": "rgb(17,17,17)",
           "subunitcolor": "#506784",
           "showland": true,
           "showlakes": true,
           "lakecolor": "rgb(17,17,17)"
          },
          "title": {
           "x": 0.05
          },
          "updatemenudefaults": {
           "bgcolor": "#506784",
           "borderwidth": 0
          },
          "sliderdefaults": {
           "bgcolor": "#C8D4E3",
           "borderwidth": 1,
           "bordercolor": "rgb(17,17,17)",
           "tickwidth": 0
          },
          "mapbox": {
           "style": "dark"
          }
         }
        },
        "legend": {
         "tracegroupgap": 0
        },
        "margin": {
         "t": 60
        }
       },
       "config": {
        "plotlyServerURL": "https://plot.ly"
       }
      },
      "text/html": "<div>                            <div id=\"380568ed-3113-4673-9acc-9b33a0d7df10\" class=\"plotly-graph-div\" style=\"height:525px; width:100%;\"></div>            <script type=\"text/javascript\">                require([\"plotly\"], function(Plotly) {                    window.PLOTLYENV=window.PLOTLYENV || {};                                    if (document.getElementById(\"380568ed-3113-4673-9acc-9b33a0d7df10\")) {                    Plotly.newPlot(                        \"380568ed-3113-4673-9acc-9b33a0d7df10\",                        [{\"domain\":{\"x\":[0.0,1.0],\"y\":[0.0,1.0]},\"hovertemplate\":\"Pclass=%{label}<br>value=%{value}<extra></extra>\",\"labels\":[1,2,3],\"legendgroup\":\"\",\"name\":\"\",\"showlegend\":true,\"values\":[216,184,491],\"type\":\"pie\"}],                        {\"template\":{\"data\":{\"histogram2dcontour\":[{\"type\":\"histogram2dcontour\",\"colorbar\":{\"outlinewidth\":0,\"ticks\":\"\"},\"colorscale\":[[0.0,\"#0d0887\"],[0.1111111111111111,\"#46039f\"],[0.2222222222222222,\"#7201a8\"],[0.3333333333333333,\"#9c179e\"],[0.4444444444444444,\"#bd3786\"],[0.5555555555555556,\"#d8576b\"],[0.6666666666666666,\"#ed7953\"],[0.7777777777777778,\"#fb9f3a\"],[0.8888888888888888,\"#fdca26\"],[1.0,\"#f0f921\"]]}],\"choropleth\":[{\"type\":\"choropleth\",\"colorbar\":{\"outlinewidth\":0,\"ticks\":\"\"}}],\"histogram2d\":[{\"type\":\"histogram2d\",\"colorbar\":{\"outlinewidth\":0,\"ticks\":\"\"},\"colorscale\":[[0.0,\"#0d0887\"],[0.1111111111111111,\"#46039f\"],[0.2222222222222222,\"#7201a8\"],[0.3333333333333333,\"#9c179e\"],[0.4444444444444444,\"#bd3786\"],[0.5555555555555556,\"#d8576b\"],[0.6666666666666666,\"#ed7953\"],[0.7777777777777778,\"#fb9f3a\"],[0.8888888888888888,\"#fdca26\"],[1.0,\"#f0f921\"]]}],\"heatmap\":[{\"type\":\"heatmap\",\"colorbar\":{\"outlinewidth\":0,\"ticks\":\"\"},\"colorscale\":[[0.0,\"#0d0887\"],[0.1111111111111111,\"#46039f\"],[0.2222222222222222,\"#7201a8\"],[0.3333333333333333,\"#9c179e\"],[0.4444444444444444,\"#bd3786\"],[0.5555555555555556,\"#d8576b\"],[0.6666666666666666,\"#ed7953\"],[0.7777777777777778,\"#fb9f3a\"],[0.8888888888888888,\"#fdca26\"],[1.0,\"#f0f921\"]]}],\"heatmapgl\":[{\"type\":\"heatmapgl\",\"colorbar\":{\"outlinewidth\":0,\"ticks\":\"\"},\"colorscale\":[[0.0,\"#0d0887\"],[0.1111111111111111,\"#46039f\"],[0.2222222222222222,\"#7201a8\"],[0.3333333333333333,\"#9c179e\"],[0.4444444444444444,\"#bd3786\"],[0.5555555555555556,\"#d8576b\"],[0.6666666666666666,\"#ed7953\"],[0.7777777777777778,\"#fb9f3a\"],[0.8888888888888888,\"#fdca26\"],[1.0,\"#f0f921\"]]}],\"contourcarpet\":[{\"type\":\"contourcarpet\",\"colorbar\":{\"outlinewidth\":0,\"ticks\":\"\"}}],\"contour\":[{\"type\":\"contour\",\"colorbar\":{\"outlinewidth\":0,\"ticks\":\"\"},\"colorscale\":[[0.0,\"#0d0887\"],[0.1111111111111111,\"#46039f\"],[0.2222222222222222,\"#7201a8\"],[0.3333333333333333,\"#9c179e\"],[0.4444444444444444,\"#bd3786\"],[0.5555555555555556,\"#d8576b\"],[0.6666666666666666,\"#ed7953\"],[0.7777777777777778,\"#fb9f3a\"],[0.8888888888888888,\"#fdca26\"],[1.0,\"#f0f921\"]]}],\"surface\":[{\"type\":\"surface\",\"colorbar\":{\"outlinewidth\":0,\"ticks\":\"\"},\"colorscale\":[[0.0,\"#0d0887\"],[0.1111111111111111,\"#46039f\"],[0.2222222222222222,\"#7201a8\"],[0.3333333333333333,\"#9c179e\"],[0.4444444444444444,\"#bd3786\"],[0.5555555555555556,\"#d8576b\"],[0.6666666666666666,\"#ed7953\"],[0.7777777777777778,\"#fb9f3a\"],[0.8888888888888888,\"#fdca26\"],[1.0,\"#f0f921\"]]}],\"mesh3d\":[{\"type\":\"mesh3d\",\"colorbar\":{\"outlinewidth\":0,\"ticks\":\"\"}}],\"scatter\":[{\"marker\":{\"line\":{\"color\":\"#283442\"}},\"type\":\"scatter\"}],\"parcoords\":[{\"type\":\"parcoords\",\"line\":{\"colorbar\":{\"outlinewidth\":0,\"ticks\":\"\"}}}],\"scatterpolargl\":[{\"type\":\"scatterpolargl\",\"marker\":{\"colorbar\":{\"outlinewidth\":0,\"ticks\":\"\"}}}],\"bar\":[{\"error_x\":{\"color\":\"#f2f5fa\"},\"error_y\":{\"color\":\"#f2f5fa\"},\"marker\":{\"line\":{\"color\":\"rgb(17,17,17)\",\"width\":0.5},\"pattern\":{\"fillmode\":\"overlay\",\"size\":10,\"solidity\":0.2}},\"type\":\"bar\"}],\"scattergeo\":[{\"type\":\"scattergeo\",\"marker\":{\"colorbar\":{\"outlinewidth\":0,\"ticks\":\"\"}}}],\"scatterpolar\":[{\"type\":\"scatterpolar\",\"marker\":{\"colorbar\":{\"outlinewidth\":0,\"ticks\":\"\"}}}],\"histogram\":[{\"marker\":{\"pattern\":{\"fillmode\":\"overlay\",\"size\":10,\"solidity\":0.2}},\"type\":\"histogram\"}],\"scattergl\":[{\"marker\":{\"line\":{\"color\":\"#283442\"}},\"type\":\"scattergl\"}],\"scatter3d\":[{\"type\":\"scatter3d\",\"line\":{\"colorbar\":{\"outlinewidth\":0,\"ticks\":\"\"}},\"marker\":{\"colorbar\":{\"outlinewidth\":0,\"ticks\":\"\"}}}],\"scattermapbox\":[{\"type\":\"scattermapbox\",\"marker\":{\"colorbar\":{\"outlinewidth\":0,\"ticks\":\"\"}}}],\"scatterternary\":[{\"type\":\"scatterternary\",\"marker\":{\"colorbar\":{\"outlinewidth\":0,\"ticks\":\"\"}}}],\"scattercarpet\":[{\"type\":\"scattercarpet\",\"marker\":{\"colorbar\":{\"outlinewidth\":0,\"ticks\":\"\"}}}],\"carpet\":[{\"aaxis\":{\"endlinecolor\":\"#A2B1C6\",\"gridcolor\":\"#506784\",\"linecolor\":\"#506784\",\"minorgridcolor\":\"#506784\",\"startlinecolor\":\"#A2B1C6\"},\"baxis\":{\"endlinecolor\":\"#A2B1C6\",\"gridcolor\":\"#506784\",\"linecolor\":\"#506784\",\"minorgridcolor\":\"#506784\",\"startlinecolor\":\"#A2B1C6\"},\"type\":\"carpet\"}],\"table\":[{\"cells\":{\"fill\":{\"color\":\"#506784\"},\"line\":{\"color\":\"rgb(17,17,17)\"}},\"header\":{\"fill\":{\"color\":\"#2a3f5f\"},\"line\":{\"color\":\"rgb(17,17,17)\"}},\"type\":\"table\"}],\"barpolar\":[{\"marker\":{\"line\":{\"color\":\"rgb(17,17,17)\",\"width\":0.5},\"pattern\":{\"fillmode\":\"overlay\",\"size\":10,\"solidity\":0.2}},\"type\":\"barpolar\"}],\"pie\":[{\"automargin\":true,\"type\":\"pie\"}]},\"layout\":{\"autotypenumbers\":\"strict\",\"colorway\":[\"#636efa\",\"#EF553B\",\"#00cc96\",\"#ab63fa\",\"#FFA15A\",\"#19d3f3\",\"#FF6692\",\"#B6E880\",\"#FF97FF\",\"#FECB52\"],\"font\":{\"color\":\"#f2f5fa\"},\"hovermode\":\"closest\",\"hoverlabel\":{\"align\":\"left\"},\"paper_bgcolor\":\"rgb(17,17,17)\",\"plot_bgcolor\":\"rgb(17,17,17)\",\"polar\":{\"bgcolor\":\"rgb(17,17,17)\",\"angularaxis\":{\"gridcolor\":\"#506784\",\"linecolor\":\"#506784\",\"ticks\":\"\"},\"radialaxis\":{\"gridcolor\":\"#506784\",\"linecolor\":\"#506784\",\"ticks\":\"\"}},\"ternary\":{\"bgcolor\":\"rgb(17,17,17)\",\"aaxis\":{\"gridcolor\":\"#506784\",\"linecolor\":\"#506784\",\"ticks\":\"\"},\"baxis\":{\"gridcolor\":\"#506784\",\"linecolor\":\"#506784\",\"ticks\":\"\"},\"caxis\":{\"gridcolor\":\"#506784\",\"linecolor\":\"#506784\",\"ticks\":\"\"}},\"coloraxis\":{\"colorbar\":{\"outlinewidth\":0,\"ticks\":\"\"}},\"colorscale\":{\"sequential\":[[0.0,\"#0d0887\"],[0.1111111111111111,\"#46039f\"],[0.2222222222222222,\"#7201a8\"],[0.3333333333333333,\"#9c179e\"],[0.4444444444444444,\"#bd3786\"],[0.5555555555555556,\"#d8576b\"],[0.6666666666666666,\"#ed7953\"],[0.7777777777777778,\"#fb9f3a\"],[0.8888888888888888,\"#fdca26\"],[1.0,\"#f0f921\"]],\"sequentialminus\":[[0.0,\"#0d0887\"],[0.1111111111111111,\"#46039f\"],[0.2222222222222222,\"#7201a8\"],[0.3333333333333333,\"#9c179e\"],[0.4444444444444444,\"#bd3786\"],[0.5555555555555556,\"#d8576b\"],[0.6666666666666666,\"#ed7953\"],[0.7777777777777778,\"#fb9f3a\"],[0.8888888888888888,\"#fdca26\"],[1.0,\"#f0f921\"]],\"diverging\":[[0,\"#8e0152\"],[0.1,\"#c51b7d\"],[0.2,\"#de77ae\"],[0.3,\"#f1b6da\"],[0.4,\"#fde0ef\"],[0.5,\"#f7f7f7\"],[0.6,\"#e6f5d0\"],[0.7,\"#b8e186\"],[0.8,\"#7fbc41\"],[0.9,\"#4d9221\"],[1,\"#276419\"]]},\"xaxis\":{\"gridcolor\":\"#283442\",\"linecolor\":\"#506784\",\"ticks\":\"\",\"title\":{\"standoff\":15},\"zerolinecolor\":\"#283442\",\"automargin\":true,\"zerolinewidth\":2},\"yaxis\":{\"gridcolor\":\"#283442\",\"linecolor\":\"#506784\",\"ticks\":\"\",\"title\":{\"standoff\":15},\"zerolinecolor\":\"#283442\",\"automargin\":true,\"zerolinewidth\":2},\"scene\":{\"xaxis\":{\"backgroundcolor\":\"rgb(17,17,17)\",\"gridcolor\":\"#506784\",\"linecolor\":\"#506784\",\"showbackground\":true,\"ticks\":\"\",\"zerolinecolor\":\"#C8D4E3\",\"gridwidth\":2},\"yaxis\":{\"backgroundcolor\":\"rgb(17,17,17)\",\"gridcolor\":\"#506784\",\"linecolor\":\"#506784\",\"showbackground\":true,\"ticks\":\"\",\"zerolinecolor\":\"#C8D4E3\",\"gridwidth\":2},\"zaxis\":{\"backgroundcolor\":\"rgb(17,17,17)\",\"gridcolor\":\"#506784\",\"linecolor\":\"#506784\",\"showbackground\":true,\"ticks\":\"\",\"zerolinecolor\":\"#C8D4E3\",\"gridwidth\":2}},\"shapedefaults\":{\"line\":{\"color\":\"#f2f5fa\"}},\"annotationdefaults\":{\"arrowcolor\":\"#f2f5fa\",\"arrowhead\":0,\"arrowwidth\":1},\"geo\":{\"bgcolor\":\"rgb(17,17,17)\",\"landcolor\":\"rgb(17,17,17)\",\"subunitcolor\":\"#506784\",\"showland\":true,\"showlakes\":true,\"lakecolor\":\"rgb(17,17,17)\"},\"title\":{\"x\":0.05},\"updatemenudefaults\":{\"bgcolor\":\"#506784\",\"borderwidth\":0},\"sliderdefaults\":{\"bgcolor\":\"#C8D4E3\",\"borderwidth\":1,\"bordercolor\":\"rgb(17,17,17)\",\"tickwidth\":0},\"mapbox\":{\"style\":\"dark\"}}},\"legend\":{\"tracegroupgap\":0},\"margin\":{\"t\":60}},                        {\"responsive\": true}                    ).then(function(){\n                            \nvar gd = document.getElementById('380568ed-3113-4673-9acc-9b33a0d7df10');\nvar x = new MutationObserver(function (mutations, observer) {{\n        var display = window.getComputedStyle(gd).display;\n        if (!display || display === 'none') {{\n            console.log([gd, 'removed!']);\n            Plotly.purge(gd);\n            observer.disconnect();\n        }}\n}});\n\n// Listen for the removal of the full notebook cells\nvar notebookContainer = gd.closest('#notebook-container');\nif (notebookContainer) {{\n    x.observe(notebookContainer, {childList: true});\n}}\n\n// Listen for the clearing of the current output cell\nvar outputEl = gd.closest('.output');\nif (outputEl) {{\n    x.observe(outputEl, {childList: true});\n}}\n\n                        })                };                });            </script>        </div>"
     },
     "metadata": {},
     "output_type": "display_data"
    }
   ],
   "source": [
    "import plotly.express as px\n",
    "\n",
    "fig = px.pie(size_by_class, values=size_by_class, names=size_by_class.index)\n",
    "fig.show()"
   ],
   "metadata": {
    "collapsed": false,
    "pycharm": {
     "name": "#%%\n"
    }
   }
  },
  {
   "cell_type": "markdown",
   "source": [
    "## Распределение возрастов всех пассажиров."
   ],
   "metadata": {
    "collapsed": false,
    "pycharm": {
     "name": "#%% md\n"
    }
   }
  },
  {
   "cell_type": "code",
   "execution_count": 20,
   "outputs": [
    {
     "data": {
      "text/plain": "177"
     },
     "execution_count": 20,
     "metadata": {},
     "output_type": "execute_result"
    }
   ],
   "source": [
    "df.Age.isnull().sum()"
   ],
   "metadata": {
    "collapsed": false,
    "pycharm": {
     "name": "#%%\n"
    }
   }
  },
  {
   "cell_type": "code",
   "execution_count": 21,
   "outputs": [
    {
     "data": {
      "text/plain": "714"
     },
     "execution_count": 21,
     "metadata": {},
     "output_type": "execute_result"
    }
   ],
   "source": [
    "ages = df.Age.dropna()\n",
    "len(ages)"
   ],
   "metadata": {
    "collapsed": false,
    "pycharm": {
     "name": "#%%\n"
    }
   }
  },
  {
   "cell_type": "code",
   "execution_count": 22,
   "outputs": [
    {
     "data": {
      "application/vnd.plotly.v1+json": {
       "data": [
        {
         "autobinx": false,
         "histnorm": "probability density",
         "legendgroup": "Возраст",
         "marker": {
          "color": "rgb(31, 119, 180)"
         },
         "name": "Возраст",
         "opacity": 0.7,
         "x": [
          22.0,
          38.0,
          26.0,
          35.0,
          35.0,
          54.0,
          2.0,
          27.0,
          14.0,
          4.0,
          58.0,
          20.0,
          39.0,
          14.0,
          55.0,
          2.0,
          31.0,
          35.0,
          34.0,
          15.0,
          28.0,
          8.0,
          38.0,
          19.0,
          40.0,
          66.0,
          28.0,
          42.0,
          21.0,
          18.0,
          14.0,
          40.0,
          27.0,
          3.0,
          19.0,
          18.0,
          7.0,
          21.0,
          49.0,
          29.0,
          65.0,
          21.0,
          28.5,
          5.0,
          11.0,
          22.0,
          38.0,
          45.0,
          4.0,
          29.0,
          19.0,
          17.0,
          26.0,
          32.0,
          16.0,
          21.0,
          26.0,
          32.0,
          25.0,
          0.83,
          30.0,
          22.0,
          29.0,
          28.0,
          17.0,
          33.0,
          16.0,
          23.0,
          24.0,
          29.0,
          20.0,
          46.0,
          26.0,
          59.0,
          71.0,
          23.0,
          34.0,
          34.0,
          28.0,
          21.0,
          33.0,
          37.0,
          28.0,
          21.0,
          38.0,
          47.0,
          14.5,
          22.0,
          20.0,
          17.0,
          21.0,
          70.5,
          29.0,
          24.0,
          2.0,
          21.0,
          32.5,
          32.5,
          54.0,
          12.0,
          24.0,
          45.0,
          33.0,
          20.0,
          47.0,
          29.0,
          25.0,
          23.0,
          19.0,
          37.0,
          16.0,
          24.0,
          22.0,
          24.0,
          19.0,
          18.0,
          19.0,
          27.0,
          9.0,
          36.5,
          42.0,
          51.0,
          22.0,
          55.5,
          40.5,
          51.0,
          16.0,
          30.0,
          44.0,
          40.0,
          26.0,
          17.0,
          1.0,
          9.0,
          45.0,
          28.0,
          61.0,
          4.0,
          1.0,
          21.0,
          56.0,
          18.0,
          50.0,
          30.0,
          36.0,
          9.0,
          1.0,
          4.0,
          45.0,
          40.0,
          36.0,
          32.0,
          19.0,
          19.0,
          3.0,
          44.0,
          58.0,
          42.0,
          24.0,
          28.0,
          34.0,
          45.5,
          18.0,
          2.0,
          32.0,
          26.0,
          16.0,
          40.0,
          24.0,
          35.0,
          22.0,
          30.0,
          31.0,
          27.0,
          42.0,
          32.0,
          30.0,
          16.0,
          27.0,
          51.0,
          38.0,
          22.0,
          19.0,
          20.5,
          18.0,
          35.0,
          29.0,
          59.0,
          5.0,
          24.0,
          44.0,
          8.0,
          19.0,
          33.0,
          29.0,
          22.0,
          30.0,
          44.0,
          25.0,
          24.0,
          37.0,
          54.0,
          29.0,
          62.0,
          30.0,
          41.0,
          29.0,
          30.0,
          35.0,
          50.0,
          3.0,
          52.0,
          40.0,
          36.0,
          16.0,
          25.0,
          58.0,
          35.0,
          25.0,
          41.0,
          37.0,
          63.0,
          45.0,
          7.0,
          35.0,
          65.0,
          28.0,
          16.0,
          19.0,
          33.0,
          30.0,
          22.0,
          42.0,
          22.0,
          26.0,
          19.0,
          36.0,
          24.0,
          24.0,
          23.5,
          2.0,
          50.0,
          19.0,
          0.92,
          17.0,
          30.0,
          30.0,
          24.0,
          18.0,
          26.0,
          28.0,
          43.0,
          26.0,
          24.0,
          54.0,
          31.0,
          40.0,
          22.0,
          27.0,
          30.0,
          22.0,
          36.0,
          61.0,
          36.0,
          31.0,
          16.0,
          45.5,
          38.0,
          16.0,
          29.0,
          41.0,
          45.0,
          45.0,
          2.0,
          24.0,
          28.0,
          25.0,
          36.0,
          24.0,
          40.0,
          3.0,
          42.0,
          23.0,
          15.0,
          25.0,
          28.0,
          22.0,
          38.0,
          40.0,
          29.0,
          45.0,
          35.0,
          30.0,
          60.0,
          24.0,
          25.0,
          18.0,
          19.0,
          22.0,
          3.0,
          22.0,
          27.0,
          20.0,
          19.0,
          42.0,
          1.0,
          32.0,
          35.0,
          18.0,
          1.0,
          36.0,
          17.0,
          36.0,
          21.0,
          28.0,
          23.0,
          24.0,
          22.0,
          31.0,
          46.0,
          23.0,
          28.0,
          39.0,
          26.0,
          21.0,
          28.0,
          20.0,
          34.0,
          51.0,
          3.0,
          21.0,
          33.0,
          44.0,
          34.0,
          18.0,
          30.0,
          10.0,
          21.0,
          29.0,
          28.0,
          18.0,
          28.0,
          19.0,
          32.0,
          28.0,
          42.0,
          17.0,
          50.0,
          14.0,
          21.0,
          24.0,
          64.0,
          31.0,
          45.0,
          20.0,
          25.0,
          28.0,
          4.0,
          13.0,
          34.0,
          5.0,
          52.0,
          36.0,
          30.0,
          49.0,
          29.0,
          65.0,
          50.0,
          48.0,
          34.0,
          47.0,
          48.0,
          38.0,
          56.0,
          0.75,
          38.0,
          33.0,
          23.0,
          22.0,
          34.0,
          29.0,
          22.0,
          2.0,
          9.0,
          50.0,
          63.0,
          25.0,
          35.0,
          58.0,
          30.0,
          9.0,
          21.0,
          55.0,
          71.0,
          21.0,
          54.0,
          25.0,
          24.0,
          17.0,
          21.0,
          37.0,
          16.0,
          18.0,
          33.0,
          28.0,
          26.0,
          29.0,
          36.0,
          54.0,
          24.0,
          47.0,
          34.0,
          36.0,
          32.0,
          30.0,
          22.0,
          44.0,
          40.5,
          50.0,
          39.0,
          23.0,
          2.0,
          17.0,
          30.0,
          7.0,
          45.0,
          30.0,
          22.0,
          36.0,
          9.0,
          11.0,
          32.0,
          50.0,
          64.0,
          19.0,
          33.0,
          8.0,
          17.0,
          27.0,
          22.0,
          22.0,
          62.0,
          48.0,
          39.0,
          36.0,
          40.0,
          28.0,
          24.0,
          19.0,
          29.0,
          32.0,
          62.0,
          53.0,
          36.0,
          16.0,
          19.0,
          34.0,
          39.0,
          32.0,
          25.0,
          39.0,
          54.0,
          36.0,
          18.0,
          47.0,
          60.0,
          22.0,
          35.0,
          52.0,
          47.0,
          37.0,
          36.0,
          49.0,
          49.0,
          24.0,
          44.0,
          35.0,
          36.0,
          30.0,
          27.0,
          22.0,
          40.0,
          39.0,
          35.0,
          24.0,
          34.0,
          26.0,
          4.0,
          26.0,
          27.0,
          42.0,
          20.0,
          21.0,
          21.0,
          61.0,
          57.0,
          21.0,
          26.0,
          80.0,
          51.0,
          32.0,
          9.0,
          28.0,
          32.0,
          31.0,
          41.0,
          20.0,
          24.0,
          2.0,
          0.75,
          48.0,
          19.0,
          56.0,
          23.0,
          18.0,
          21.0,
          18.0,
          24.0,
          32.0,
          23.0,
          58.0,
          50.0,
          40.0,
          47.0,
          36.0,
          20.0,
          32.0,
          25.0,
          43.0,
          40.0,
          31.0,
          70.0,
          31.0,
          18.0,
          24.5,
          18.0,
          43.0,
          36.0,
          27.0,
          20.0,
          14.0,
          60.0,
          25.0,
          14.0,
          19.0,
          18.0,
          15.0,
          31.0,
          4.0,
          25.0,
          60.0,
          52.0,
          44.0,
          49.0,
          42.0,
          18.0,
          35.0,
          18.0,
          25.0,
          26.0,
          39.0,
          45.0,
          42.0,
          22.0,
          24.0,
          48.0,
          29.0,
          52.0,
          19.0,
          38.0,
          27.0,
          33.0,
          6.0,
          17.0,
          34.0,
          50.0,
          27.0,
          20.0,
          30.0,
          25.0,
          25.0,
          29.0,
          11.0,
          23.0,
          23.0,
          28.5,
          48.0,
          35.0,
          36.0,
          21.0,
          24.0,
          31.0,
          70.0,
          16.0,
          30.0,
          19.0,
          31.0,
          4.0,
          6.0,
          33.0,
          23.0,
          48.0,
          0.67,
          28.0,
          18.0,
          34.0,
          33.0,
          41.0,
          20.0,
          36.0,
          16.0,
          51.0,
          30.5,
          32.0,
          24.0,
          48.0,
          57.0,
          54.0,
          18.0,
          5.0,
          43.0,
          13.0,
          17.0,
          29.0,
          25.0,
          25.0,
          18.0,
          8.0,
          1.0,
          46.0,
          16.0,
          25.0,
          39.0,
          49.0,
          31.0,
          30.0,
          30.0,
          34.0,
          31.0,
          11.0,
          0.42,
          27.0,
          31.0,
          39.0,
          18.0,
          39.0,
          33.0,
          26.0,
          39.0,
          35.0,
          6.0,
          30.5,
          23.0,
          31.0,
          43.0,
          10.0,
          52.0,
          27.0,
          38.0,
          27.0,
          2.0,
          1.0,
          62.0,
          15.0,
          0.83,
          23.0,
          18.0,
          39.0,
          21.0,
          32.0,
          20.0,
          16.0,
          30.0,
          34.5,
          17.0,
          42.0,
          35.0,
          28.0,
          4.0,
          74.0,
          9.0,
          16.0,
          44.0,
          18.0,
          45.0,
          51.0,
          24.0,
          41.0,
          21.0,
          48.0,
          24.0,
          42.0,
          27.0,
          31.0,
          4.0,
          26.0,
          47.0,
          33.0,
          47.0,
          28.0,
          15.0,
          20.0,
          19.0,
          56.0,
          25.0,
          33.0,
          22.0,
          28.0,
          25.0,
          39.0,
          27.0,
          19.0,
          26.0,
          32.0
         ],
         "xaxis": "x",
         "xbins": {
          "end": 80.0,
          "size": 1.0,
          "start": 0.42
         },
         "yaxis": "y",
         "type": "histogram"
        },
        {
         "legendgroup": "Возраст",
         "marker": {
          "color": "rgb(31, 119, 180)"
         },
         "mode": "lines",
         "name": "Возраст",
         "showlegend": false,
         "x": [
          0.42,
          0.57916,
          0.73832,
          0.89748,
          1.05664,
          1.2158,
          1.37496,
          1.53412,
          1.69328,
          1.85244,
          2.0116,
          2.17076,
          2.32992,
          2.48908,
          2.64824,
          2.8074,
          2.96656,
          3.12572,
          3.2848800000000002,
          3.4440399999999998,
          3.6031999999999997,
          3.76236,
          3.92152,
          4.08068,
          4.23984,
          4.399,
          4.55816,
          4.71732,
          4.87648,
          5.03564,
          5.1948,
          5.35396,
          5.51312,
          5.67228,
          5.83144,
          5.9906,
          6.149760000000001,
          6.30892,
          6.46808,
          6.62724,
          6.7863999999999995,
          6.9455599999999995,
          7.10472,
          7.26388,
          7.42304,
          7.582199999999999,
          7.741359999999999,
          7.900519999999999,
          8.05968,
          8.21884,
          8.378,
          8.53716,
          8.69632,
          8.85548,
          9.01464,
          9.1738,
          9.33296,
          9.492119999999998,
          9.65128,
          9.81044,
          9.9696,
          10.12876,
          10.28792,
          10.44708,
          10.60624,
          10.7654,
          10.92456,
          11.08372,
          11.24288,
          11.40204,
          11.5612,
          11.720360000000001,
          11.879520000000001,
          12.03868,
          12.19784,
          12.357,
          12.51616,
          12.67532,
          12.83448,
          12.99364,
          13.1528,
          13.31196,
          13.471119999999999,
          13.630279999999999,
          13.78944,
          13.9486,
          14.10776,
          14.26692,
          14.42608,
          14.585239999999999,
          14.744399999999999,
          14.903559999999999,
          15.062719999999999,
          15.221879999999999,
          15.381039999999999,
          15.540199999999999,
          15.69936,
          15.85852,
          16.017680000000002,
          16.176840000000002,
          16.336000000000002,
          16.495160000000002,
          16.654320000000002,
          16.813480000000002,
          16.972640000000002,
          17.131800000000002,
          17.290960000000002,
          17.450120000000002,
          17.609280000000002,
          17.768440000000002,
          17.9276,
          18.08676,
          18.24592,
          18.405079999999998,
          18.564239999999998,
          18.723399999999998,
          18.88256,
          19.04172,
          19.20088,
          19.36004,
          19.5192,
          19.67836,
          19.83752,
          19.99668,
          20.15584,
          20.315,
          20.47416,
          20.63332,
          20.79248,
          20.95164,
          21.1108,
          21.26996,
          21.42912,
          21.58828,
          21.74744,
          21.9066,
          22.06576,
          22.22492,
          22.38408,
          22.54324,
          22.7024,
          22.861560000000004,
          23.020720000000004,
          23.179880000000004,
          23.339040000000004,
          23.498200000000004,
          23.65736,
          23.81652,
          23.97568,
          24.13484,
          24.294,
          24.45316,
          24.61232,
          24.77148,
          24.93064,
          25.0898,
          25.24896,
          25.40812,
          25.56728,
          25.72644,
          25.8856,
          26.04476,
          26.20392,
          26.36308,
          26.52224,
          26.6814,
          26.84056,
          26.999720000000003,
          27.158880000000003,
          27.318040000000003,
          27.477200000000003,
          27.636360000000003,
          27.795520000000003,
          27.954680000000003,
          28.113840000000003,
          28.273000000000003,
          28.432160000000003,
          28.591320000000003,
          28.75048,
          28.90964,
          29.0688,
          29.22796,
          29.38712,
          29.54628,
          29.70544,
          29.8646,
          30.02376,
          30.18292,
          30.34208,
          30.50124,
          30.6604,
          30.81956,
          30.978720000000003,
          31.137880000000003,
          31.297040000000003,
          31.456200000000003,
          31.615360000000003,
          31.774520000000003,
          31.933680000000003,
          32.09284,
          32.252,
          32.41116,
          32.57032,
          32.72948,
          32.88864,
          33.0478,
          33.20696,
          33.36612,
          33.52528,
          33.68444,
          33.8436,
          34.00276,
          34.16192,
          34.32108,
          34.48024,
          34.6394,
          34.79856,
          34.95772,
          35.11688,
          35.27604,
          35.4352,
          35.59436,
          35.75352,
          35.91268,
          36.07184,
          36.231,
          36.390159999999995,
          36.54932,
          36.708479999999994,
          36.86764,
          37.026799999999994,
          37.18596,
          37.34512,
          37.50428,
          37.66344,
          37.8226,
          37.98176,
          38.14092,
          38.30008,
          38.45924,
          38.6184,
          38.77756,
          38.93672,
          39.09588,
          39.25504,
          39.4142,
          39.57336,
          39.73252,
          39.89168,
          40.05084,
          40.21,
          40.36916,
          40.52832,
          40.68748,
          40.84664,
          41.0058,
          41.16496,
          41.32412000000001,
          41.48328,
          41.64244,
          41.8016,
          41.96076,
          42.11992,
          42.27908,
          42.43824,
          42.5974,
          42.75656,
          42.91572,
          43.07488,
          43.23404,
          43.3932,
          43.55236,
          43.71152,
          43.87068,
          44.02984,
          44.189,
          44.34816,
          44.50732,
          44.66648,
          44.82564,
          44.9848,
          45.14396,
          45.30312000000001,
          45.46228,
          45.62144000000001,
          45.7806,
          45.93976000000001,
          46.09892,
          46.25808000000001,
          46.41724,
          46.57640000000001,
          46.73556,
          46.89472,
          47.05388,
          47.21304,
          47.3722,
          47.53136,
          47.69052,
          47.84968,
          48.00884,
          48.168,
          48.32716,
          48.48632,
          48.64548,
          48.80464,
          48.9638,
          49.12296,
          49.28212,
          49.44128,
          49.600440000000006,
          49.7596,
          49.918760000000006,
          50.07792,
          50.237080000000006,
          50.39624,
          50.555400000000006,
          50.71456,
          50.873720000000006,
          51.03288,
          51.192040000000006,
          51.3512,
          51.510360000000006,
          51.66952,
          51.82868,
          51.98784,
          52.147,
          52.30616,
          52.46532,
          52.62448,
          52.78364,
          52.9428,
          53.10196,
          53.26112,
          53.42028,
          53.579440000000005,
          53.7386,
          53.897760000000005,
          54.05692,
          54.216080000000005,
          54.37524,
          54.534400000000005,
          54.69356,
          54.852720000000005,
          55.01188,
          55.171040000000005,
          55.3302,
          55.489360000000005,
          55.64852,
          55.807680000000005,
          55.96684,
          56.126000000000005,
          56.28516,
          56.444320000000005,
          56.60348,
          56.762640000000005,
          56.9218,
          57.08096,
          57.24012,
          57.39928,
          57.558440000000004,
          57.7176,
          57.876760000000004,
          58.03592,
          58.195080000000004,
          58.35424,
          58.513400000000004,
          58.67256,
          58.831720000000004,
          58.99088,
          59.150040000000004,
          59.3092,
          59.468360000000004,
          59.62752,
          59.786680000000004,
          59.94584,
          60.105000000000004,
          60.26416,
          60.423320000000004,
          60.58248,
          60.741640000000004,
          60.9008,
          61.059960000000004,
          61.21912,
          61.378280000000004,
          61.537440000000004,
          61.696600000000004,
          61.855760000000004,
          62.01492,
          62.174080000000004,
          62.333239999999996,
          62.4924,
          62.651559999999996,
          62.81072,
          62.969879999999996,
          63.12904,
          63.288199999999996,
          63.44736,
          63.606519999999996,
          63.76568,
          63.924839999999996,
          64.084,
          64.24315999999999,
          64.40232,
          64.56148,
          64.72064,
          64.8798,
          65.03896,
          65.19812,
          65.35728,
          65.51644,
          65.6756,
          65.83476,
          65.99392,
          66.15308,
          66.31224,
          66.4714,
          66.63056,
          66.78972,
          66.94888,
          67.10803999999999,
          67.2672,
          67.42636,
          67.58552,
          67.74467999999999,
          67.90384,
          68.063,
          68.22216,
          68.38131999999999,
          68.54048,
          68.69964,
          68.8588,
          69.01795999999999,
          69.17712,
          69.33628,
          69.49544,
          69.65459999999999,
          69.81376,
          69.97292,
          70.13208,
          70.29124,
          70.4504,
          70.60956,
          70.76872,
          70.92788,
          71.08704,
          71.2462,
          71.40536,
          71.56452,
          71.72368,
          71.88284,
          72.042,
          72.20116,
          72.36031999999999,
          72.51948,
          72.67864,
          72.8378,
          72.99695999999999,
          73.15612,
          73.31528,
          73.47444,
          73.63359999999999,
          73.79276,
          73.95192,
          74.11108,
          74.27024,
          74.4294,
          74.58856,
          74.74772,
          74.90688,
          75.06604,
          75.2252,
          75.38436,
          75.54352,
          75.70268,
          75.86184,
          76.021,
          76.18016,
          76.33932,
          76.49848,
          76.65764,
          76.8168,
          76.97596,
          77.13512,
          77.29428,
          77.45344,
          77.61259999999999,
          77.77176,
          77.93092,
          78.09008,
          78.24924,
          78.4084,
          78.56756,
          78.72672,
          78.88588,
          79.04504,
          79.2042,
          79.36336,
          79.52252,
          79.68168,
          79.84084
         ],
         "xaxis": "x",
         "y": [
          0.005709426317874258,
          0.005842364372311964,
          0.00597121675930296,
          0.006095672425124251,
          0.006215439174474732,
          0.00633024551930831,
          0.006439842391322168,
          0.006544004704095993,
          0.006642532752605729,
          0.006735253439716993,
          0.0068220213212738905,
          0.006902719463504154,
          0.006977260108635788,
          0.007045585146825771,
          0.007107666394706483,
          0.007163505683029732,
          0.007213134757990635,
          0.007256615002823084,
          0.0072940369881342015,
          0.007325519861165331,
          0.007351210585704809,
          0.00737128304570744,
          0.007385937026783323,
          0.007395397090583769,
          0.007399911357727831,
          0.007399750215269518,
          0.007395204964801818,
          0.007386586427131955,
          0.0073742235190471205,
          0.0073584618170341315,
          0.007339662121933598,
          0.007318199037417905,
          0.0072944595739062226,
          0.007268841788090623,
          0.00724175346667891,
          0.0072136108612846014,
          0.007184837479651802,
          0.007155862936619086,
          0.007127121866439912,
          0.007099052896316365,
          0.007072097679305547,
          0.007046699983149644,
          0.0070233048300952445,
          0.007002357681429617,
          0.006984303659297261,
          0.006969586797387695,
          0.006958649311327556,
          0.006951930879073706,
          0.006949867921306699,
          0.006952892871763366,
          0.006961433427631744,
          0.0069759117705524,
          0.006996743749423439,
          0.007024338017080179,
          0.007059095113997902,
          0.007101406493430153,
          0.007151653483822762,
          0.007210206185910159,
          0.007277422303577958,
          0.007353645909335502,
          0.007439206147052262,
          0.0075344158764412755,
          0.007639570265588971,
          0.007754945339601244,
          0.00788079649512824,
          0.008017356992118538,
          0.008164836435600651,
          0.008323419261579569,
          0.008493263242235394,
          0.00867449802650456,
          0.008867223732791819,
          0.009071509610989183,
          0.009287392791155162,
          0.00951487713612922,
          0.009753932215018564,
          0.010004492413897637,
          0.010266456199214331,
          0.010539685548306138,
          0.010824005560110404,
          0.011119204257620922,
          0.01142503259192061,
          0.011741204655725698,
          0.012067398112341829,
          0.012403254843780461,
          0.012748381819547256,
          0.013102352185320472,
          0.01346470656842382,
          0.013834954594690746,
          0.014212576609051689,
          0.01459702558998411,
          0.01498772924587133,
          0.015384092279358282,
          0.015785498803989512,
          0.016191314895790104,
          0.01660089126103463,
          0.017013566000248018,
          0.01742866744752074,
          0.017845517063503027,
          0.01826343235998146,
          0.01868172983373559,
          0.019099727887426435,
          0.01951674971557406,
          0.019932126134234743,
          0.020345198333776036,
          0.020755320535153696,
          0.021161862531308365,
          0.021564212096688757,
          0.02196177724946537,
          0.02235398835268375,
          0.022740300042407624,
          0.023120192972782082,
          0.023493175369882,
          0.02385878438817718,
          0.024216587265409883,
          0.024566182273616205,
          0.024907199465915433,
          0.025239301220501227,
          0.025562182584990725,
          0.02587557142589111,
          0.026179228389418205,
          0.026472946681233865,
          0.026756551673848526,
          0.027029900351450947,
          0.0272928806027805,
          0.027545410373349566,
          0.02778743668884058,
          0.028018934561872724,
          0.02823990579454869,
          0.02845037768925723,
          0.02865040168015778,
          0.028840051897590025,
          0.02901942367738141,
          0.029188632026649484,
          0.02934781005726748,
          0.029497107397660254,
          0.02963668859306256,
          0.02976673150380528,
          0.029887425710623236,
          0.029998970935387854,
          0.03010157548510609,
          0.030195454726462297,
          0.03028082959765582,
          0.030357925163773912,
          0.03042696922147708,
          0.030488190958319596,
          0.030541819671623914,
          0.0305880835514427,
          0.03062720853177196,
          0.03065941721384723,
          0.03068492786500992,
          0.030703953496306603,
          0.030716701021654098,
          0.030723370501055013,
          0.030724154469991216,
          0.03071923735673942,
          0.030708794988939248,
          0.030692994190301106,
          0.030671992467858896,
          0.030645937789659402,
          0.030614968452228157,
          0.03057921303656782,
          0.030538790450835605,
          0.030493810057210947,
          0.03044437187981971,
          0.030390566889928947,
          0.030332477363976384,
          0.03027017730937543,
          0.030203732952428602,
          0.030133203282125338,
          0.030058640643092546,
          0.02998009137052401,
          0.029897596459544363,
          0.02981119226118673,
          0.029720911196972156,
          0.02962678248399121,
          0.02952883286241286,
          0.029427087317463733,
          0.029321569788164553,
          0.02921230385544834,
          0.029099313402730774,
          0.02898262324254612,
          0.028862259703488696,
          0.028738251172405384,
          0.02861062858755619,
          0.028479425879277206,
          0.02834468035553803,
          0.02820643303065983,
          0.028064728896338008,
          0.027919617134978376,
          0.02777115127619157,
          0.027619389298081796,
          0.027464393675696357,
          0.027306231379666698,
          0.027144973828644198,
          0.026980696799628244,
          0.02681348030066343,
          0.026643408410674106,
          0.026470569091379893,
          0.026295053976312658,
          0.026116958141924197,
          0.0259363798656507,
          0.025753420375580902,
          0.02556818359607648,
          0.025380775893323434,
          0.025191305824361257,
          0.024999883892660325,
          0.024806622312805972,
          0.02461163478631614,
          0.024415036290081606,
          0.024216942878386244,
          0.02401747149895424,
          0.023816739822985572,
          0.0236148660887051,
          0.023411968957556453,
          0.023208167381834493,
          0.02300358048228271,
          0.022798327433965444,
          0.022592527358587935,
          0.022386299221355956,
          0.02217976173045805,
          0.021973033237294114,
          0.02176623163568064,
          0.02155947425841048,
          0.021352877769735403,
          0.021146558052562693,
          0.020940630089408205,
          0.020735207836405704,
          0.020530404089949224,
          0.020326330345807456,
          0.020123096650813264,
          0.01992081144746963,
          0.019719581412038573,
          0.019519511286865136,
          0.019320703707856414,
          0.019123259028154514,
          0.018927275139139346,
          0.018732847289945582,
          0.018540067906700763,
          0.018349026412676144,
          0.018159809050497633,
          0.017972498707491832,
          0.017787174745152658,
          0.017603912833601083,
          0.017422784791789853,
          0.017243858434078378,
          0.017067197423671812,
          0.016892861133295356,
          0.016720904513356998,
          0.01655137796775013,
          0.01638432723736062,
          0.01621979329127511,
          0.016057812225644487,
          0.015898415170131925,
          0.01574162820187808,
          0.015587472266940672,
          0.015435963109211628,
          0.015287111206884715,
          0.015140921716628675,
          0.014997394425725917,
          0.014856523712543939,
          0.014718298515831858,
          0.014582702313453688,
          0.014449713111296504,
          0.014319303443210632,
          0.014191440382948759,
          0.014066085569169856,
          0.013943195244657659,
          0.013822720310966046,
          0.013704606399745327,
          0.013588793962023579,
          0.0134752183767053,
          0.013363810079516678,
          0.013254494713562623,
          0.013147193302566267,
          0.013041822447742324,
          0.012938294549108305,
          0.012836518051859628,
          0.012736397718237468,
          0.01263783492509462,
          0.012540727987121199,
          0.01244497250543209,
          0.012350461740941,
          0.012257087011660728,
          0.012164738112772277,
          0.012073303758007248,
          0.011982672040587708,
          0.011892730911670172,
          0.01180336867395195,
          0.011714474487819761,
          0.011625938887156398,
          0.011537654301679048,
          0.011449515582461057,
          0.011361420527094537,
          0.011273270400787247,
          0.011184970449556624,
          0.011096430401588347,
          0.011007564952771155,
          0.010918294232405704,
          0.01082854424511113,
          0.010738247285027161,
          0.010647342318524199,
          0.010555775331796623,
          0.010463499639919696,
          0.01037047615419943,
          0.010276673604936294,
          0.010182068717052545,
          0.010086646336399302,
          0.009990399504958425,
          0.009893329483580338,
          0.009795445721349947,
          0.009696765771140996,
          0.009597315151401869,
          0.00949712715470266,
          0.009396242604063687,
          0.00929470955856943,
          0.009192582970242296,
          0.009089924294606842,
          0.008986801057802746,
          0.008883286383508172,
          0.008779458483298428,
          0.008675400114394376,
          0.008571198009035334,
          0.008466942279950278,
          0.008362725806586271,
          0.008258643606889158,
          0.00815479219951512,
          0.008051268961381194,
          0.007948171485442227,
          0.007845596943508722,
          0.007743641458799678,
          0.007642399492758022,
          0.00754196325044723,
          0.007442422108601864,
          0.0073438620701235776,
          0.0072463652485057475,
          0.007150009385336963,
          0.007054867403683325,
          0.00696100699978443,
          0.006868490275128061,
          0.0067773734105930575,
          0.006687706383978161,
          0.006599532731870285,
          0.006512889356449455,
          0.006427806377489244,
          0.006344307029487488,
          0.006262407603560045,
          0.006182117433448972,
          0.006103438924739296,
          0.006026367626144003,
          0.005950892341508795,
          0.005876995281001322,
          0.005804652249788555,
          0.005733832872365437,
          0.005664500850578841,
          0.005596614253290372,
          0.005530125835538201,
          0.0054649833849891435,
          0.0054011300934166725,
          0.00533850495089468,
          0.005277043160359853,
          0.005216676570164962,
          0.005157334122218924,
          0.005098942313287893,
          0.005041425667008673,
          0.00498470721414792,
          0.004928708978619205,
          0.004873352466751225,
          0.004818559157280462,
          0.004764250989522123,
          0.00471035084715598,
          0.004656783035046826,
          0.004603473746507498,
          0.004550351518405035,
          0.004497347671509397,
          0.0044443967334925,
          0.004391436842003572,
          0.004338410125278295,
          0.004285263057784168,
          0.004231946788468477,
          0.004178417439254532,
          0.004124636371534675,
          0.0040705704185308176,
          0.004016192081540287,
          0.003961479688254404,
          0.00390641751153314,
          0.0038509958472387924,
          0.0037952110499769763,
          0.003739065525862129,
          0.0036825676817174363,
          0.0036257318304330497,
          0.0035685780525404986,
          0.0035111320144117215,
          0.0034534247438572164,
          0.003395492364273543,
          0.003337375788873944,
          0.003279120376922279,
          0.003220775554275405,
          0.003162394400917443,
          0.003104033208536734,
          0.0030457510115472737,
          0.0029876090952847445,
          0.002929670485410603,
          0.0028719994228267125,
          0.0028146608286370957,
          0.002757719763884471,
          0.0027012408889354887,
          0.0026452879274845463,
          0.0025899231401891563,
          0.0025352068129379833,
          0.002481196764682465,
          0.002427947879634975,
          0.002375511668449088,
          0.0023239358627521,
          0.002273264047097462,
          0.0022235353320480254,
          0.0021747840716928287,
          0.0021270396284449374,
          0.002080326187470927,
          0.002034662622568695,
          0.0019900624147474308,
          0.001946533624177543,
          0.001904078915577472,
          0.0018626956364964367,
          0.0018223759473458957,
          0.0017831070014354725,
          0.0017448711726911253,
          0.0017076463281810114,
          0.0016714061420573993,
          0.001636120447047672,
          0.0016017556192011665,
          0.001568274991227637,
          0.0015356392894531018,
          0.0015038070891738769,
          0.0014727352830136403,
          0.0014423795567833659,
          0.0014126948673120903,
          0.0013836359167568736,
          0.0013551576180128055,
          0.0013272155460260639,
          0.0012997663700620192,
          0.0012727682622914688,
          0.001246181278426629,
          0.0012199677065585278,
          0.0011940923808117997,
          0.0011685229569347773,
          0.0011432301474740985,
          0.0011181879147357334,
          0.0010933736203002195,
          0.0010687681304303348,
          0.001044355877276464,
          0.0010201248763403554,
          9.96066701194103E-4,
          9.721764169610307E-4,
          9.4845247454192E-4,
          9.248965680081115E-4,
          9.015134579767554E-4,
          8.783107641293504E-4,
          8.552987303284898E-4,
          8.324899660274635E-4,
          8.098991678509556E-4,
          7.875428253522487E-4,
          7.654389150226986E-4,
          7.436065866442778E-4,
          7.220658460368221E-4,
          7.008372381615131E-4,
          6.799415344032923E-4,
          6.593994276718045E-4,
          6.392312387367708E-4,
          6.194566369542179E-4,
          6.000943782495396E-4,
          5.811620629070012E-4,
          5.626759153783915E-4,
          5.446505879712143E-4,
          5.270989899144351E-4,
          5.100321429325232E-4,
          4.934590640912729E-4,
          4.7738667631645266E-4,
          4.618197466332141E-4,
          4.467608518343717E-4,
          4.322103709631555E-4,
          4.181665036939644E-4,
          4.0462531341612116E-4,
          3.915807935730738E-4,
          3.790249555850235E-4,
          3.669479364881771E-4,
          3.5533812425988235E-4,
          3.4418229866661044E-4,
          3.334657853713798E-4,
          3.231726209686152E-4,
          3.1328572657734024E-4,
          3.0378708761689694E-4,
          2.946579374121699E-4,
          2.858789423258744E-4,
          2.7743038619226296E-4,
          2.692923519274874E-4,
          2.614448983146813E-4,
          2.5386823010416996E-4,
          2.465428597285566E-4,
          2.394497591060854E-4,
          2.3257050019095924E-4
         ],
         "yaxis": "y",
         "type": "scatter"
        },
        {
         "legendgroup": "Возраст",
         "marker": {
          "color": "rgb(31, 119, 180)",
          "symbol": "line-ns-open"
         },
         "mode": "markers",
         "name": "Возраст",
         "showlegend": false,
         "x": [
          22.0,
          38.0,
          26.0,
          35.0,
          35.0,
          54.0,
          2.0,
          27.0,
          14.0,
          4.0,
          58.0,
          20.0,
          39.0,
          14.0,
          55.0,
          2.0,
          31.0,
          35.0,
          34.0,
          15.0,
          28.0,
          8.0,
          38.0,
          19.0,
          40.0,
          66.0,
          28.0,
          42.0,
          21.0,
          18.0,
          14.0,
          40.0,
          27.0,
          3.0,
          19.0,
          18.0,
          7.0,
          21.0,
          49.0,
          29.0,
          65.0,
          21.0,
          28.5,
          5.0,
          11.0,
          22.0,
          38.0,
          45.0,
          4.0,
          29.0,
          19.0,
          17.0,
          26.0,
          32.0,
          16.0,
          21.0,
          26.0,
          32.0,
          25.0,
          0.83,
          30.0,
          22.0,
          29.0,
          28.0,
          17.0,
          33.0,
          16.0,
          23.0,
          24.0,
          29.0,
          20.0,
          46.0,
          26.0,
          59.0,
          71.0,
          23.0,
          34.0,
          34.0,
          28.0,
          21.0,
          33.0,
          37.0,
          28.0,
          21.0,
          38.0,
          47.0,
          14.5,
          22.0,
          20.0,
          17.0,
          21.0,
          70.5,
          29.0,
          24.0,
          2.0,
          21.0,
          32.5,
          32.5,
          54.0,
          12.0,
          24.0,
          45.0,
          33.0,
          20.0,
          47.0,
          29.0,
          25.0,
          23.0,
          19.0,
          37.0,
          16.0,
          24.0,
          22.0,
          24.0,
          19.0,
          18.0,
          19.0,
          27.0,
          9.0,
          36.5,
          42.0,
          51.0,
          22.0,
          55.5,
          40.5,
          51.0,
          16.0,
          30.0,
          44.0,
          40.0,
          26.0,
          17.0,
          1.0,
          9.0,
          45.0,
          28.0,
          61.0,
          4.0,
          1.0,
          21.0,
          56.0,
          18.0,
          50.0,
          30.0,
          36.0,
          9.0,
          1.0,
          4.0,
          45.0,
          40.0,
          36.0,
          32.0,
          19.0,
          19.0,
          3.0,
          44.0,
          58.0,
          42.0,
          24.0,
          28.0,
          34.0,
          45.5,
          18.0,
          2.0,
          32.0,
          26.0,
          16.0,
          40.0,
          24.0,
          35.0,
          22.0,
          30.0,
          31.0,
          27.0,
          42.0,
          32.0,
          30.0,
          16.0,
          27.0,
          51.0,
          38.0,
          22.0,
          19.0,
          20.5,
          18.0,
          35.0,
          29.0,
          59.0,
          5.0,
          24.0,
          44.0,
          8.0,
          19.0,
          33.0,
          29.0,
          22.0,
          30.0,
          44.0,
          25.0,
          24.0,
          37.0,
          54.0,
          29.0,
          62.0,
          30.0,
          41.0,
          29.0,
          30.0,
          35.0,
          50.0,
          3.0,
          52.0,
          40.0,
          36.0,
          16.0,
          25.0,
          58.0,
          35.0,
          25.0,
          41.0,
          37.0,
          63.0,
          45.0,
          7.0,
          35.0,
          65.0,
          28.0,
          16.0,
          19.0,
          33.0,
          30.0,
          22.0,
          42.0,
          22.0,
          26.0,
          19.0,
          36.0,
          24.0,
          24.0,
          23.5,
          2.0,
          50.0,
          19.0,
          0.92,
          17.0,
          30.0,
          30.0,
          24.0,
          18.0,
          26.0,
          28.0,
          43.0,
          26.0,
          24.0,
          54.0,
          31.0,
          40.0,
          22.0,
          27.0,
          30.0,
          22.0,
          36.0,
          61.0,
          36.0,
          31.0,
          16.0,
          45.5,
          38.0,
          16.0,
          29.0,
          41.0,
          45.0,
          45.0,
          2.0,
          24.0,
          28.0,
          25.0,
          36.0,
          24.0,
          40.0,
          3.0,
          42.0,
          23.0,
          15.0,
          25.0,
          28.0,
          22.0,
          38.0,
          40.0,
          29.0,
          45.0,
          35.0,
          30.0,
          60.0,
          24.0,
          25.0,
          18.0,
          19.0,
          22.0,
          3.0,
          22.0,
          27.0,
          20.0,
          19.0,
          42.0,
          1.0,
          32.0,
          35.0,
          18.0,
          1.0,
          36.0,
          17.0,
          36.0,
          21.0,
          28.0,
          23.0,
          24.0,
          22.0,
          31.0,
          46.0,
          23.0,
          28.0,
          39.0,
          26.0,
          21.0,
          28.0,
          20.0,
          34.0,
          51.0,
          3.0,
          21.0,
          33.0,
          44.0,
          34.0,
          18.0,
          30.0,
          10.0,
          21.0,
          29.0,
          28.0,
          18.0,
          28.0,
          19.0,
          32.0,
          28.0,
          42.0,
          17.0,
          50.0,
          14.0,
          21.0,
          24.0,
          64.0,
          31.0,
          45.0,
          20.0,
          25.0,
          28.0,
          4.0,
          13.0,
          34.0,
          5.0,
          52.0,
          36.0,
          30.0,
          49.0,
          29.0,
          65.0,
          50.0,
          48.0,
          34.0,
          47.0,
          48.0,
          38.0,
          56.0,
          0.75,
          38.0,
          33.0,
          23.0,
          22.0,
          34.0,
          29.0,
          22.0,
          2.0,
          9.0,
          50.0,
          63.0,
          25.0,
          35.0,
          58.0,
          30.0,
          9.0,
          21.0,
          55.0,
          71.0,
          21.0,
          54.0,
          25.0,
          24.0,
          17.0,
          21.0,
          37.0,
          16.0,
          18.0,
          33.0,
          28.0,
          26.0,
          29.0,
          36.0,
          54.0,
          24.0,
          47.0,
          34.0,
          36.0,
          32.0,
          30.0,
          22.0,
          44.0,
          40.5,
          50.0,
          39.0,
          23.0,
          2.0,
          17.0,
          30.0,
          7.0,
          45.0,
          30.0,
          22.0,
          36.0,
          9.0,
          11.0,
          32.0,
          50.0,
          64.0,
          19.0,
          33.0,
          8.0,
          17.0,
          27.0,
          22.0,
          22.0,
          62.0,
          48.0,
          39.0,
          36.0,
          40.0,
          28.0,
          24.0,
          19.0,
          29.0,
          32.0,
          62.0,
          53.0,
          36.0,
          16.0,
          19.0,
          34.0,
          39.0,
          32.0,
          25.0,
          39.0,
          54.0,
          36.0,
          18.0,
          47.0,
          60.0,
          22.0,
          35.0,
          52.0,
          47.0,
          37.0,
          36.0,
          49.0,
          49.0,
          24.0,
          44.0,
          35.0,
          36.0,
          30.0,
          27.0,
          22.0,
          40.0,
          39.0,
          35.0,
          24.0,
          34.0,
          26.0,
          4.0,
          26.0,
          27.0,
          42.0,
          20.0,
          21.0,
          21.0,
          61.0,
          57.0,
          21.0,
          26.0,
          80.0,
          51.0,
          32.0,
          9.0,
          28.0,
          32.0,
          31.0,
          41.0,
          20.0,
          24.0,
          2.0,
          0.75,
          48.0,
          19.0,
          56.0,
          23.0,
          18.0,
          21.0,
          18.0,
          24.0,
          32.0,
          23.0,
          58.0,
          50.0,
          40.0,
          47.0,
          36.0,
          20.0,
          32.0,
          25.0,
          43.0,
          40.0,
          31.0,
          70.0,
          31.0,
          18.0,
          24.5,
          18.0,
          43.0,
          36.0,
          27.0,
          20.0,
          14.0,
          60.0,
          25.0,
          14.0,
          19.0,
          18.0,
          15.0,
          31.0,
          4.0,
          25.0,
          60.0,
          52.0,
          44.0,
          49.0,
          42.0,
          18.0,
          35.0,
          18.0,
          25.0,
          26.0,
          39.0,
          45.0,
          42.0,
          22.0,
          24.0,
          48.0,
          29.0,
          52.0,
          19.0,
          38.0,
          27.0,
          33.0,
          6.0,
          17.0,
          34.0,
          50.0,
          27.0,
          20.0,
          30.0,
          25.0,
          25.0,
          29.0,
          11.0,
          23.0,
          23.0,
          28.5,
          48.0,
          35.0,
          36.0,
          21.0,
          24.0,
          31.0,
          70.0,
          16.0,
          30.0,
          19.0,
          31.0,
          4.0,
          6.0,
          33.0,
          23.0,
          48.0,
          0.67,
          28.0,
          18.0,
          34.0,
          33.0,
          41.0,
          20.0,
          36.0,
          16.0,
          51.0,
          30.5,
          32.0,
          24.0,
          48.0,
          57.0,
          54.0,
          18.0,
          5.0,
          43.0,
          13.0,
          17.0,
          29.0,
          25.0,
          25.0,
          18.0,
          8.0,
          1.0,
          46.0,
          16.0,
          25.0,
          39.0,
          49.0,
          31.0,
          30.0,
          30.0,
          34.0,
          31.0,
          11.0,
          0.42,
          27.0,
          31.0,
          39.0,
          18.0,
          39.0,
          33.0,
          26.0,
          39.0,
          35.0,
          6.0,
          30.5,
          23.0,
          31.0,
          43.0,
          10.0,
          52.0,
          27.0,
          38.0,
          27.0,
          2.0,
          1.0,
          62.0,
          15.0,
          0.83,
          23.0,
          18.0,
          39.0,
          21.0,
          32.0,
          20.0,
          16.0,
          30.0,
          34.5,
          17.0,
          42.0,
          35.0,
          28.0,
          4.0,
          74.0,
          9.0,
          16.0,
          44.0,
          18.0,
          45.0,
          51.0,
          24.0,
          41.0,
          21.0,
          48.0,
          24.0,
          42.0,
          27.0,
          31.0,
          4.0,
          26.0,
          47.0,
          33.0,
          47.0,
          28.0,
          15.0,
          20.0,
          19.0,
          56.0,
          25.0,
          33.0,
          22.0,
          28.0,
          25.0,
          39.0,
          27.0,
          19.0,
          26.0,
          32.0
         ],
         "xaxis": "x",
         "y": [
          "Возраст",
          "Возраст",
          "Возраст",
          "Возраст",
          "Возраст",
          "Возраст",
          "Возраст",
          "Возраст",
          "Возраст",
          "Возраст",
          "Возраст",
          "Возраст",
          "Возраст",
          "Возраст",
          "Возраст",
          "Возраст",
          "Возраст",
          "Возраст",
          "Возраст",
          "Возраст",
          "Возраст",
          "Возраст",
          "Возраст",
          "Возраст",
          "Возраст",
          "Возраст",
          "Возраст",
          "Возраст",
          "Возраст",
          "Возраст",
          "Возраст",
          "Возраст",
          "Возраст",
          "Возраст",
          "Возраст",
          "Возраст",
          "Возраст",
          "Возраст",
          "Возраст",
          "Возраст",
          "Возраст",
          "Возраст",
          "Возраст",
          "Возраст",
          "Возраст",
          "Возраст",
          "Возраст",
          "Возраст",
          "Возраст",
          "Возраст",
          "Возраст",
          "Возраст",
          "Возраст",
          "Возраст",
          "Возраст",
          "Возраст",
          "Возраст",
          "Возраст",
          "Возраст",
          "Возраст",
          "Возраст",
          "Возраст",
          "Возраст",
          "Возраст",
          "Возраст",
          "Возраст",
          "Возраст",
          "Возраст",
          "Возраст",
          "Возраст",
          "Возраст",
          "Возраст",
          "Возраст",
          "Возраст",
          "Возраст",
          "Возраст",
          "Возраст",
          "Возраст",
          "Возраст",
          "Возраст",
          "Возраст",
          "Возраст",
          "Возраст",
          "Возраст",
          "Возраст",
          "Возраст",
          "Возраст",
          "Возраст",
          "Возраст",
          "Возраст",
          "Возраст",
          "Возраст",
          "Возраст",
          "Возраст",
          "Возраст",
          "Возраст",
          "Возраст",
          "Возраст",
          "Возраст",
          "Возраст",
          "Возраст",
          "Возраст",
          "Возраст",
          "Возраст",
          "Возраст",
          "Возраст",
          "Возраст",
          "Возраст",
          "Возраст",
          "Возраст",
          "Возраст",
          "Возраст",
          "Возраст",
          "Возраст",
          "Возраст",
          "Возраст",
          "Возраст",
          "Возраст",
          "Возраст",
          "Возраст",
          "Возраст",
          "Возраст",
          "Возраст",
          "Возраст",
          "Возраст",
          "Возраст",
          "Возраст",
          "Возраст",
          "Возраст",
          "Возраст",
          "Возраст",
          "Возраст",
          "Возраст",
          "Возраст",
          "Возраст",
          "Возраст",
          "Возраст",
          "Возраст",
          "Возраст",
          "Возраст",
          "Возраст",
          "Возраст",
          "Возраст",
          "Возраст",
          "Возраст",
          "Возраст",
          "Возраст",
          "Возраст",
          "Возраст",
          "Возраст",
          "Возраст",
          "Возраст",
          "Возраст",
          "Возраст",
          "Возраст",
          "Возраст",
          "Возраст",
          "Возраст",
          "Возраст",
          "Возраст",
          "Возраст",
          "Возраст",
          "Возраст",
          "Возраст",
          "Возраст",
          "Возраст",
          "Возраст",
          "Возраст",
          "Возраст",
          "Возраст",
          "Возраст",
          "Возраст",
          "Возраст",
          "Возраст",
          "Возраст",
          "Возраст",
          "Возраст",
          "Возраст",
          "Возраст",
          "Возраст",
          "Возраст",
          "Возраст",
          "Возраст",
          "Возраст",
          "Возраст",
          "Возраст",
          "Возраст",
          "Возраст",
          "Возраст",
          "Возраст",
          "Возраст",
          "Возраст",
          "Возраст",
          "Возраст",
          "Возраст",
          "Возраст",
          "Возраст",
          "Возраст",
          "Возраст",
          "Возраст",
          "Возраст",
          "Возраст",
          "Возраст",
          "Возраст",
          "Возраст",
          "Возраст",
          "Возраст",
          "Возраст",
          "Возраст",
          "Возраст",
          "Возраст",
          "Возраст",
          "Возраст",
          "Возраст",
          "Возраст",
          "Возраст",
          "Возраст",
          "Возраст",
          "Возраст",
          "Возраст",
          "Возраст",
          "Возраст",
          "Возраст",
          "Возраст",
          "Возраст",
          "Возраст",
          "Возраст",
          "Возраст",
          "Возраст",
          "Возраст",
          "Возраст",
          "Возраст",
          "Возраст",
          "Возраст",
          "Возраст",
          "Возраст",
          "Возраст",
          "Возраст",
          "Возраст",
          "Возраст",
          "Возраст",
          "Возраст",
          "Возраст",
          "Возраст",
          "Возраст",
          "Возраст",
          "Возраст",
          "Возраст",
          "Возраст",
          "Возраст",
          "Возраст",
          "Возраст",
          "Возраст",
          "Возраст",
          "Возраст",
          "Возраст",
          "Возраст",
          "Возраст",
          "Возраст",
          "Возраст",
          "Возраст",
          "Возраст",
          "Возраст",
          "Возраст",
          "Возраст",
          "Возраст",
          "Возраст",
          "Возраст",
          "Возраст",
          "Возраст",
          "Возраст",
          "Возраст",
          "Возраст",
          "Возраст",
          "Возраст",
          "Возраст",
          "Возраст",
          "Возраст",
          "Возраст",
          "Возраст",
          "Возраст",
          "Возраст",
          "Возраст",
          "Возраст",
          "Возраст",
          "Возраст",
          "Возраст",
          "Возраст",
          "Возраст",
          "Возраст",
          "Возраст",
          "Возраст",
          "Возраст",
          "Возраст",
          "Возраст",
          "Возраст",
          "Возраст",
          "Возраст",
          "Возраст",
          "Возраст",
          "Возраст",
          "Возраст",
          "Возраст",
          "Возраст",
          "Возраст",
          "Возраст",
          "Возраст",
          "Возраст",
          "Возраст",
          "Возраст",
          "Возраст",
          "Возраст",
          "Возраст",
          "Возраст",
          "Возраст",
          "Возраст",
          "Возраст",
          "Возраст",
          "Возраст",
          "Возраст",
          "Возраст",
          "Возраст",
          "Возраст",
          "Возраст",
          "Возраст",
          "Возраст",
          "Возраст",
          "Возраст",
          "Возраст",
          "Возраст",
          "Возраст",
          "Возраст",
          "Возраст",
          "Возраст",
          "Возраст",
          "Возраст",
          "Возраст",
          "Возраст",
          "Возраст",
          "Возраст",
          "Возраст",
          "Возраст",
          "Возраст",
          "Возраст",
          "Возраст",
          "Возраст",
          "Возраст",
          "Возраст",
          "Возраст",
          "Возраст",
          "Возраст",
          "Возраст",
          "Возраст",
          "Возраст",
          "Возраст",
          "Возраст",
          "Возраст",
          "Возраст",
          "Возраст",
          "Возраст",
          "Возраст",
          "Возраст",
          "Возраст",
          "Возраст",
          "Возраст",
          "Возраст",
          "Возраст",
          "Возраст",
          "Возраст",
          "Возраст",
          "Возраст",
          "Возраст",
          "Возраст",
          "Возраст",
          "Возраст",
          "Возраст",
          "Возраст",
          "Возраст",
          "Возраст",
          "Возраст",
          "Возраст",
          "Возраст",
          "Возраст",
          "Возраст",
          "Возраст",
          "Возраст",
          "Возраст",
          "Возраст",
          "Возраст",
          "Возраст",
          "Возраст",
          "Возраст",
          "Возраст",
          "Возраст",
          "Возраст",
          "Возраст",
          "Возраст",
          "Возраст",
          "Возраст",
          "Возраст",
          "Возраст",
          "Возраст",
          "Возраст",
          "Возраст",
          "Возраст",
          "Возраст",
          "Возраст",
          "Возраст",
          "Возраст",
          "Возраст",
          "Возраст",
          "Возраст",
          "Возраст",
          "Возраст",
          "Возраст",
          "Возраст",
          "Возраст",
          "Возраст",
          "Возраст",
          "Возраст",
          "Возраст",
          "Возраст",
          "Возраст",
          "Возраст",
          "Возраст",
          "Возраст",
          "Возраст",
          "Возраст",
          "Возраст",
          "Возраст",
          "Возраст",
          "Возраст",
          "Возраст",
          "Возраст",
          "Возраст",
          "Возраст",
          "Возраст",
          "Возраст",
          "Возраст",
          "Возраст",
          "Возраст",
          "Возраст",
          "Возраст",
          "Возраст",
          "Возраст",
          "Возраст",
          "Возраст",
          "Возраст",
          "Возраст",
          "Возраст",
          "Возраст",
          "Возраст",
          "Возраст",
          "Возраст",
          "Возраст",
          "Возраст",
          "Возраст",
          "Возраст",
          "Возраст",
          "Возраст",
          "Возраст",
          "Возраст",
          "Возраст",
          "Возраст",
          "Возраст",
          "Возраст",
          "Возраст",
          "Возраст",
          "Возраст",
          "Возраст",
          "Возраст",
          "Возраст",
          "Возраст",
          "Возраст",
          "Возраст",
          "Возраст",
          "Возраст",
          "Возраст",
          "Возраст",
          "Возраст",
          "Возраст",
          "Возраст",
          "Возраст",
          "Возраст",
          "Возраст",
          "Возраст",
          "Возраст",
          "Возраст",
          "Возраст",
          "Возраст",
          "Возраст",
          "Возраст",
          "Возраст",
          "Возраст",
          "Возраст",
          "Возраст",
          "Возраст",
          "Возраст",
          "Возраст",
          "Возраст",
          "Возраст",
          "Возраст",
          "Возраст",
          "Возраст",
          "Возраст",
          "Возраст",
          "Возраст",
          "Возраст",
          "Возраст",
          "Возраст",
          "Возраст",
          "Возраст",
          "Возраст",
          "Возраст",
          "Возраст",
          "Возраст",
          "Возраст",
          "Возраст",
          "Возраст",
          "Возраст",
          "Возраст",
          "Возраст",
          "Возраст",
          "Возраст",
          "Возраст",
          "Возраст",
          "Возраст",
          "Возраст",
          "Возраст",
          "Возраст",
          "Возраст",
          "Возраст",
          "Возраст",
          "Возраст",
          "Возраст",
          "Возраст",
          "Возраст",
          "Возраст",
          "Возраст",
          "Возраст",
          "Возраст",
          "Возраст",
          "Возраст",
          "Возраст",
          "Возраст",
          "Возраст",
          "Возраст",
          "Возраст",
          "Возраст",
          "Возраст",
          "Возраст",
          "Возраст",
          "Возраст",
          "Возраст",
          "Возраст",
          "Возраст",
          "Возраст",
          "Возраст",
          "Возраст",
          "Возраст",
          "Возраст",
          "Возраст",
          "Возраст",
          "Возраст",
          "Возраст",
          "Возраст",
          "Возраст",
          "Возраст",
          "Возраст",
          "Возраст",
          "Возраст",
          "Возраст",
          "Возраст",
          "Возраст",
          "Возраст",
          "Возраст",
          "Возраст",
          "Возраст",
          "Возраст",
          "Возраст",
          "Возраст",
          "Возраст",
          "Возраст",
          "Возраст",
          "Возраст",
          "Возраст",
          "Возраст",
          "Возраст",
          "Возраст",
          "Возраст",
          "Возраст",
          "Возраст",
          "Возраст",
          "Возраст",
          "Возраст",
          "Возраст",
          "Возраст",
          "Возраст",
          "Возраст",
          "Возраст",
          "Возраст",
          "Возраст",
          "Возраст",
          "Возраст",
          "Возраст",
          "Возраст",
          "Возраст",
          "Возраст",
          "Возраст",
          "Возраст",
          "Возраст",
          "Возраст",
          "Возраст",
          "Возраст",
          "Возраст",
          "Возраст",
          "Возраст",
          "Возраст",
          "Возраст",
          "Возраст",
          "Возраст",
          "Возраст",
          "Возраст",
          "Возраст",
          "Возраст",
          "Возраст",
          "Возраст",
          "Возраст",
          "Возраст",
          "Возраст",
          "Возраст",
          "Возраст",
          "Возраст",
          "Возраст",
          "Возраст",
          "Возраст",
          "Возраст",
          "Возраст",
          "Возраст",
          "Возраст",
          "Возраст",
          "Возраст",
          "Возраст",
          "Возраст",
          "Возраст",
          "Возраст",
          "Возраст",
          "Возраст",
          "Возраст",
          "Возраст",
          "Возраст",
          "Возраст",
          "Возраст",
          "Возраст",
          "Возраст",
          "Возраст",
          "Возраст",
          "Возраст",
          "Возраст",
          "Возраст",
          "Возраст",
          "Возраст",
          "Возраст",
          "Возраст",
          "Возраст",
          "Возраст",
          "Возраст",
          "Возраст",
          "Возраст",
          "Возраст",
          "Возраст",
          "Возраст",
          "Возраст",
          "Возраст",
          "Возраст",
          "Возраст",
          "Возраст",
          "Возраст",
          "Возраст",
          "Возраст",
          "Возраст",
          "Возраст",
          "Возраст",
          "Возраст",
          "Возраст",
          "Возраст",
          "Возраст",
          "Возраст",
          "Возраст",
          "Возраст",
          "Возраст",
          "Возраст",
          "Возраст",
          "Возраст",
          "Возраст",
          "Возраст",
          "Возраст",
          "Возраст",
          "Возраст",
          "Возраст",
          "Возраст",
          "Возраст",
          "Возраст",
          "Возраст",
          "Возраст",
          "Возраст",
          "Возраст",
          "Возраст",
          "Возраст",
          "Возраст",
          "Возраст",
          "Возраст",
          "Возраст",
          "Возраст"
         ],
         "yaxis": "y2",
         "type": "scatter"
        }
       ],
       "layout": {
        "barmode": "overlay",
        "hovermode": "closest",
        "legend": {
         "traceorder": "reversed"
        },
        "xaxis": {
         "anchor": "y2",
         "domain": [
          0.0,
          1.0
         ],
         "zeroline": false
        },
        "yaxis": {
         "anchor": "free",
         "domain": [
          0.35,
          1
         ],
         "position": 0.0
        },
        "yaxis2": {
         "anchor": "x",
         "domain": [
          0,
          0.25
         ],
         "dtick": 1,
         "showticklabels": false
        },
        "template": {
         "data": {
          "histogram2dcontour": [
           {
            "type": "histogram2dcontour",
            "colorbar": {
             "outlinewidth": 0,
             "ticks": ""
            },
            "colorscale": [
             [
              0.0,
              "#0d0887"
             ],
             [
              0.1111111111111111,
              "#46039f"
             ],
             [
              0.2222222222222222,
              "#7201a8"
             ],
             [
              0.3333333333333333,
              "#9c179e"
             ],
             [
              0.4444444444444444,
              "#bd3786"
             ],
             [
              0.5555555555555556,
              "#d8576b"
             ],
             [
              0.6666666666666666,
              "#ed7953"
             ],
             [
              0.7777777777777778,
              "#fb9f3a"
             ],
             [
              0.8888888888888888,
              "#fdca26"
             ],
             [
              1.0,
              "#f0f921"
             ]
            ]
           }
          ],
          "choropleth": [
           {
            "type": "choropleth",
            "colorbar": {
             "outlinewidth": 0,
             "ticks": ""
            }
           }
          ],
          "histogram2d": [
           {
            "type": "histogram2d",
            "colorbar": {
             "outlinewidth": 0,
             "ticks": ""
            },
            "colorscale": [
             [
              0.0,
              "#0d0887"
             ],
             [
              0.1111111111111111,
              "#46039f"
             ],
             [
              0.2222222222222222,
              "#7201a8"
             ],
             [
              0.3333333333333333,
              "#9c179e"
             ],
             [
              0.4444444444444444,
              "#bd3786"
             ],
             [
              0.5555555555555556,
              "#d8576b"
             ],
             [
              0.6666666666666666,
              "#ed7953"
             ],
             [
              0.7777777777777778,
              "#fb9f3a"
             ],
             [
              0.8888888888888888,
              "#fdca26"
             ],
             [
              1.0,
              "#f0f921"
             ]
            ]
           }
          ],
          "heatmap": [
           {
            "type": "heatmap",
            "colorbar": {
             "outlinewidth": 0,
             "ticks": ""
            },
            "colorscale": [
             [
              0.0,
              "#0d0887"
             ],
             [
              0.1111111111111111,
              "#46039f"
             ],
             [
              0.2222222222222222,
              "#7201a8"
             ],
             [
              0.3333333333333333,
              "#9c179e"
             ],
             [
              0.4444444444444444,
              "#bd3786"
             ],
             [
              0.5555555555555556,
              "#d8576b"
             ],
             [
              0.6666666666666666,
              "#ed7953"
             ],
             [
              0.7777777777777778,
              "#fb9f3a"
             ],
             [
              0.8888888888888888,
              "#fdca26"
             ],
             [
              1.0,
              "#f0f921"
             ]
            ]
           }
          ],
          "heatmapgl": [
           {
            "type": "heatmapgl",
            "colorbar": {
             "outlinewidth": 0,
             "ticks": ""
            },
            "colorscale": [
             [
              0.0,
              "#0d0887"
             ],
             [
              0.1111111111111111,
              "#46039f"
             ],
             [
              0.2222222222222222,
              "#7201a8"
             ],
             [
              0.3333333333333333,
              "#9c179e"
             ],
             [
              0.4444444444444444,
              "#bd3786"
             ],
             [
              0.5555555555555556,
              "#d8576b"
             ],
             [
              0.6666666666666666,
              "#ed7953"
             ],
             [
              0.7777777777777778,
              "#fb9f3a"
             ],
             [
              0.8888888888888888,
              "#fdca26"
             ],
             [
              1.0,
              "#f0f921"
             ]
            ]
           }
          ],
          "contourcarpet": [
           {
            "type": "contourcarpet",
            "colorbar": {
             "outlinewidth": 0,
             "ticks": ""
            }
           }
          ],
          "contour": [
           {
            "type": "contour",
            "colorbar": {
             "outlinewidth": 0,
             "ticks": ""
            },
            "colorscale": [
             [
              0.0,
              "#0d0887"
             ],
             [
              0.1111111111111111,
              "#46039f"
             ],
             [
              0.2222222222222222,
              "#7201a8"
             ],
             [
              0.3333333333333333,
              "#9c179e"
             ],
             [
              0.4444444444444444,
              "#bd3786"
             ],
             [
              0.5555555555555556,
              "#d8576b"
             ],
             [
              0.6666666666666666,
              "#ed7953"
             ],
             [
              0.7777777777777778,
              "#fb9f3a"
             ],
             [
              0.8888888888888888,
              "#fdca26"
             ],
             [
              1.0,
              "#f0f921"
             ]
            ]
           }
          ],
          "surface": [
           {
            "type": "surface",
            "colorbar": {
             "outlinewidth": 0,
             "ticks": ""
            },
            "colorscale": [
             [
              0.0,
              "#0d0887"
             ],
             [
              0.1111111111111111,
              "#46039f"
             ],
             [
              0.2222222222222222,
              "#7201a8"
             ],
             [
              0.3333333333333333,
              "#9c179e"
             ],
             [
              0.4444444444444444,
              "#bd3786"
             ],
             [
              0.5555555555555556,
              "#d8576b"
             ],
             [
              0.6666666666666666,
              "#ed7953"
             ],
             [
              0.7777777777777778,
              "#fb9f3a"
             ],
             [
              0.8888888888888888,
              "#fdca26"
             ],
             [
              1.0,
              "#f0f921"
             ]
            ]
           }
          ],
          "mesh3d": [
           {
            "type": "mesh3d",
            "colorbar": {
             "outlinewidth": 0,
             "ticks": ""
            }
           }
          ],
          "scatter": [
           {
            "marker": {
             "line": {
              "color": "#283442"
             }
            },
            "type": "scatter"
           }
          ],
          "parcoords": [
           {
            "type": "parcoords",
            "line": {
             "colorbar": {
              "outlinewidth": 0,
              "ticks": ""
             }
            }
           }
          ],
          "scatterpolargl": [
           {
            "type": "scatterpolargl",
            "marker": {
             "colorbar": {
              "outlinewidth": 0,
              "ticks": ""
             }
            }
           }
          ],
          "bar": [
           {
            "error_x": {
             "color": "#f2f5fa"
            },
            "error_y": {
             "color": "#f2f5fa"
            },
            "marker": {
             "line": {
              "color": "rgb(17,17,17)",
              "width": 0.5
             },
             "pattern": {
              "fillmode": "overlay",
              "size": 10,
              "solidity": 0.2
             }
            },
            "type": "bar"
           }
          ],
          "scattergeo": [
           {
            "type": "scattergeo",
            "marker": {
             "colorbar": {
              "outlinewidth": 0,
              "ticks": ""
             }
            }
           }
          ],
          "scatterpolar": [
           {
            "type": "scatterpolar",
            "marker": {
             "colorbar": {
              "outlinewidth": 0,
              "ticks": ""
             }
            }
           }
          ],
          "histogram": [
           {
            "marker": {
             "pattern": {
              "fillmode": "overlay",
              "size": 10,
              "solidity": 0.2
             }
            },
            "type": "histogram"
           }
          ],
          "scattergl": [
           {
            "marker": {
             "line": {
              "color": "#283442"
             }
            },
            "type": "scattergl"
           }
          ],
          "scatter3d": [
           {
            "type": "scatter3d",
            "line": {
             "colorbar": {
              "outlinewidth": 0,
              "ticks": ""
             }
            },
            "marker": {
             "colorbar": {
              "outlinewidth": 0,
              "ticks": ""
             }
            }
           }
          ],
          "scattermapbox": [
           {
            "type": "scattermapbox",
            "marker": {
             "colorbar": {
              "outlinewidth": 0,
              "ticks": ""
             }
            }
           }
          ],
          "scatterternary": [
           {
            "type": "scatterternary",
            "marker": {
             "colorbar": {
              "outlinewidth": 0,
              "ticks": ""
             }
            }
           }
          ],
          "scattercarpet": [
           {
            "type": "scattercarpet",
            "marker": {
             "colorbar": {
              "outlinewidth": 0,
              "ticks": ""
             }
            }
           }
          ],
          "carpet": [
           {
            "aaxis": {
             "endlinecolor": "#A2B1C6",
             "gridcolor": "#506784",
             "linecolor": "#506784",
             "minorgridcolor": "#506784",
             "startlinecolor": "#A2B1C6"
            },
            "baxis": {
             "endlinecolor": "#A2B1C6",
             "gridcolor": "#506784",
             "linecolor": "#506784",
             "minorgridcolor": "#506784",
             "startlinecolor": "#A2B1C6"
            },
            "type": "carpet"
           }
          ],
          "table": [
           {
            "cells": {
             "fill": {
              "color": "#506784"
             },
             "line": {
              "color": "rgb(17,17,17)"
             }
            },
            "header": {
             "fill": {
              "color": "#2a3f5f"
             },
             "line": {
              "color": "rgb(17,17,17)"
             }
            },
            "type": "table"
           }
          ],
          "barpolar": [
           {
            "marker": {
             "line": {
              "color": "rgb(17,17,17)",
              "width": 0.5
             },
             "pattern": {
              "fillmode": "overlay",
              "size": 10,
              "solidity": 0.2
             }
            },
            "type": "barpolar"
           }
          ],
          "pie": [
           {
            "automargin": true,
            "type": "pie"
           }
          ]
         },
         "layout": {
          "autotypenumbers": "strict",
          "colorway": [
           "#636efa",
           "#EF553B",
           "#00cc96",
           "#ab63fa",
           "#FFA15A",
           "#19d3f3",
           "#FF6692",
           "#B6E880",
           "#FF97FF",
           "#FECB52"
          ],
          "font": {
           "color": "#f2f5fa"
          },
          "hovermode": "closest",
          "hoverlabel": {
           "align": "left"
          },
          "paper_bgcolor": "rgb(17,17,17)",
          "plot_bgcolor": "rgb(17,17,17)",
          "polar": {
           "bgcolor": "rgb(17,17,17)",
           "angularaxis": {
            "gridcolor": "#506784",
            "linecolor": "#506784",
            "ticks": ""
           },
           "radialaxis": {
            "gridcolor": "#506784",
            "linecolor": "#506784",
            "ticks": ""
           }
          },
          "ternary": {
           "bgcolor": "rgb(17,17,17)",
           "aaxis": {
            "gridcolor": "#506784",
            "linecolor": "#506784",
            "ticks": ""
           },
           "baxis": {
            "gridcolor": "#506784",
            "linecolor": "#506784",
            "ticks": ""
           },
           "caxis": {
            "gridcolor": "#506784",
            "linecolor": "#506784",
            "ticks": ""
           }
          },
          "coloraxis": {
           "colorbar": {
            "outlinewidth": 0,
            "ticks": ""
           }
          },
          "colorscale": {
           "sequential": [
            [
             0.0,
             "#0d0887"
            ],
            [
             0.1111111111111111,
             "#46039f"
            ],
            [
             0.2222222222222222,
             "#7201a8"
            ],
            [
             0.3333333333333333,
             "#9c179e"
            ],
            [
             0.4444444444444444,
             "#bd3786"
            ],
            [
             0.5555555555555556,
             "#d8576b"
            ],
            [
             0.6666666666666666,
             "#ed7953"
            ],
            [
             0.7777777777777778,
             "#fb9f3a"
            ],
            [
             0.8888888888888888,
             "#fdca26"
            ],
            [
             1.0,
             "#f0f921"
            ]
           ],
           "sequentialminus": [
            [
             0.0,
             "#0d0887"
            ],
            [
             0.1111111111111111,
             "#46039f"
            ],
            [
             0.2222222222222222,
             "#7201a8"
            ],
            [
             0.3333333333333333,
             "#9c179e"
            ],
            [
             0.4444444444444444,
             "#bd3786"
            ],
            [
             0.5555555555555556,
             "#d8576b"
            ],
            [
             0.6666666666666666,
             "#ed7953"
            ],
            [
             0.7777777777777778,
             "#fb9f3a"
            ],
            [
             0.8888888888888888,
             "#fdca26"
            ],
            [
             1.0,
             "#f0f921"
            ]
           ],
           "diverging": [
            [
             0,
             "#8e0152"
            ],
            [
             0.1,
             "#c51b7d"
            ],
            [
             0.2,
             "#de77ae"
            ],
            [
             0.3,
             "#f1b6da"
            ],
            [
             0.4,
             "#fde0ef"
            ],
            [
             0.5,
             "#f7f7f7"
            ],
            [
             0.6,
             "#e6f5d0"
            ],
            [
             0.7,
             "#b8e186"
            ],
            [
             0.8,
             "#7fbc41"
            ],
            [
             0.9,
             "#4d9221"
            ],
            [
             1,
             "#276419"
            ]
           ]
          },
          "xaxis": {
           "gridcolor": "#283442",
           "linecolor": "#506784",
           "ticks": "",
           "title": {
            "standoff": 15
           },
           "zerolinecolor": "#283442",
           "automargin": true,
           "zerolinewidth": 2
          },
          "yaxis": {
           "gridcolor": "#283442",
           "linecolor": "#506784",
           "ticks": "",
           "title": {
            "standoff": 15
           },
           "zerolinecolor": "#283442",
           "automargin": true,
           "zerolinewidth": 2
          },
          "scene": {
           "xaxis": {
            "backgroundcolor": "rgb(17,17,17)",
            "gridcolor": "#506784",
            "linecolor": "#506784",
            "showbackground": true,
            "ticks": "",
            "zerolinecolor": "#C8D4E3",
            "gridwidth": 2
           },
           "yaxis": {
            "backgroundcolor": "rgb(17,17,17)",
            "gridcolor": "#506784",
            "linecolor": "#506784",
            "showbackground": true,
            "ticks": "",
            "zerolinecolor": "#C8D4E3",
            "gridwidth": 2
           },
           "zaxis": {
            "backgroundcolor": "rgb(17,17,17)",
            "gridcolor": "#506784",
            "linecolor": "#506784",
            "showbackground": true,
            "ticks": "",
            "zerolinecolor": "#C8D4E3",
            "gridwidth": 2
           }
          },
          "shapedefaults": {
           "line": {
            "color": "#f2f5fa"
           }
          },
          "annotationdefaults": {
           "arrowcolor": "#f2f5fa",
           "arrowhead": 0,
           "arrowwidth": 1
          },
          "geo": {
           "bgcolor": "rgb(17,17,17)",
           "landcolor": "rgb(17,17,17)",
           "subunitcolor": "#506784",
           "showland": true,
           "showlakes": true,
           "lakecolor": "rgb(17,17,17)"
          },
          "title": {
           "x": 0.05
          },
          "updatemenudefaults": {
           "bgcolor": "#506784",
           "borderwidth": 0
          },
          "sliderdefaults": {
           "bgcolor": "#C8D4E3",
           "borderwidth": 1,
           "bordercolor": "rgb(17,17,17)",
           "tickwidth": 0
          },
          "mapbox": {
           "style": "dark"
          }
         }
        }
       },
       "config": {
        "plotlyServerURL": "https://plot.ly"
       }
      },
      "text/html": "<div>                            <div id=\"4d8b9543-01c1-4d3f-9478-f5bad35f28ff\" class=\"plotly-graph-div\" style=\"height:525px; width:100%;\"></div>            <script type=\"text/javascript\">                require([\"plotly\"], function(Plotly) {                    window.PLOTLYENV=window.PLOTLYENV || {};                                    if (document.getElementById(\"4d8b9543-01c1-4d3f-9478-f5bad35f28ff\")) {                    Plotly.newPlot(                        \"4d8b9543-01c1-4d3f-9478-f5bad35f28ff\",                        [{\"autobinx\":false,\"histnorm\":\"probability density\",\"legendgroup\":\"\\u0412\\u043e\\u0437\\u0440\\u0430\\u0441\\u0442\",\"marker\":{\"color\":\"rgb(31, 119, 180)\"},\"name\":\"\\u0412\\u043e\\u0437\\u0440\\u0430\\u0441\\u0442\",\"opacity\":0.7,\"x\":[22.0,38.0,26.0,35.0,35.0,54.0,2.0,27.0,14.0,4.0,58.0,20.0,39.0,14.0,55.0,2.0,31.0,35.0,34.0,15.0,28.0,8.0,38.0,19.0,40.0,66.0,28.0,42.0,21.0,18.0,14.0,40.0,27.0,3.0,19.0,18.0,7.0,21.0,49.0,29.0,65.0,21.0,28.5,5.0,11.0,22.0,38.0,45.0,4.0,29.0,19.0,17.0,26.0,32.0,16.0,21.0,26.0,32.0,25.0,0.83,30.0,22.0,29.0,28.0,17.0,33.0,16.0,23.0,24.0,29.0,20.0,46.0,26.0,59.0,71.0,23.0,34.0,34.0,28.0,21.0,33.0,37.0,28.0,21.0,38.0,47.0,14.5,22.0,20.0,17.0,21.0,70.5,29.0,24.0,2.0,21.0,32.5,32.5,54.0,12.0,24.0,45.0,33.0,20.0,47.0,29.0,25.0,23.0,19.0,37.0,16.0,24.0,22.0,24.0,19.0,18.0,19.0,27.0,9.0,36.5,42.0,51.0,22.0,55.5,40.5,51.0,16.0,30.0,44.0,40.0,26.0,17.0,1.0,9.0,45.0,28.0,61.0,4.0,1.0,21.0,56.0,18.0,50.0,30.0,36.0,9.0,1.0,4.0,45.0,40.0,36.0,32.0,19.0,19.0,3.0,44.0,58.0,42.0,24.0,28.0,34.0,45.5,18.0,2.0,32.0,26.0,16.0,40.0,24.0,35.0,22.0,30.0,31.0,27.0,42.0,32.0,30.0,16.0,27.0,51.0,38.0,22.0,19.0,20.5,18.0,35.0,29.0,59.0,5.0,24.0,44.0,8.0,19.0,33.0,29.0,22.0,30.0,44.0,25.0,24.0,37.0,54.0,29.0,62.0,30.0,41.0,29.0,30.0,35.0,50.0,3.0,52.0,40.0,36.0,16.0,25.0,58.0,35.0,25.0,41.0,37.0,63.0,45.0,7.0,35.0,65.0,28.0,16.0,19.0,33.0,30.0,22.0,42.0,22.0,26.0,19.0,36.0,24.0,24.0,23.5,2.0,50.0,19.0,0.92,17.0,30.0,30.0,24.0,18.0,26.0,28.0,43.0,26.0,24.0,54.0,31.0,40.0,22.0,27.0,30.0,22.0,36.0,61.0,36.0,31.0,16.0,45.5,38.0,16.0,29.0,41.0,45.0,45.0,2.0,24.0,28.0,25.0,36.0,24.0,40.0,3.0,42.0,23.0,15.0,25.0,28.0,22.0,38.0,40.0,29.0,45.0,35.0,30.0,60.0,24.0,25.0,18.0,19.0,22.0,3.0,22.0,27.0,20.0,19.0,42.0,1.0,32.0,35.0,18.0,1.0,36.0,17.0,36.0,21.0,28.0,23.0,24.0,22.0,31.0,46.0,23.0,28.0,39.0,26.0,21.0,28.0,20.0,34.0,51.0,3.0,21.0,33.0,44.0,34.0,18.0,30.0,10.0,21.0,29.0,28.0,18.0,28.0,19.0,32.0,28.0,42.0,17.0,50.0,14.0,21.0,24.0,64.0,31.0,45.0,20.0,25.0,28.0,4.0,13.0,34.0,5.0,52.0,36.0,30.0,49.0,29.0,65.0,50.0,48.0,34.0,47.0,48.0,38.0,56.0,0.75,38.0,33.0,23.0,22.0,34.0,29.0,22.0,2.0,9.0,50.0,63.0,25.0,35.0,58.0,30.0,9.0,21.0,55.0,71.0,21.0,54.0,25.0,24.0,17.0,21.0,37.0,16.0,18.0,33.0,28.0,26.0,29.0,36.0,54.0,24.0,47.0,34.0,36.0,32.0,30.0,22.0,44.0,40.5,50.0,39.0,23.0,2.0,17.0,30.0,7.0,45.0,30.0,22.0,36.0,9.0,11.0,32.0,50.0,64.0,19.0,33.0,8.0,17.0,27.0,22.0,22.0,62.0,48.0,39.0,36.0,40.0,28.0,24.0,19.0,29.0,32.0,62.0,53.0,36.0,16.0,19.0,34.0,39.0,32.0,25.0,39.0,54.0,36.0,18.0,47.0,60.0,22.0,35.0,52.0,47.0,37.0,36.0,49.0,49.0,24.0,44.0,35.0,36.0,30.0,27.0,22.0,40.0,39.0,35.0,24.0,34.0,26.0,4.0,26.0,27.0,42.0,20.0,21.0,21.0,61.0,57.0,21.0,26.0,80.0,51.0,32.0,9.0,28.0,32.0,31.0,41.0,20.0,24.0,2.0,0.75,48.0,19.0,56.0,23.0,18.0,21.0,18.0,24.0,32.0,23.0,58.0,50.0,40.0,47.0,36.0,20.0,32.0,25.0,43.0,40.0,31.0,70.0,31.0,18.0,24.5,18.0,43.0,36.0,27.0,20.0,14.0,60.0,25.0,14.0,19.0,18.0,15.0,31.0,4.0,25.0,60.0,52.0,44.0,49.0,42.0,18.0,35.0,18.0,25.0,26.0,39.0,45.0,42.0,22.0,24.0,48.0,29.0,52.0,19.0,38.0,27.0,33.0,6.0,17.0,34.0,50.0,27.0,20.0,30.0,25.0,25.0,29.0,11.0,23.0,23.0,28.5,48.0,35.0,36.0,21.0,24.0,31.0,70.0,16.0,30.0,19.0,31.0,4.0,6.0,33.0,23.0,48.0,0.67,28.0,18.0,34.0,33.0,41.0,20.0,36.0,16.0,51.0,30.5,32.0,24.0,48.0,57.0,54.0,18.0,5.0,43.0,13.0,17.0,29.0,25.0,25.0,18.0,8.0,1.0,46.0,16.0,25.0,39.0,49.0,31.0,30.0,30.0,34.0,31.0,11.0,0.42,27.0,31.0,39.0,18.0,39.0,33.0,26.0,39.0,35.0,6.0,30.5,23.0,31.0,43.0,10.0,52.0,27.0,38.0,27.0,2.0,1.0,62.0,15.0,0.83,23.0,18.0,39.0,21.0,32.0,20.0,16.0,30.0,34.5,17.0,42.0,35.0,28.0,4.0,74.0,9.0,16.0,44.0,18.0,45.0,51.0,24.0,41.0,21.0,48.0,24.0,42.0,27.0,31.0,4.0,26.0,47.0,33.0,47.0,28.0,15.0,20.0,19.0,56.0,25.0,33.0,22.0,28.0,25.0,39.0,27.0,19.0,26.0,32.0],\"xaxis\":\"x\",\"xbins\":{\"end\":80.0,\"size\":1.0,\"start\":0.42},\"yaxis\":\"y\",\"type\":\"histogram\"},{\"legendgroup\":\"\\u0412\\u043e\\u0437\\u0440\\u0430\\u0441\\u0442\",\"marker\":{\"color\":\"rgb(31, 119, 180)\"},\"mode\":\"lines\",\"name\":\"\\u0412\\u043e\\u0437\\u0440\\u0430\\u0441\\u0442\",\"showlegend\":false,\"x\":[0.42,0.57916,0.73832,0.89748,1.05664,1.2158,1.37496,1.53412,1.69328,1.85244,2.0116,2.17076,2.32992,2.48908,2.64824,2.8074,2.96656,3.12572,3.2848800000000002,3.4440399999999998,3.6031999999999997,3.76236,3.92152,4.08068,4.23984,4.399,4.55816,4.71732,4.87648,5.03564,5.1948,5.35396,5.51312,5.67228,5.83144,5.9906,6.149760000000001,6.30892,6.46808,6.62724,6.7863999999999995,6.9455599999999995,7.10472,7.26388,7.42304,7.582199999999999,7.741359999999999,7.900519999999999,8.05968,8.21884,8.378,8.53716,8.69632,8.85548,9.01464,9.1738,9.33296,9.492119999999998,9.65128,9.81044,9.9696,10.12876,10.28792,10.44708,10.60624,10.7654,10.92456,11.08372,11.24288,11.40204,11.5612,11.720360000000001,11.879520000000001,12.03868,12.19784,12.357,12.51616,12.67532,12.83448,12.99364,13.1528,13.31196,13.471119999999999,13.630279999999999,13.78944,13.9486,14.10776,14.26692,14.42608,14.585239999999999,14.744399999999999,14.903559999999999,15.062719999999999,15.221879999999999,15.381039999999999,15.540199999999999,15.69936,15.85852,16.017680000000002,16.176840000000002,16.336000000000002,16.495160000000002,16.654320000000002,16.813480000000002,16.972640000000002,17.131800000000002,17.290960000000002,17.450120000000002,17.609280000000002,17.768440000000002,17.9276,18.08676,18.24592,18.405079999999998,18.564239999999998,18.723399999999998,18.88256,19.04172,19.20088,19.36004,19.5192,19.67836,19.83752,19.99668,20.15584,20.315,20.47416,20.63332,20.79248,20.95164,21.1108,21.26996,21.42912,21.58828,21.74744,21.9066,22.06576,22.22492,22.38408,22.54324,22.7024,22.861560000000004,23.020720000000004,23.179880000000004,23.339040000000004,23.498200000000004,23.65736,23.81652,23.97568,24.13484,24.294,24.45316,24.61232,24.77148,24.93064,25.0898,25.24896,25.40812,25.56728,25.72644,25.8856,26.04476,26.20392,26.36308,26.52224,26.6814,26.84056,26.999720000000003,27.158880000000003,27.318040000000003,27.477200000000003,27.636360000000003,27.795520000000003,27.954680000000003,28.113840000000003,28.273000000000003,28.432160000000003,28.591320000000003,28.75048,28.90964,29.0688,29.22796,29.38712,29.54628,29.70544,29.8646,30.02376,30.18292,30.34208,30.50124,30.6604,30.81956,30.978720000000003,31.137880000000003,31.297040000000003,31.456200000000003,31.615360000000003,31.774520000000003,31.933680000000003,32.09284,32.252,32.41116,32.57032,32.72948,32.88864,33.0478,33.20696,33.36612,33.52528,33.68444,33.8436,34.00276,34.16192,34.32108,34.48024,34.6394,34.79856,34.95772,35.11688,35.27604,35.4352,35.59436,35.75352,35.91268,36.07184,36.231,36.390159999999995,36.54932,36.708479999999994,36.86764,37.026799999999994,37.18596,37.34512,37.50428,37.66344,37.8226,37.98176,38.14092,38.30008,38.45924,38.6184,38.77756,38.93672,39.09588,39.25504,39.4142,39.57336,39.73252,39.89168,40.05084,40.21,40.36916,40.52832,40.68748,40.84664,41.0058,41.16496,41.32412000000001,41.48328,41.64244,41.8016,41.96076,42.11992,42.27908,42.43824,42.5974,42.75656,42.91572,43.07488,43.23404,43.3932,43.55236,43.71152,43.87068,44.02984,44.189,44.34816,44.50732,44.66648,44.82564,44.9848,45.14396,45.30312000000001,45.46228,45.62144000000001,45.7806,45.93976000000001,46.09892,46.25808000000001,46.41724,46.57640000000001,46.73556,46.89472,47.05388,47.21304,47.3722,47.53136,47.69052,47.84968,48.00884,48.168,48.32716,48.48632,48.64548,48.80464,48.9638,49.12296,49.28212,49.44128,49.600440000000006,49.7596,49.918760000000006,50.07792,50.237080000000006,50.39624,50.555400000000006,50.71456,50.873720000000006,51.03288,51.192040000000006,51.3512,51.510360000000006,51.66952,51.82868,51.98784,52.147,52.30616,52.46532,52.62448,52.78364,52.9428,53.10196,53.26112,53.42028,53.579440000000005,53.7386,53.897760000000005,54.05692,54.216080000000005,54.37524,54.534400000000005,54.69356,54.852720000000005,55.01188,55.171040000000005,55.3302,55.489360000000005,55.64852,55.807680000000005,55.96684,56.126000000000005,56.28516,56.444320000000005,56.60348,56.762640000000005,56.9218,57.08096,57.24012,57.39928,57.558440000000004,57.7176,57.876760000000004,58.03592,58.195080000000004,58.35424,58.513400000000004,58.67256,58.831720000000004,58.99088,59.150040000000004,59.3092,59.468360000000004,59.62752,59.786680000000004,59.94584,60.105000000000004,60.26416,60.423320000000004,60.58248,60.741640000000004,60.9008,61.059960000000004,61.21912,61.378280000000004,61.537440000000004,61.696600000000004,61.855760000000004,62.01492,62.174080000000004,62.333239999999996,62.4924,62.651559999999996,62.81072,62.969879999999996,63.12904,63.288199999999996,63.44736,63.606519999999996,63.76568,63.924839999999996,64.084,64.24315999999999,64.40232,64.56148,64.72064,64.8798,65.03896,65.19812,65.35728,65.51644,65.6756,65.83476,65.99392,66.15308,66.31224,66.4714,66.63056,66.78972,66.94888,67.10803999999999,67.2672,67.42636,67.58552,67.74467999999999,67.90384,68.063,68.22216,68.38131999999999,68.54048,68.69964,68.8588,69.01795999999999,69.17712,69.33628,69.49544,69.65459999999999,69.81376,69.97292,70.13208,70.29124,70.4504,70.60956,70.76872,70.92788,71.08704,71.2462,71.40536,71.56452,71.72368,71.88284,72.042,72.20116,72.36031999999999,72.51948,72.67864,72.8378,72.99695999999999,73.15612,73.31528,73.47444,73.63359999999999,73.79276,73.95192,74.11108,74.27024,74.4294,74.58856,74.74772,74.90688,75.06604,75.2252,75.38436,75.54352,75.70268,75.86184,76.021,76.18016,76.33932,76.49848,76.65764,76.8168,76.97596,77.13512,77.29428,77.45344,77.61259999999999,77.77176,77.93092,78.09008,78.24924,78.4084,78.56756,78.72672,78.88588,79.04504,79.2042,79.36336,79.52252,79.68168,79.84084],\"xaxis\":\"x\",\"y\":[0.005709426317874258,0.005842364372311964,0.00597121675930296,0.006095672425124251,0.006215439174474732,0.00633024551930831,0.006439842391322168,0.006544004704095993,0.006642532752605729,0.006735253439716993,0.0068220213212738905,0.006902719463504154,0.006977260108635788,0.007045585146825771,0.007107666394706483,0.007163505683029732,0.007213134757990635,0.007256615002823084,0.0072940369881342015,0.007325519861165331,0.007351210585704809,0.00737128304570744,0.007385937026783323,0.007395397090583769,0.007399911357727831,0.007399750215269518,0.007395204964801818,0.007386586427131955,0.0073742235190471205,0.0073584618170341315,0.007339662121933598,0.007318199037417905,0.0072944595739062226,0.007268841788090623,0.00724175346667891,0.0072136108612846014,0.007184837479651802,0.007155862936619086,0.007127121866439912,0.007099052896316365,0.007072097679305547,0.007046699983149644,0.0070233048300952445,0.007002357681429617,0.006984303659297261,0.006969586797387695,0.006958649311327556,0.006951930879073706,0.006949867921306699,0.006952892871763366,0.006961433427631744,0.0069759117705524,0.006996743749423439,0.007024338017080179,0.007059095113997902,0.007101406493430153,0.007151653483822762,0.007210206185910159,0.007277422303577958,0.007353645909335502,0.007439206147052262,0.0075344158764412755,0.007639570265588971,0.007754945339601244,0.00788079649512824,0.008017356992118538,0.008164836435600651,0.008323419261579569,0.008493263242235394,0.00867449802650456,0.008867223732791819,0.009071509610989183,0.009287392791155162,0.00951487713612922,0.009753932215018564,0.010004492413897637,0.010266456199214331,0.010539685548306138,0.010824005560110404,0.011119204257620922,0.01142503259192061,0.011741204655725698,0.012067398112341829,0.012403254843780461,0.012748381819547256,0.013102352185320472,0.01346470656842382,0.013834954594690746,0.014212576609051689,0.01459702558998411,0.01498772924587133,0.015384092279358282,0.015785498803989512,0.016191314895790104,0.01660089126103463,0.017013566000248018,0.01742866744752074,0.017845517063503027,0.01826343235998146,0.01868172983373559,0.019099727887426435,0.01951674971557406,0.019932126134234743,0.020345198333776036,0.020755320535153696,0.021161862531308365,0.021564212096688757,0.02196177724946537,0.02235398835268375,0.022740300042407624,0.023120192972782082,0.023493175369882,0.02385878438817718,0.024216587265409883,0.024566182273616205,0.024907199465915433,0.025239301220501227,0.025562182584990725,0.02587557142589111,0.026179228389418205,0.026472946681233865,0.026756551673848526,0.027029900351450947,0.0272928806027805,0.027545410373349566,0.02778743668884058,0.028018934561872724,0.02823990579454869,0.02845037768925723,0.02865040168015778,0.028840051897590025,0.02901942367738141,0.029188632026649484,0.02934781005726748,0.029497107397660254,0.02963668859306256,0.02976673150380528,0.029887425710623236,0.029998970935387854,0.03010157548510609,0.030195454726462297,0.03028082959765582,0.030357925163773912,0.03042696922147708,0.030488190958319596,0.030541819671623914,0.0305880835514427,0.03062720853177196,0.03065941721384723,0.03068492786500992,0.030703953496306603,0.030716701021654098,0.030723370501055013,0.030724154469991216,0.03071923735673942,0.030708794988939248,0.030692994190301106,0.030671992467858896,0.030645937789659402,0.030614968452228157,0.03057921303656782,0.030538790450835605,0.030493810057210947,0.03044437187981971,0.030390566889928947,0.030332477363976384,0.03027017730937543,0.030203732952428602,0.030133203282125338,0.030058640643092546,0.02998009137052401,0.029897596459544363,0.02981119226118673,0.029720911196972156,0.02962678248399121,0.02952883286241286,0.029427087317463733,0.029321569788164553,0.02921230385544834,0.029099313402730774,0.02898262324254612,0.028862259703488696,0.028738251172405384,0.02861062858755619,0.028479425879277206,0.02834468035553803,0.02820643303065983,0.028064728896338008,0.027919617134978376,0.02777115127619157,0.027619389298081796,0.027464393675696357,0.027306231379666698,0.027144973828644198,0.026980696799628244,0.02681348030066343,0.026643408410674106,0.026470569091379893,0.026295053976312658,0.026116958141924197,0.0259363798656507,0.025753420375580902,0.02556818359607648,0.025380775893323434,0.025191305824361257,0.024999883892660325,0.024806622312805972,0.02461163478631614,0.024415036290081606,0.024216942878386244,0.02401747149895424,0.023816739822985572,0.0236148660887051,0.023411968957556453,0.023208167381834493,0.02300358048228271,0.022798327433965444,0.022592527358587935,0.022386299221355956,0.02217976173045805,0.021973033237294114,0.02176623163568064,0.02155947425841048,0.021352877769735403,0.021146558052562693,0.020940630089408205,0.020735207836405704,0.020530404089949224,0.020326330345807456,0.020123096650813264,0.01992081144746963,0.019719581412038573,0.019519511286865136,0.019320703707856414,0.019123259028154514,0.018927275139139346,0.018732847289945582,0.018540067906700763,0.018349026412676144,0.018159809050497633,0.017972498707491832,0.017787174745152658,0.017603912833601083,0.017422784791789853,0.017243858434078378,0.017067197423671812,0.016892861133295356,0.016720904513356998,0.01655137796775013,0.01638432723736062,0.01621979329127511,0.016057812225644487,0.015898415170131925,0.01574162820187808,0.015587472266940672,0.015435963109211628,0.015287111206884715,0.015140921716628675,0.014997394425725917,0.014856523712543939,0.014718298515831858,0.014582702313453688,0.014449713111296504,0.014319303443210632,0.014191440382948759,0.014066085569169856,0.013943195244657659,0.013822720310966046,0.013704606399745327,0.013588793962023579,0.0134752183767053,0.013363810079516678,0.013254494713562623,0.013147193302566267,0.013041822447742324,0.012938294549108305,0.012836518051859628,0.012736397718237468,0.01263783492509462,0.012540727987121199,0.01244497250543209,0.012350461740941,0.012257087011660728,0.012164738112772277,0.012073303758007248,0.011982672040587708,0.011892730911670172,0.01180336867395195,0.011714474487819761,0.011625938887156398,0.011537654301679048,0.011449515582461057,0.011361420527094537,0.011273270400787247,0.011184970449556624,0.011096430401588347,0.011007564952771155,0.010918294232405704,0.01082854424511113,0.010738247285027161,0.010647342318524199,0.010555775331796623,0.010463499639919696,0.01037047615419943,0.010276673604936294,0.010182068717052545,0.010086646336399302,0.009990399504958425,0.009893329483580338,0.009795445721349947,0.009696765771140996,0.009597315151401869,0.00949712715470266,0.009396242604063687,0.00929470955856943,0.009192582970242296,0.009089924294606842,0.008986801057802746,0.008883286383508172,0.008779458483298428,0.008675400114394376,0.008571198009035334,0.008466942279950278,0.008362725806586271,0.008258643606889158,0.00815479219951512,0.008051268961381194,0.007948171485442227,0.007845596943508722,0.007743641458799678,0.007642399492758022,0.00754196325044723,0.007442422108601864,0.0073438620701235776,0.0072463652485057475,0.007150009385336963,0.007054867403683325,0.00696100699978443,0.006868490275128061,0.0067773734105930575,0.006687706383978161,0.006599532731870285,0.006512889356449455,0.006427806377489244,0.006344307029487488,0.006262407603560045,0.006182117433448972,0.006103438924739296,0.006026367626144003,0.005950892341508795,0.005876995281001322,0.005804652249788555,0.005733832872365437,0.005664500850578841,0.005596614253290372,0.005530125835538201,0.0054649833849891435,0.0054011300934166725,0.00533850495089468,0.005277043160359853,0.005216676570164962,0.005157334122218924,0.005098942313287893,0.005041425667008673,0.00498470721414792,0.004928708978619205,0.004873352466751225,0.004818559157280462,0.004764250989522123,0.00471035084715598,0.004656783035046826,0.004603473746507498,0.004550351518405035,0.004497347671509397,0.0044443967334925,0.004391436842003572,0.004338410125278295,0.004285263057784168,0.004231946788468477,0.004178417439254532,0.004124636371534675,0.0040705704185308176,0.004016192081540287,0.003961479688254404,0.00390641751153314,0.0038509958472387924,0.0037952110499769763,0.003739065525862129,0.0036825676817174363,0.0036257318304330497,0.0035685780525404986,0.0035111320144117215,0.0034534247438572164,0.003395492364273543,0.003337375788873944,0.003279120376922279,0.003220775554275405,0.003162394400917443,0.003104033208536734,0.0030457510115472737,0.0029876090952847445,0.002929670485410603,0.0028719994228267125,0.0028146608286370957,0.002757719763884471,0.0027012408889354887,0.0026452879274845463,0.0025899231401891563,0.0025352068129379833,0.002481196764682465,0.002427947879634975,0.002375511668449088,0.0023239358627521,0.002273264047097462,0.0022235353320480254,0.0021747840716928287,0.0021270396284449374,0.002080326187470927,0.002034662622568695,0.0019900624147474308,0.001946533624177543,0.001904078915577472,0.0018626956364964367,0.0018223759473458957,0.0017831070014354725,0.0017448711726911253,0.0017076463281810114,0.0016714061420573993,0.001636120447047672,0.0016017556192011665,0.001568274991227637,0.0015356392894531018,0.0015038070891738769,0.0014727352830136403,0.0014423795567833659,0.0014126948673120903,0.0013836359167568736,0.0013551576180128055,0.0013272155460260639,0.0012997663700620192,0.0012727682622914688,0.001246181278426629,0.0012199677065585278,0.0011940923808117997,0.0011685229569347773,0.0011432301474740985,0.0011181879147357334,0.0010933736203002195,0.0010687681304303348,0.001044355877276464,0.0010201248763403554,0.000996066701194103,0.0009721764169610307,0.00094845247454192,0.0009248965680081115,0.0009015134579767554,0.0008783107641293504,0.0008552987303284898,0.0008324899660274635,0.0008098991678509556,0.0007875428253522487,0.0007654389150226986,0.0007436065866442778,0.0007220658460368221,0.0007008372381615131,0.0006799415344032923,0.0006593994276718045,0.0006392312387367708,0.0006194566369542179,0.0006000943782495396,0.0005811620629070012,0.0005626759153783915,0.0005446505879712143,0.0005270989899144351,0.0005100321429325232,0.0004934590640912729,0.00047738667631645266,0.0004618197466332141,0.0004467608518343717,0.0004322103709631555,0.0004181665036939644,0.00040462531341612116,0.0003915807935730738,0.0003790249555850235,0.0003669479364881771,0.00035533812425988235,0.00034418229866661044,0.0003334657853713798,0.0003231726209686152,0.00031328572657734024,0.00030378708761689694,0.0002946579374121699,0.0002858789423258744,0.00027743038619226296,0.0002692923519274874,0.0002614448983146813,0.00025386823010416996,0.0002465428597285566,0.0002394497591060854,0.00023257050019095924],\"yaxis\":\"y\",\"type\":\"scatter\"},{\"legendgroup\":\"\\u0412\\u043e\\u0437\\u0440\\u0430\\u0441\\u0442\",\"marker\":{\"color\":\"rgb(31, 119, 180)\",\"symbol\":\"line-ns-open\"},\"mode\":\"markers\",\"name\":\"\\u0412\\u043e\\u0437\\u0440\\u0430\\u0441\\u0442\",\"showlegend\":false,\"x\":[22.0,38.0,26.0,35.0,35.0,54.0,2.0,27.0,14.0,4.0,58.0,20.0,39.0,14.0,55.0,2.0,31.0,35.0,34.0,15.0,28.0,8.0,38.0,19.0,40.0,66.0,28.0,42.0,21.0,18.0,14.0,40.0,27.0,3.0,19.0,18.0,7.0,21.0,49.0,29.0,65.0,21.0,28.5,5.0,11.0,22.0,38.0,45.0,4.0,29.0,19.0,17.0,26.0,32.0,16.0,21.0,26.0,32.0,25.0,0.83,30.0,22.0,29.0,28.0,17.0,33.0,16.0,23.0,24.0,29.0,20.0,46.0,26.0,59.0,71.0,23.0,34.0,34.0,28.0,21.0,33.0,37.0,28.0,21.0,38.0,47.0,14.5,22.0,20.0,17.0,21.0,70.5,29.0,24.0,2.0,21.0,32.5,32.5,54.0,12.0,24.0,45.0,33.0,20.0,47.0,29.0,25.0,23.0,19.0,37.0,16.0,24.0,22.0,24.0,19.0,18.0,19.0,27.0,9.0,36.5,42.0,51.0,22.0,55.5,40.5,51.0,16.0,30.0,44.0,40.0,26.0,17.0,1.0,9.0,45.0,28.0,61.0,4.0,1.0,21.0,56.0,18.0,50.0,30.0,36.0,9.0,1.0,4.0,45.0,40.0,36.0,32.0,19.0,19.0,3.0,44.0,58.0,42.0,24.0,28.0,34.0,45.5,18.0,2.0,32.0,26.0,16.0,40.0,24.0,35.0,22.0,30.0,31.0,27.0,42.0,32.0,30.0,16.0,27.0,51.0,38.0,22.0,19.0,20.5,18.0,35.0,29.0,59.0,5.0,24.0,44.0,8.0,19.0,33.0,29.0,22.0,30.0,44.0,25.0,24.0,37.0,54.0,29.0,62.0,30.0,41.0,29.0,30.0,35.0,50.0,3.0,52.0,40.0,36.0,16.0,25.0,58.0,35.0,25.0,41.0,37.0,63.0,45.0,7.0,35.0,65.0,28.0,16.0,19.0,33.0,30.0,22.0,42.0,22.0,26.0,19.0,36.0,24.0,24.0,23.5,2.0,50.0,19.0,0.92,17.0,30.0,30.0,24.0,18.0,26.0,28.0,43.0,26.0,24.0,54.0,31.0,40.0,22.0,27.0,30.0,22.0,36.0,61.0,36.0,31.0,16.0,45.5,38.0,16.0,29.0,41.0,45.0,45.0,2.0,24.0,28.0,25.0,36.0,24.0,40.0,3.0,42.0,23.0,15.0,25.0,28.0,22.0,38.0,40.0,29.0,45.0,35.0,30.0,60.0,24.0,25.0,18.0,19.0,22.0,3.0,22.0,27.0,20.0,19.0,42.0,1.0,32.0,35.0,18.0,1.0,36.0,17.0,36.0,21.0,28.0,23.0,24.0,22.0,31.0,46.0,23.0,28.0,39.0,26.0,21.0,28.0,20.0,34.0,51.0,3.0,21.0,33.0,44.0,34.0,18.0,30.0,10.0,21.0,29.0,28.0,18.0,28.0,19.0,32.0,28.0,42.0,17.0,50.0,14.0,21.0,24.0,64.0,31.0,45.0,20.0,25.0,28.0,4.0,13.0,34.0,5.0,52.0,36.0,30.0,49.0,29.0,65.0,50.0,48.0,34.0,47.0,48.0,38.0,56.0,0.75,38.0,33.0,23.0,22.0,34.0,29.0,22.0,2.0,9.0,50.0,63.0,25.0,35.0,58.0,30.0,9.0,21.0,55.0,71.0,21.0,54.0,25.0,24.0,17.0,21.0,37.0,16.0,18.0,33.0,28.0,26.0,29.0,36.0,54.0,24.0,47.0,34.0,36.0,32.0,30.0,22.0,44.0,40.5,50.0,39.0,23.0,2.0,17.0,30.0,7.0,45.0,30.0,22.0,36.0,9.0,11.0,32.0,50.0,64.0,19.0,33.0,8.0,17.0,27.0,22.0,22.0,62.0,48.0,39.0,36.0,40.0,28.0,24.0,19.0,29.0,32.0,62.0,53.0,36.0,16.0,19.0,34.0,39.0,32.0,25.0,39.0,54.0,36.0,18.0,47.0,60.0,22.0,35.0,52.0,47.0,37.0,36.0,49.0,49.0,24.0,44.0,35.0,36.0,30.0,27.0,22.0,40.0,39.0,35.0,24.0,34.0,26.0,4.0,26.0,27.0,42.0,20.0,21.0,21.0,61.0,57.0,21.0,26.0,80.0,51.0,32.0,9.0,28.0,32.0,31.0,41.0,20.0,24.0,2.0,0.75,48.0,19.0,56.0,23.0,18.0,21.0,18.0,24.0,32.0,23.0,58.0,50.0,40.0,47.0,36.0,20.0,32.0,25.0,43.0,40.0,31.0,70.0,31.0,18.0,24.5,18.0,43.0,36.0,27.0,20.0,14.0,60.0,25.0,14.0,19.0,18.0,15.0,31.0,4.0,25.0,60.0,52.0,44.0,49.0,42.0,18.0,35.0,18.0,25.0,26.0,39.0,45.0,42.0,22.0,24.0,48.0,29.0,52.0,19.0,38.0,27.0,33.0,6.0,17.0,34.0,50.0,27.0,20.0,30.0,25.0,25.0,29.0,11.0,23.0,23.0,28.5,48.0,35.0,36.0,21.0,24.0,31.0,70.0,16.0,30.0,19.0,31.0,4.0,6.0,33.0,23.0,48.0,0.67,28.0,18.0,34.0,33.0,41.0,20.0,36.0,16.0,51.0,30.5,32.0,24.0,48.0,57.0,54.0,18.0,5.0,43.0,13.0,17.0,29.0,25.0,25.0,18.0,8.0,1.0,46.0,16.0,25.0,39.0,49.0,31.0,30.0,30.0,34.0,31.0,11.0,0.42,27.0,31.0,39.0,18.0,39.0,33.0,26.0,39.0,35.0,6.0,30.5,23.0,31.0,43.0,10.0,52.0,27.0,38.0,27.0,2.0,1.0,62.0,15.0,0.83,23.0,18.0,39.0,21.0,32.0,20.0,16.0,30.0,34.5,17.0,42.0,35.0,28.0,4.0,74.0,9.0,16.0,44.0,18.0,45.0,51.0,24.0,41.0,21.0,48.0,24.0,42.0,27.0,31.0,4.0,26.0,47.0,33.0,47.0,28.0,15.0,20.0,19.0,56.0,25.0,33.0,22.0,28.0,25.0,39.0,27.0,19.0,26.0,32.0],\"xaxis\":\"x\",\"y\":[\"\\u0412\\u043e\\u0437\\u0440\\u0430\\u0441\\u0442\",\"\\u0412\\u043e\\u0437\\u0440\\u0430\\u0441\\u0442\",\"\\u0412\\u043e\\u0437\\u0440\\u0430\\u0441\\u0442\",\"\\u0412\\u043e\\u0437\\u0440\\u0430\\u0441\\u0442\",\"\\u0412\\u043e\\u0437\\u0440\\u0430\\u0441\\u0442\",\"\\u0412\\u043e\\u0437\\u0440\\u0430\\u0441\\u0442\",\"\\u0412\\u043e\\u0437\\u0440\\u0430\\u0441\\u0442\",\"\\u0412\\u043e\\u0437\\u0440\\u0430\\u0441\\u0442\",\"\\u0412\\u043e\\u0437\\u0440\\u0430\\u0441\\u0442\",\"\\u0412\\u043e\\u0437\\u0440\\u0430\\u0441\\u0442\",\"\\u0412\\u043e\\u0437\\u0440\\u0430\\u0441\\u0442\",\"\\u0412\\u043e\\u0437\\u0440\\u0430\\u0441\\u0442\",\"\\u0412\\u043e\\u0437\\u0440\\u0430\\u0441\\u0442\",\"\\u0412\\u043e\\u0437\\u0440\\u0430\\u0441\\u0442\",\"\\u0412\\u043e\\u0437\\u0440\\u0430\\u0441\\u0442\",\"\\u0412\\u043e\\u0437\\u0440\\u0430\\u0441\\u0442\",\"\\u0412\\u043e\\u0437\\u0440\\u0430\\u0441\\u0442\",\"\\u0412\\u043e\\u0437\\u0440\\u0430\\u0441\\u0442\",\"\\u0412\\u043e\\u0437\\u0440\\u0430\\u0441\\u0442\",\"\\u0412\\u043e\\u0437\\u0440\\u0430\\u0441\\u0442\",\"\\u0412\\u043e\\u0437\\u0440\\u0430\\u0441\\u0442\",\"\\u0412\\u043e\\u0437\\u0440\\u0430\\u0441\\u0442\",\"\\u0412\\u043e\\u0437\\u0440\\u0430\\u0441\\u0442\",\"\\u0412\\u043e\\u0437\\u0440\\u0430\\u0441\\u0442\",\"\\u0412\\u043e\\u0437\\u0440\\u0430\\u0441\\u0442\",\"\\u0412\\u043e\\u0437\\u0440\\u0430\\u0441\\u0442\",\"\\u0412\\u043e\\u0437\\u0440\\u0430\\u0441\\u0442\",\"\\u0412\\u043e\\u0437\\u0440\\u0430\\u0441\\u0442\",\"\\u0412\\u043e\\u0437\\u0440\\u0430\\u0441\\u0442\",\"\\u0412\\u043e\\u0437\\u0440\\u0430\\u0441\\u0442\",\"\\u0412\\u043e\\u0437\\u0440\\u0430\\u0441\\u0442\",\"\\u0412\\u043e\\u0437\\u0440\\u0430\\u0441\\u0442\",\"\\u0412\\u043e\\u0437\\u0440\\u0430\\u0441\\u0442\",\"\\u0412\\u043e\\u0437\\u0440\\u0430\\u0441\\u0442\",\"\\u0412\\u043e\\u0437\\u0440\\u0430\\u0441\\u0442\",\"\\u0412\\u043e\\u0437\\u0440\\u0430\\u0441\\u0442\",\"\\u0412\\u043e\\u0437\\u0440\\u0430\\u0441\\u0442\",\"\\u0412\\u043e\\u0437\\u0440\\u0430\\u0441\\u0442\",\"\\u0412\\u043e\\u0437\\u0440\\u0430\\u0441\\u0442\",\"\\u0412\\u043e\\u0437\\u0440\\u0430\\u0441\\u0442\",\"\\u0412\\u043e\\u0437\\u0440\\u0430\\u0441\\u0442\",\"\\u0412\\u043e\\u0437\\u0440\\u0430\\u0441\\u0442\",\"\\u0412\\u043e\\u0437\\u0440\\u0430\\u0441\\u0442\",\"\\u0412\\u043e\\u0437\\u0440\\u0430\\u0441\\u0442\",\"\\u0412\\u043e\\u0437\\u0440\\u0430\\u0441\\u0442\",\"\\u0412\\u043e\\u0437\\u0440\\u0430\\u0441\\u0442\",\"\\u0412\\u043e\\u0437\\u0440\\u0430\\u0441\\u0442\",\"\\u0412\\u043e\\u0437\\u0440\\u0430\\u0441\\u0442\",\"\\u0412\\u043e\\u0437\\u0440\\u0430\\u0441\\u0442\",\"\\u0412\\u043e\\u0437\\u0440\\u0430\\u0441\\u0442\",\"\\u0412\\u043e\\u0437\\u0440\\u0430\\u0441\\u0442\",\"\\u0412\\u043e\\u0437\\u0440\\u0430\\u0441\\u0442\",\"\\u0412\\u043e\\u0437\\u0440\\u0430\\u0441\\u0442\",\"\\u0412\\u043e\\u0437\\u0440\\u0430\\u0441\\u0442\",\"\\u0412\\u043e\\u0437\\u0440\\u0430\\u0441\\u0442\",\"\\u0412\\u043e\\u0437\\u0440\\u0430\\u0441\\u0442\",\"\\u0412\\u043e\\u0437\\u0440\\u0430\\u0441\\u0442\",\"\\u0412\\u043e\\u0437\\u0440\\u0430\\u0441\\u0442\",\"\\u0412\\u043e\\u0437\\u0440\\u0430\\u0441\\u0442\",\"\\u0412\\u043e\\u0437\\u0440\\u0430\\u0441\\u0442\",\"\\u0412\\u043e\\u0437\\u0440\\u0430\\u0441\\u0442\",\"\\u0412\\u043e\\u0437\\u0440\\u0430\\u0441\\u0442\",\"\\u0412\\u043e\\u0437\\u0440\\u0430\\u0441\\u0442\",\"\\u0412\\u043e\\u0437\\u0440\\u0430\\u0441\\u0442\",\"\\u0412\\u043e\\u0437\\u0440\\u0430\\u0441\\u0442\",\"\\u0412\\u043e\\u0437\\u0440\\u0430\\u0441\\u0442\",\"\\u0412\\u043e\\u0437\\u0440\\u0430\\u0441\\u0442\",\"\\u0412\\u043e\\u0437\\u0440\\u0430\\u0441\\u0442\",\"\\u0412\\u043e\\u0437\\u0440\\u0430\\u0441\\u0442\",\"\\u0412\\u043e\\u0437\\u0440\\u0430\\u0441\\u0442\",\"\\u0412\\u043e\\u0437\\u0440\\u0430\\u0441\\u0442\",\"\\u0412\\u043e\\u0437\\u0440\\u0430\\u0441\\u0442\",\"\\u0412\\u043e\\u0437\\u0440\\u0430\\u0441\\u0442\",\"\\u0412\\u043e\\u0437\\u0440\\u0430\\u0441\\u0442\",\"\\u0412\\u043e\\u0437\\u0440\\u0430\\u0441\\u0442\",\"\\u0412\\u043e\\u0437\\u0440\\u0430\\u0441\\u0442\",\"\\u0412\\u043e\\u0437\\u0440\\u0430\\u0441\\u0442\",\"\\u0412\\u043e\\u0437\\u0440\\u0430\\u0441\\u0442\",\"\\u0412\\u043e\\u0437\\u0440\\u0430\\u0441\\u0442\",\"\\u0412\\u043e\\u0437\\u0440\\u0430\\u0441\\u0442\",\"\\u0412\\u043e\\u0437\\u0440\\u0430\\u0441\\u0442\",\"\\u0412\\u043e\\u0437\\u0440\\u0430\\u0441\\u0442\",\"\\u0412\\u043e\\u0437\\u0440\\u0430\\u0441\\u0442\",\"\\u0412\\u043e\\u0437\\u0440\\u0430\\u0441\\u0442\",\"\\u0412\\u043e\\u0437\\u0440\\u0430\\u0441\\u0442\",\"\\u0412\\u043e\\u0437\\u0440\\u0430\\u0441\\u0442\",\"\\u0412\\u043e\\u0437\\u0440\\u0430\\u0441\\u0442\",\"\\u0412\\u043e\\u0437\\u0440\\u0430\\u0441\\u0442\",\"\\u0412\\u043e\\u0437\\u0440\\u0430\\u0441\\u0442\",\"\\u0412\\u043e\\u0437\\u0440\\u0430\\u0441\\u0442\",\"\\u0412\\u043e\\u0437\\u0440\\u0430\\u0441\\u0442\",\"\\u0412\\u043e\\u0437\\u0440\\u0430\\u0441\\u0442\",\"\\u0412\\u043e\\u0437\\u0440\\u0430\\u0441\\u0442\",\"\\u0412\\u043e\\u0437\\u0440\\u0430\\u0441\\u0442\",\"\\u0412\\u043e\\u0437\\u0440\\u0430\\u0441\\u0442\",\"\\u0412\\u043e\\u0437\\u0440\\u0430\\u0441\\u0442\",\"\\u0412\\u043e\\u0437\\u0440\\u0430\\u0441\\u0442\",\"\\u0412\\u043e\\u0437\\u0440\\u0430\\u0441\\u0442\",\"\\u0412\\u043e\\u0437\\u0440\\u0430\\u0441\\u0442\",\"\\u0412\\u043e\\u0437\\u0440\\u0430\\u0441\\u0442\",\"\\u0412\\u043e\\u0437\\u0440\\u0430\\u0441\\u0442\",\"\\u0412\\u043e\\u0437\\u0440\\u0430\\u0441\\u0442\",\"\\u0412\\u043e\\u0437\\u0440\\u0430\\u0441\\u0442\",\"\\u0412\\u043e\\u0437\\u0440\\u0430\\u0441\\u0442\",\"\\u0412\\u043e\\u0437\\u0440\\u0430\\u0441\\u0442\",\"\\u0412\\u043e\\u0437\\u0440\\u0430\\u0441\\u0442\",\"\\u0412\\u043e\\u0437\\u0440\\u0430\\u0441\\u0442\",\"\\u0412\\u043e\\u0437\\u0440\\u0430\\u0441\\u0442\",\"\\u0412\\u043e\\u0437\\u0440\\u0430\\u0441\\u0442\",\"\\u0412\\u043e\\u0437\\u0440\\u0430\\u0441\\u0442\",\"\\u0412\\u043e\\u0437\\u0440\\u0430\\u0441\\u0442\",\"\\u0412\\u043e\\u0437\\u0440\\u0430\\u0441\\u0442\",\"\\u0412\\u043e\\u0437\\u0440\\u0430\\u0441\\u0442\",\"\\u0412\\u043e\\u0437\\u0440\\u0430\\u0441\\u0442\",\"\\u0412\\u043e\\u0437\\u0440\\u0430\\u0441\\u0442\",\"\\u0412\\u043e\\u0437\\u0440\\u0430\\u0441\\u0442\",\"\\u0412\\u043e\\u0437\\u0440\\u0430\\u0441\\u0442\",\"\\u0412\\u043e\\u0437\\u0440\\u0430\\u0441\\u0442\",\"\\u0412\\u043e\\u0437\\u0440\\u0430\\u0441\\u0442\",\"\\u0412\\u043e\\u0437\\u0440\\u0430\\u0441\\u0442\",\"\\u0412\\u043e\\u0437\\u0440\\u0430\\u0441\\u0442\",\"\\u0412\\u043e\\u0437\\u0440\\u0430\\u0441\\u0442\",\"\\u0412\\u043e\\u0437\\u0440\\u0430\\u0441\\u0442\",\"\\u0412\\u043e\\u0437\\u0440\\u0430\\u0441\\u0442\",\"\\u0412\\u043e\\u0437\\u0440\\u0430\\u0441\\u0442\",\"\\u0412\\u043e\\u0437\\u0440\\u0430\\u0441\\u0442\",\"\\u0412\\u043e\\u0437\\u0440\\u0430\\u0441\\u0442\",\"\\u0412\\u043e\\u0437\\u0440\\u0430\\u0441\\u0442\",\"\\u0412\\u043e\\u0437\\u0440\\u0430\\u0441\\u0442\",\"\\u0412\\u043e\\u0437\\u0440\\u0430\\u0441\\u0442\",\"\\u0412\\u043e\\u0437\\u0440\\u0430\\u0441\\u0442\",\"\\u0412\\u043e\\u0437\\u0440\\u0430\\u0441\\u0442\",\"\\u0412\\u043e\\u0437\\u0440\\u0430\\u0441\\u0442\",\"\\u0412\\u043e\\u0437\\u0440\\u0430\\u0441\\u0442\",\"\\u0412\\u043e\\u0437\\u0440\\u0430\\u0441\\u0442\",\"\\u0412\\u043e\\u0437\\u0440\\u0430\\u0441\\u0442\",\"\\u0412\\u043e\\u0437\\u0440\\u0430\\u0441\\u0442\",\"\\u0412\\u043e\\u0437\\u0440\\u0430\\u0441\\u0442\",\"\\u0412\\u043e\\u0437\\u0440\\u0430\\u0441\\u0442\",\"\\u0412\\u043e\\u0437\\u0440\\u0430\\u0441\\u0442\",\"\\u0412\\u043e\\u0437\\u0440\\u0430\\u0441\\u0442\",\"\\u0412\\u043e\\u0437\\u0440\\u0430\\u0441\\u0442\",\"\\u0412\\u043e\\u0437\\u0440\\u0430\\u0441\\u0442\",\"\\u0412\\u043e\\u0437\\u0440\\u0430\\u0441\\u0442\",\"\\u0412\\u043e\\u0437\\u0440\\u0430\\u0441\\u0442\",\"\\u0412\\u043e\\u0437\\u0440\\u0430\\u0441\\u0442\",\"\\u0412\\u043e\\u0437\\u0440\\u0430\\u0441\\u0442\",\"\\u0412\\u043e\\u0437\\u0440\\u0430\\u0441\\u0442\",\"\\u0412\\u043e\\u0437\\u0440\\u0430\\u0441\\u0442\",\"\\u0412\\u043e\\u0437\\u0440\\u0430\\u0441\\u0442\",\"\\u0412\\u043e\\u0437\\u0440\\u0430\\u0441\\u0442\",\"\\u0412\\u043e\\u0437\\u0440\\u0430\\u0441\\u0442\",\"\\u0412\\u043e\\u0437\\u0440\\u0430\\u0441\\u0442\",\"\\u0412\\u043e\\u0437\\u0440\\u0430\\u0441\\u0442\",\"\\u0412\\u043e\\u0437\\u0440\\u0430\\u0441\\u0442\",\"\\u0412\\u043e\\u0437\\u0440\\u0430\\u0441\\u0442\",\"\\u0412\\u043e\\u0437\\u0440\\u0430\\u0441\\u0442\",\"\\u0412\\u043e\\u0437\\u0440\\u0430\\u0441\\u0442\",\"\\u0412\\u043e\\u0437\\u0440\\u0430\\u0441\\u0442\",\"\\u0412\\u043e\\u0437\\u0440\\u0430\\u0441\\u0442\",\"\\u0412\\u043e\\u0437\\u0440\\u0430\\u0441\\u0442\",\"\\u0412\\u043e\\u0437\\u0440\\u0430\\u0441\\u0442\",\"\\u0412\\u043e\\u0437\\u0440\\u0430\\u0441\\u0442\",\"\\u0412\\u043e\\u0437\\u0440\\u0430\\u0441\\u0442\",\"\\u0412\\u043e\\u0437\\u0440\\u0430\\u0441\\u0442\",\"\\u0412\\u043e\\u0437\\u0440\\u0430\\u0441\\u0442\",\"\\u0412\\u043e\\u0437\\u0440\\u0430\\u0441\\u0442\",\"\\u0412\\u043e\\u0437\\u0440\\u0430\\u0441\\u0442\",\"\\u0412\\u043e\\u0437\\u0440\\u0430\\u0441\\u0442\",\"\\u0412\\u043e\\u0437\\u0440\\u0430\\u0441\\u0442\",\"\\u0412\\u043e\\u0437\\u0440\\u0430\\u0441\\u0442\",\"\\u0412\\u043e\\u0437\\u0440\\u0430\\u0441\\u0442\",\"\\u0412\\u043e\\u0437\\u0440\\u0430\\u0441\\u0442\",\"\\u0412\\u043e\\u0437\\u0440\\u0430\\u0441\\u0442\",\"\\u0412\\u043e\\u0437\\u0440\\u0430\\u0441\\u0442\",\"\\u0412\\u043e\\u0437\\u0440\\u0430\\u0441\\u0442\",\"\\u0412\\u043e\\u0437\\u0440\\u0430\\u0441\\u0442\",\"\\u0412\\u043e\\u0437\\u0440\\u0430\\u0441\\u0442\",\"\\u0412\\u043e\\u0437\\u0440\\u0430\\u0441\\u0442\",\"\\u0412\\u043e\\u0437\\u0440\\u0430\\u0441\\u0442\",\"\\u0412\\u043e\\u0437\\u0440\\u0430\\u0441\\u0442\",\"\\u0412\\u043e\\u0437\\u0440\\u0430\\u0441\\u0442\",\"\\u0412\\u043e\\u0437\\u0440\\u0430\\u0441\\u0442\",\"\\u0412\\u043e\\u0437\\u0440\\u0430\\u0441\\u0442\",\"\\u0412\\u043e\\u0437\\u0440\\u0430\\u0441\\u0442\",\"\\u0412\\u043e\\u0437\\u0440\\u0430\\u0441\\u0442\",\"\\u0412\\u043e\\u0437\\u0440\\u0430\\u0441\\u0442\",\"\\u0412\\u043e\\u0437\\u0440\\u0430\\u0441\\u0442\",\"\\u0412\\u043e\\u0437\\u0440\\u0430\\u0441\\u0442\",\"\\u0412\\u043e\\u0437\\u0440\\u0430\\u0441\\u0442\",\"\\u0412\\u043e\\u0437\\u0440\\u0430\\u0441\\u0442\",\"\\u0412\\u043e\\u0437\\u0440\\u0430\\u0441\\u0442\",\"\\u0412\\u043e\\u0437\\u0440\\u0430\\u0441\\u0442\",\"\\u0412\\u043e\\u0437\\u0440\\u0430\\u0441\\u0442\",\"\\u0412\\u043e\\u0437\\u0440\\u0430\\u0441\\u0442\",\"\\u0412\\u043e\\u0437\\u0440\\u0430\\u0441\\u0442\",\"\\u0412\\u043e\\u0437\\u0440\\u0430\\u0441\\u0442\",\"\\u0412\\u043e\\u0437\\u0440\\u0430\\u0441\\u0442\",\"\\u0412\\u043e\\u0437\\u0440\\u0430\\u0441\\u0442\",\"\\u0412\\u043e\\u0437\\u0440\\u0430\\u0441\\u0442\",\"\\u0412\\u043e\\u0437\\u0440\\u0430\\u0441\\u0442\",\"\\u0412\\u043e\\u0437\\u0440\\u0430\\u0441\\u0442\",\"\\u0412\\u043e\\u0437\\u0440\\u0430\\u0441\\u0442\",\"\\u0412\\u043e\\u0437\\u0440\\u0430\\u0441\\u0442\",\"\\u0412\\u043e\\u0437\\u0440\\u0430\\u0441\\u0442\",\"\\u0412\\u043e\\u0437\\u0440\\u0430\\u0441\\u0442\",\"\\u0412\\u043e\\u0437\\u0440\\u0430\\u0441\\u0442\",\"\\u0412\\u043e\\u0437\\u0440\\u0430\\u0441\\u0442\",\"\\u0412\\u043e\\u0437\\u0440\\u0430\\u0441\\u0442\",\"\\u0412\\u043e\\u0437\\u0440\\u0430\\u0441\\u0442\",\"\\u0412\\u043e\\u0437\\u0440\\u0430\\u0441\\u0442\",\"\\u0412\\u043e\\u0437\\u0440\\u0430\\u0441\\u0442\",\"\\u0412\\u043e\\u0437\\u0440\\u0430\\u0441\\u0442\",\"\\u0412\\u043e\\u0437\\u0440\\u0430\\u0441\\u0442\",\"\\u0412\\u043e\\u0437\\u0440\\u0430\\u0441\\u0442\",\"\\u0412\\u043e\\u0437\\u0440\\u0430\\u0441\\u0442\",\"\\u0412\\u043e\\u0437\\u0440\\u0430\\u0441\\u0442\",\"\\u0412\\u043e\\u0437\\u0440\\u0430\\u0441\\u0442\",\"\\u0412\\u043e\\u0437\\u0440\\u0430\\u0441\\u0442\",\"\\u0412\\u043e\\u0437\\u0440\\u0430\\u0441\\u0442\",\"\\u0412\\u043e\\u0437\\u0440\\u0430\\u0441\\u0442\",\"\\u0412\\u043e\\u0437\\u0440\\u0430\\u0441\\u0442\",\"\\u0412\\u043e\\u0437\\u0440\\u0430\\u0441\\u0442\",\"\\u0412\\u043e\\u0437\\u0440\\u0430\\u0441\\u0442\",\"\\u0412\\u043e\\u0437\\u0440\\u0430\\u0441\\u0442\",\"\\u0412\\u043e\\u0437\\u0440\\u0430\\u0441\\u0442\",\"\\u0412\\u043e\\u0437\\u0440\\u0430\\u0441\\u0442\",\"\\u0412\\u043e\\u0437\\u0440\\u0430\\u0441\\u0442\",\"\\u0412\\u043e\\u0437\\u0440\\u0430\\u0441\\u0442\",\"\\u0412\\u043e\\u0437\\u0440\\u0430\\u0441\\u0442\",\"\\u0412\\u043e\\u0437\\u0440\\u0430\\u0441\\u0442\",\"\\u0412\\u043e\\u0437\\u0440\\u0430\\u0441\\u0442\",\"\\u0412\\u043e\\u0437\\u0440\\u0430\\u0441\\u0442\",\"\\u0412\\u043e\\u0437\\u0440\\u0430\\u0441\\u0442\",\"\\u0412\\u043e\\u0437\\u0440\\u0430\\u0441\\u0442\",\"\\u0412\\u043e\\u0437\\u0440\\u0430\\u0441\\u0442\",\"\\u0412\\u043e\\u0437\\u0440\\u0430\\u0441\\u0442\",\"\\u0412\\u043e\\u0437\\u0440\\u0430\\u0441\\u0442\",\"\\u0412\\u043e\\u0437\\u0440\\u0430\\u0441\\u0442\",\"\\u0412\\u043e\\u0437\\u0440\\u0430\\u0441\\u0442\",\"\\u0412\\u043e\\u0437\\u0440\\u0430\\u0441\\u0442\",\"\\u0412\\u043e\\u0437\\u0440\\u0430\\u0441\\u0442\",\"\\u0412\\u043e\\u0437\\u0440\\u0430\\u0441\\u0442\",\"\\u0412\\u043e\\u0437\\u0440\\u0430\\u0441\\u0442\",\"\\u0412\\u043e\\u0437\\u0440\\u0430\\u0441\\u0442\",\"\\u0412\\u043e\\u0437\\u0440\\u0430\\u0441\\u0442\",\"\\u0412\\u043e\\u0437\\u0440\\u0430\\u0441\\u0442\",\"\\u0412\\u043e\\u0437\\u0440\\u0430\\u0441\\u0442\",\"\\u0412\\u043e\\u0437\\u0440\\u0430\\u0441\\u0442\",\"\\u0412\\u043e\\u0437\\u0440\\u0430\\u0441\\u0442\",\"\\u0412\\u043e\\u0437\\u0440\\u0430\\u0441\\u0442\",\"\\u0412\\u043e\\u0437\\u0440\\u0430\\u0441\\u0442\",\"\\u0412\\u043e\\u0437\\u0440\\u0430\\u0441\\u0442\",\"\\u0412\\u043e\\u0437\\u0440\\u0430\\u0441\\u0442\",\"\\u0412\\u043e\\u0437\\u0440\\u0430\\u0441\\u0442\",\"\\u0412\\u043e\\u0437\\u0440\\u0430\\u0441\\u0442\",\"\\u0412\\u043e\\u0437\\u0440\\u0430\\u0441\\u0442\",\"\\u0412\\u043e\\u0437\\u0440\\u0430\\u0441\\u0442\",\"\\u0412\\u043e\\u0437\\u0440\\u0430\\u0441\\u0442\",\"\\u0412\\u043e\\u0437\\u0440\\u0430\\u0441\\u0442\",\"\\u0412\\u043e\\u0437\\u0440\\u0430\\u0441\\u0442\",\"\\u0412\\u043e\\u0437\\u0440\\u0430\\u0441\\u0442\",\"\\u0412\\u043e\\u0437\\u0440\\u0430\\u0441\\u0442\",\"\\u0412\\u043e\\u0437\\u0440\\u0430\\u0441\\u0442\",\"\\u0412\\u043e\\u0437\\u0440\\u0430\\u0441\\u0442\",\"\\u0412\\u043e\\u0437\\u0440\\u0430\\u0441\\u0442\",\"\\u0412\\u043e\\u0437\\u0440\\u0430\\u0441\\u0442\",\"\\u0412\\u043e\\u0437\\u0440\\u0430\\u0441\\u0442\",\"\\u0412\\u043e\\u0437\\u0440\\u0430\\u0441\\u0442\",\"\\u0412\\u043e\\u0437\\u0440\\u0430\\u0441\\u0442\",\"\\u0412\\u043e\\u0437\\u0440\\u0430\\u0441\\u0442\",\"\\u0412\\u043e\\u0437\\u0440\\u0430\\u0441\\u0442\",\"\\u0412\\u043e\\u0437\\u0440\\u0430\\u0441\\u0442\",\"\\u0412\\u043e\\u0437\\u0440\\u0430\\u0441\\u0442\",\"\\u0412\\u043e\\u0437\\u0440\\u0430\\u0441\\u0442\",\"\\u0412\\u043e\\u0437\\u0440\\u0430\\u0441\\u0442\",\"\\u0412\\u043e\\u0437\\u0440\\u0430\\u0441\\u0442\",\"\\u0412\\u043e\\u0437\\u0440\\u0430\\u0441\\u0442\",\"\\u0412\\u043e\\u0437\\u0440\\u0430\\u0441\\u0442\",\"\\u0412\\u043e\\u0437\\u0440\\u0430\\u0441\\u0442\",\"\\u0412\\u043e\\u0437\\u0440\\u0430\\u0441\\u0442\",\"\\u0412\\u043e\\u0437\\u0440\\u0430\\u0441\\u0442\",\"\\u0412\\u043e\\u0437\\u0440\\u0430\\u0441\\u0442\",\"\\u0412\\u043e\\u0437\\u0440\\u0430\\u0441\\u0442\",\"\\u0412\\u043e\\u0437\\u0440\\u0430\\u0441\\u0442\",\"\\u0412\\u043e\\u0437\\u0440\\u0430\\u0441\\u0442\",\"\\u0412\\u043e\\u0437\\u0440\\u0430\\u0441\\u0442\",\"\\u0412\\u043e\\u0437\\u0440\\u0430\\u0441\\u0442\",\"\\u0412\\u043e\\u0437\\u0440\\u0430\\u0441\\u0442\",\"\\u0412\\u043e\\u0437\\u0440\\u0430\\u0441\\u0442\",\"\\u0412\\u043e\\u0437\\u0440\\u0430\\u0441\\u0442\",\"\\u0412\\u043e\\u0437\\u0440\\u0430\\u0441\\u0442\",\"\\u0412\\u043e\\u0437\\u0440\\u0430\\u0441\\u0442\",\"\\u0412\\u043e\\u0437\\u0440\\u0430\\u0441\\u0442\",\"\\u0412\\u043e\\u0437\\u0440\\u0430\\u0441\\u0442\",\"\\u0412\\u043e\\u0437\\u0440\\u0430\\u0441\\u0442\",\"\\u0412\\u043e\\u0437\\u0440\\u0430\\u0441\\u0442\",\"\\u0412\\u043e\\u0437\\u0440\\u0430\\u0441\\u0442\",\"\\u0412\\u043e\\u0437\\u0440\\u0430\\u0441\\u0442\",\"\\u0412\\u043e\\u0437\\u0440\\u0430\\u0441\\u0442\",\"\\u0412\\u043e\\u0437\\u0440\\u0430\\u0441\\u0442\",\"\\u0412\\u043e\\u0437\\u0440\\u0430\\u0441\\u0442\",\"\\u0412\\u043e\\u0437\\u0440\\u0430\\u0441\\u0442\",\"\\u0412\\u043e\\u0437\\u0440\\u0430\\u0441\\u0442\",\"\\u0412\\u043e\\u0437\\u0440\\u0430\\u0441\\u0442\",\"\\u0412\\u043e\\u0437\\u0440\\u0430\\u0441\\u0442\",\"\\u0412\\u043e\\u0437\\u0440\\u0430\\u0441\\u0442\",\"\\u0412\\u043e\\u0437\\u0440\\u0430\\u0441\\u0442\",\"\\u0412\\u043e\\u0437\\u0440\\u0430\\u0441\\u0442\",\"\\u0412\\u043e\\u0437\\u0440\\u0430\\u0441\\u0442\",\"\\u0412\\u043e\\u0437\\u0440\\u0430\\u0441\\u0442\",\"\\u0412\\u043e\\u0437\\u0440\\u0430\\u0441\\u0442\",\"\\u0412\\u043e\\u0437\\u0440\\u0430\\u0441\\u0442\",\"\\u0412\\u043e\\u0437\\u0440\\u0430\\u0441\\u0442\",\"\\u0412\\u043e\\u0437\\u0440\\u0430\\u0441\\u0442\",\"\\u0412\\u043e\\u0437\\u0440\\u0430\\u0441\\u0442\",\"\\u0412\\u043e\\u0437\\u0440\\u0430\\u0441\\u0442\",\"\\u0412\\u043e\\u0437\\u0440\\u0430\\u0441\\u0442\",\"\\u0412\\u043e\\u0437\\u0440\\u0430\\u0441\\u0442\",\"\\u0412\\u043e\\u0437\\u0440\\u0430\\u0441\\u0442\",\"\\u0412\\u043e\\u0437\\u0440\\u0430\\u0441\\u0442\",\"\\u0412\\u043e\\u0437\\u0440\\u0430\\u0441\\u0442\",\"\\u0412\\u043e\\u0437\\u0440\\u0430\\u0441\\u0442\",\"\\u0412\\u043e\\u0437\\u0440\\u0430\\u0441\\u0442\",\"\\u0412\\u043e\\u0437\\u0440\\u0430\\u0441\\u0442\",\"\\u0412\\u043e\\u0437\\u0440\\u0430\\u0441\\u0442\",\"\\u0412\\u043e\\u0437\\u0440\\u0430\\u0441\\u0442\",\"\\u0412\\u043e\\u0437\\u0440\\u0430\\u0441\\u0442\",\"\\u0412\\u043e\\u0437\\u0440\\u0430\\u0441\\u0442\",\"\\u0412\\u043e\\u0437\\u0440\\u0430\\u0441\\u0442\",\"\\u0412\\u043e\\u0437\\u0440\\u0430\\u0441\\u0442\",\"\\u0412\\u043e\\u0437\\u0440\\u0430\\u0441\\u0442\",\"\\u0412\\u043e\\u0437\\u0440\\u0430\\u0441\\u0442\",\"\\u0412\\u043e\\u0437\\u0440\\u0430\\u0441\\u0442\",\"\\u0412\\u043e\\u0437\\u0440\\u0430\\u0441\\u0442\",\"\\u0412\\u043e\\u0437\\u0440\\u0430\\u0441\\u0442\",\"\\u0412\\u043e\\u0437\\u0440\\u0430\\u0441\\u0442\",\"\\u0412\\u043e\\u0437\\u0440\\u0430\\u0441\\u0442\",\"\\u0412\\u043e\\u0437\\u0440\\u0430\\u0441\\u0442\",\"\\u0412\\u043e\\u0437\\u0440\\u0430\\u0441\\u0442\",\"\\u0412\\u043e\\u0437\\u0440\\u0430\\u0441\\u0442\",\"\\u0412\\u043e\\u0437\\u0440\\u0430\\u0441\\u0442\",\"\\u0412\\u043e\\u0437\\u0440\\u0430\\u0441\\u0442\",\"\\u0412\\u043e\\u0437\\u0440\\u0430\\u0441\\u0442\",\"\\u0412\\u043e\\u0437\\u0440\\u0430\\u0441\\u0442\",\"\\u0412\\u043e\\u0437\\u0440\\u0430\\u0441\\u0442\",\"\\u0412\\u043e\\u0437\\u0440\\u0430\\u0441\\u0442\",\"\\u0412\\u043e\\u0437\\u0440\\u0430\\u0441\\u0442\",\"\\u0412\\u043e\\u0437\\u0440\\u0430\\u0441\\u0442\",\"\\u0412\\u043e\\u0437\\u0440\\u0430\\u0441\\u0442\",\"\\u0412\\u043e\\u0437\\u0440\\u0430\\u0441\\u0442\",\"\\u0412\\u043e\\u0437\\u0440\\u0430\\u0441\\u0442\",\"\\u0412\\u043e\\u0437\\u0440\\u0430\\u0441\\u0442\",\"\\u0412\\u043e\\u0437\\u0440\\u0430\\u0441\\u0442\",\"\\u0412\\u043e\\u0437\\u0440\\u0430\\u0441\\u0442\",\"\\u0412\\u043e\\u0437\\u0440\\u0430\\u0441\\u0442\",\"\\u0412\\u043e\\u0437\\u0440\\u0430\\u0441\\u0442\",\"\\u0412\\u043e\\u0437\\u0440\\u0430\\u0441\\u0442\",\"\\u0412\\u043e\\u0437\\u0440\\u0430\\u0441\\u0442\",\"\\u0412\\u043e\\u0437\\u0440\\u0430\\u0441\\u0442\",\"\\u0412\\u043e\\u0437\\u0440\\u0430\\u0441\\u0442\",\"\\u0412\\u043e\\u0437\\u0440\\u0430\\u0441\\u0442\",\"\\u0412\\u043e\\u0437\\u0440\\u0430\\u0441\\u0442\",\"\\u0412\\u043e\\u0437\\u0440\\u0430\\u0441\\u0442\",\"\\u0412\\u043e\\u0437\\u0440\\u0430\\u0441\\u0442\",\"\\u0412\\u043e\\u0437\\u0440\\u0430\\u0441\\u0442\",\"\\u0412\\u043e\\u0437\\u0440\\u0430\\u0441\\u0442\",\"\\u0412\\u043e\\u0437\\u0440\\u0430\\u0441\\u0442\",\"\\u0412\\u043e\\u0437\\u0440\\u0430\\u0441\\u0442\",\"\\u0412\\u043e\\u0437\\u0440\\u0430\\u0441\\u0442\",\"\\u0412\\u043e\\u0437\\u0440\\u0430\\u0441\\u0442\",\"\\u0412\\u043e\\u0437\\u0440\\u0430\\u0441\\u0442\",\"\\u0412\\u043e\\u0437\\u0440\\u0430\\u0441\\u0442\",\"\\u0412\\u043e\\u0437\\u0440\\u0430\\u0441\\u0442\",\"\\u0412\\u043e\\u0437\\u0440\\u0430\\u0441\\u0442\",\"\\u0412\\u043e\\u0437\\u0440\\u0430\\u0441\\u0442\",\"\\u0412\\u043e\\u0437\\u0440\\u0430\\u0441\\u0442\",\"\\u0412\\u043e\\u0437\\u0440\\u0430\\u0441\\u0442\",\"\\u0412\\u043e\\u0437\\u0440\\u0430\\u0441\\u0442\",\"\\u0412\\u043e\\u0437\\u0440\\u0430\\u0441\\u0442\",\"\\u0412\\u043e\\u0437\\u0440\\u0430\\u0441\\u0442\",\"\\u0412\\u043e\\u0437\\u0440\\u0430\\u0441\\u0442\",\"\\u0412\\u043e\\u0437\\u0440\\u0430\\u0441\\u0442\",\"\\u0412\\u043e\\u0437\\u0440\\u0430\\u0441\\u0442\",\"\\u0412\\u043e\\u0437\\u0440\\u0430\\u0441\\u0442\",\"\\u0412\\u043e\\u0437\\u0440\\u0430\\u0441\\u0442\",\"\\u0412\\u043e\\u0437\\u0440\\u0430\\u0441\\u0442\",\"\\u0412\\u043e\\u0437\\u0440\\u0430\\u0441\\u0442\",\"\\u0412\\u043e\\u0437\\u0440\\u0430\\u0441\\u0442\",\"\\u0412\\u043e\\u0437\\u0440\\u0430\\u0441\\u0442\",\"\\u0412\\u043e\\u0437\\u0440\\u0430\\u0441\\u0442\",\"\\u0412\\u043e\\u0437\\u0440\\u0430\\u0441\\u0442\",\"\\u0412\\u043e\\u0437\\u0440\\u0430\\u0441\\u0442\",\"\\u0412\\u043e\\u0437\\u0440\\u0430\\u0441\\u0442\",\"\\u0412\\u043e\\u0437\\u0440\\u0430\\u0441\\u0442\",\"\\u0412\\u043e\\u0437\\u0440\\u0430\\u0441\\u0442\",\"\\u0412\\u043e\\u0437\\u0440\\u0430\\u0441\\u0442\",\"\\u0412\\u043e\\u0437\\u0440\\u0430\\u0441\\u0442\",\"\\u0412\\u043e\\u0437\\u0440\\u0430\\u0441\\u0442\",\"\\u0412\\u043e\\u0437\\u0440\\u0430\\u0441\\u0442\",\"\\u0412\\u043e\\u0437\\u0440\\u0430\\u0441\\u0442\",\"\\u0412\\u043e\\u0437\\u0440\\u0430\\u0441\\u0442\",\"\\u0412\\u043e\\u0437\\u0440\\u0430\\u0441\\u0442\",\"\\u0412\\u043e\\u0437\\u0440\\u0430\\u0441\\u0442\",\"\\u0412\\u043e\\u0437\\u0440\\u0430\\u0441\\u0442\",\"\\u0412\\u043e\\u0437\\u0440\\u0430\\u0441\\u0442\",\"\\u0412\\u043e\\u0437\\u0440\\u0430\\u0441\\u0442\",\"\\u0412\\u043e\\u0437\\u0440\\u0430\\u0441\\u0442\",\"\\u0412\\u043e\\u0437\\u0440\\u0430\\u0441\\u0442\",\"\\u0412\\u043e\\u0437\\u0440\\u0430\\u0441\\u0442\",\"\\u0412\\u043e\\u0437\\u0440\\u0430\\u0441\\u0442\",\"\\u0412\\u043e\\u0437\\u0440\\u0430\\u0441\\u0442\",\"\\u0412\\u043e\\u0437\\u0440\\u0430\\u0441\\u0442\",\"\\u0412\\u043e\\u0437\\u0440\\u0430\\u0441\\u0442\",\"\\u0412\\u043e\\u0437\\u0440\\u0430\\u0441\\u0442\",\"\\u0412\\u043e\\u0437\\u0440\\u0430\\u0441\\u0442\",\"\\u0412\\u043e\\u0437\\u0440\\u0430\\u0441\\u0442\",\"\\u0412\\u043e\\u0437\\u0440\\u0430\\u0441\\u0442\",\"\\u0412\\u043e\\u0437\\u0440\\u0430\\u0441\\u0442\",\"\\u0412\\u043e\\u0437\\u0440\\u0430\\u0441\\u0442\",\"\\u0412\\u043e\\u0437\\u0440\\u0430\\u0441\\u0442\",\"\\u0412\\u043e\\u0437\\u0440\\u0430\\u0441\\u0442\",\"\\u0412\\u043e\\u0437\\u0440\\u0430\\u0441\\u0442\",\"\\u0412\\u043e\\u0437\\u0440\\u0430\\u0441\\u0442\",\"\\u0412\\u043e\\u0437\\u0440\\u0430\\u0441\\u0442\",\"\\u0412\\u043e\\u0437\\u0440\\u0430\\u0441\\u0442\",\"\\u0412\\u043e\\u0437\\u0440\\u0430\\u0441\\u0442\",\"\\u0412\\u043e\\u0437\\u0440\\u0430\\u0441\\u0442\",\"\\u0412\\u043e\\u0437\\u0440\\u0430\\u0441\\u0442\",\"\\u0412\\u043e\\u0437\\u0440\\u0430\\u0441\\u0442\",\"\\u0412\\u043e\\u0437\\u0440\\u0430\\u0441\\u0442\",\"\\u0412\\u043e\\u0437\\u0440\\u0430\\u0441\\u0442\",\"\\u0412\\u043e\\u0437\\u0440\\u0430\\u0441\\u0442\",\"\\u0412\\u043e\\u0437\\u0440\\u0430\\u0441\\u0442\",\"\\u0412\\u043e\\u0437\\u0440\\u0430\\u0441\\u0442\",\"\\u0412\\u043e\\u0437\\u0440\\u0430\\u0441\\u0442\",\"\\u0412\\u043e\\u0437\\u0440\\u0430\\u0441\\u0442\",\"\\u0412\\u043e\\u0437\\u0440\\u0430\\u0441\\u0442\",\"\\u0412\\u043e\\u0437\\u0440\\u0430\\u0441\\u0442\",\"\\u0412\\u043e\\u0437\\u0440\\u0430\\u0441\\u0442\",\"\\u0412\\u043e\\u0437\\u0440\\u0430\\u0441\\u0442\",\"\\u0412\\u043e\\u0437\\u0440\\u0430\\u0441\\u0442\",\"\\u0412\\u043e\\u0437\\u0440\\u0430\\u0441\\u0442\",\"\\u0412\\u043e\\u0437\\u0440\\u0430\\u0441\\u0442\",\"\\u0412\\u043e\\u0437\\u0440\\u0430\\u0441\\u0442\",\"\\u0412\\u043e\\u0437\\u0440\\u0430\\u0441\\u0442\",\"\\u0412\\u043e\\u0437\\u0440\\u0430\\u0441\\u0442\",\"\\u0412\\u043e\\u0437\\u0440\\u0430\\u0441\\u0442\",\"\\u0412\\u043e\\u0437\\u0440\\u0430\\u0441\\u0442\",\"\\u0412\\u043e\\u0437\\u0440\\u0430\\u0441\\u0442\",\"\\u0412\\u043e\\u0437\\u0440\\u0430\\u0441\\u0442\",\"\\u0412\\u043e\\u0437\\u0440\\u0430\\u0441\\u0442\",\"\\u0412\\u043e\\u0437\\u0440\\u0430\\u0441\\u0442\",\"\\u0412\\u043e\\u0437\\u0440\\u0430\\u0441\\u0442\",\"\\u0412\\u043e\\u0437\\u0440\\u0430\\u0441\\u0442\",\"\\u0412\\u043e\\u0437\\u0440\\u0430\\u0441\\u0442\",\"\\u0412\\u043e\\u0437\\u0440\\u0430\\u0441\\u0442\",\"\\u0412\\u043e\\u0437\\u0440\\u0430\\u0441\\u0442\",\"\\u0412\\u043e\\u0437\\u0440\\u0430\\u0441\\u0442\",\"\\u0412\\u043e\\u0437\\u0440\\u0430\\u0441\\u0442\",\"\\u0412\\u043e\\u0437\\u0440\\u0430\\u0441\\u0442\",\"\\u0412\\u043e\\u0437\\u0440\\u0430\\u0441\\u0442\",\"\\u0412\\u043e\\u0437\\u0440\\u0430\\u0441\\u0442\",\"\\u0412\\u043e\\u0437\\u0440\\u0430\\u0441\\u0442\",\"\\u0412\\u043e\\u0437\\u0440\\u0430\\u0441\\u0442\",\"\\u0412\\u043e\\u0437\\u0440\\u0430\\u0441\\u0442\",\"\\u0412\\u043e\\u0437\\u0440\\u0430\\u0441\\u0442\",\"\\u0412\\u043e\\u0437\\u0440\\u0430\\u0441\\u0442\",\"\\u0412\\u043e\\u0437\\u0440\\u0430\\u0441\\u0442\",\"\\u0412\\u043e\\u0437\\u0440\\u0430\\u0441\\u0442\",\"\\u0412\\u043e\\u0437\\u0440\\u0430\\u0441\\u0442\",\"\\u0412\\u043e\\u0437\\u0440\\u0430\\u0441\\u0442\",\"\\u0412\\u043e\\u0437\\u0440\\u0430\\u0441\\u0442\",\"\\u0412\\u043e\\u0437\\u0440\\u0430\\u0441\\u0442\",\"\\u0412\\u043e\\u0437\\u0440\\u0430\\u0441\\u0442\",\"\\u0412\\u043e\\u0437\\u0440\\u0430\\u0441\\u0442\",\"\\u0412\\u043e\\u0437\\u0440\\u0430\\u0441\\u0442\",\"\\u0412\\u043e\\u0437\\u0440\\u0430\\u0441\\u0442\",\"\\u0412\\u043e\\u0437\\u0440\\u0430\\u0441\\u0442\",\"\\u0412\\u043e\\u0437\\u0440\\u0430\\u0441\\u0442\",\"\\u0412\\u043e\\u0437\\u0440\\u0430\\u0441\\u0442\",\"\\u0412\\u043e\\u0437\\u0440\\u0430\\u0441\\u0442\",\"\\u0412\\u043e\\u0437\\u0440\\u0430\\u0441\\u0442\",\"\\u0412\\u043e\\u0437\\u0440\\u0430\\u0441\\u0442\",\"\\u0412\\u043e\\u0437\\u0440\\u0430\\u0441\\u0442\",\"\\u0412\\u043e\\u0437\\u0440\\u0430\\u0441\\u0442\",\"\\u0412\\u043e\\u0437\\u0440\\u0430\\u0441\\u0442\",\"\\u0412\\u043e\\u0437\\u0440\\u0430\\u0441\\u0442\",\"\\u0412\\u043e\\u0437\\u0440\\u0430\\u0441\\u0442\",\"\\u0412\\u043e\\u0437\\u0440\\u0430\\u0441\\u0442\",\"\\u0412\\u043e\\u0437\\u0440\\u0430\\u0441\\u0442\",\"\\u0412\\u043e\\u0437\\u0440\\u0430\\u0441\\u0442\",\"\\u0412\\u043e\\u0437\\u0440\\u0430\\u0441\\u0442\",\"\\u0412\\u043e\\u0437\\u0440\\u0430\\u0441\\u0442\",\"\\u0412\\u043e\\u0437\\u0440\\u0430\\u0441\\u0442\",\"\\u0412\\u043e\\u0437\\u0440\\u0430\\u0441\\u0442\",\"\\u0412\\u043e\\u0437\\u0440\\u0430\\u0441\\u0442\",\"\\u0412\\u043e\\u0437\\u0440\\u0430\\u0441\\u0442\",\"\\u0412\\u043e\\u0437\\u0440\\u0430\\u0441\\u0442\",\"\\u0412\\u043e\\u0437\\u0440\\u0430\\u0441\\u0442\",\"\\u0412\\u043e\\u0437\\u0440\\u0430\\u0441\\u0442\",\"\\u0412\\u043e\\u0437\\u0440\\u0430\\u0441\\u0442\",\"\\u0412\\u043e\\u0437\\u0440\\u0430\\u0441\\u0442\",\"\\u0412\\u043e\\u0437\\u0440\\u0430\\u0441\\u0442\",\"\\u0412\\u043e\\u0437\\u0440\\u0430\\u0441\\u0442\",\"\\u0412\\u043e\\u0437\\u0440\\u0430\\u0441\\u0442\",\"\\u0412\\u043e\\u0437\\u0440\\u0430\\u0441\\u0442\",\"\\u0412\\u043e\\u0437\\u0440\\u0430\\u0441\\u0442\",\"\\u0412\\u043e\\u0437\\u0440\\u0430\\u0441\\u0442\",\"\\u0412\\u043e\\u0437\\u0440\\u0430\\u0441\\u0442\",\"\\u0412\\u043e\\u0437\\u0440\\u0430\\u0441\\u0442\",\"\\u0412\\u043e\\u0437\\u0440\\u0430\\u0441\\u0442\",\"\\u0412\\u043e\\u0437\\u0440\\u0430\\u0441\\u0442\",\"\\u0412\\u043e\\u0437\\u0440\\u0430\\u0441\\u0442\",\"\\u0412\\u043e\\u0437\\u0440\\u0430\\u0441\\u0442\",\"\\u0412\\u043e\\u0437\\u0440\\u0430\\u0441\\u0442\",\"\\u0412\\u043e\\u0437\\u0440\\u0430\\u0441\\u0442\",\"\\u0412\\u043e\\u0437\\u0440\\u0430\\u0441\\u0442\",\"\\u0412\\u043e\\u0437\\u0440\\u0430\\u0441\\u0442\",\"\\u0412\\u043e\\u0437\\u0440\\u0430\\u0441\\u0442\",\"\\u0412\\u043e\\u0437\\u0440\\u0430\\u0441\\u0442\",\"\\u0412\\u043e\\u0437\\u0440\\u0430\\u0441\\u0442\",\"\\u0412\\u043e\\u0437\\u0440\\u0430\\u0441\\u0442\",\"\\u0412\\u043e\\u0437\\u0440\\u0430\\u0441\\u0442\",\"\\u0412\\u043e\\u0437\\u0440\\u0430\\u0441\\u0442\",\"\\u0412\\u043e\\u0437\\u0440\\u0430\\u0441\\u0442\",\"\\u0412\\u043e\\u0437\\u0440\\u0430\\u0441\\u0442\",\"\\u0412\\u043e\\u0437\\u0440\\u0430\\u0441\\u0442\",\"\\u0412\\u043e\\u0437\\u0440\\u0430\\u0441\\u0442\",\"\\u0412\\u043e\\u0437\\u0440\\u0430\\u0441\\u0442\",\"\\u0412\\u043e\\u0437\\u0440\\u0430\\u0441\\u0442\",\"\\u0412\\u043e\\u0437\\u0440\\u0430\\u0441\\u0442\",\"\\u0412\\u043e\\u0437\\u0440\\u0430\\u0441\\u0442\",\"\\u0412\\u043e\\u0437\\u0440\\u0430\\u0441\\u0442\",\"\\u0412\\u043e\\u0437\\u0440\\u0430\\u0441\\u0442\",\"\\u0412\\u043e\\u0437\\u0440\\u0430\\u0441\\u0442\",\"\\u0412\\u043e\\u0437\\u0440\\u0430\\u0441\\u0442\",\"\\u0412\\u043e\\u0437\\u0440\\u0430\\u0441\\u0442\",\"\\u0412\\u043e\\u0437\\u0440\\u0430\\u0441\\u0442\",\"\\u0412\\u043e\\u0437\\u0440\\u0430\\u0441\\u0442\",\"\\u0412\\u043e\\u0437\\u0440\\u0430\\u0441\\u0442\",\"\\u0412\\u043e\\u0437\\u0440\\u0430\\u0441\\u0442\",\"\\u0412\\u043e\\u0437\\u0440\\u0430\\u0441\\u0442\",\"\\u0412\\u043e\\u0437\\u0440\\u0430\\u0441\\u0442\",\"\\u0412\\u043e\\u0437\\u0440\\u0430\\u0441\\u0442\",\"\\u0412\\u043e\\u0437\\u0440\\u0430\\u0441\\u0442\",\"\\u0412\\u043e\\u0437\\u0440\\u0430\\u0441\\u0442\",\"\\u0412\\u043e\\u0437\\u0440\\u0430\\u0441\\u0442\",\"\\u0412\\u043e\\u0437\\u0440\\u0430\\u0441\\u0442\",\"\\u0412\\u043e\\u0437\\u0440\\u0430\\u0441\\u0442\",\"\\u0412\\u043e\\u0437\\u0440\\u0430\\u0441\\u0442\",\"\\u0412\\u043e\\u0437\\u0440\\u0430\\u0441\\u0442\",\"\\u0412\\u043e\\u0437\\u0440\\u0430\\u0441\\u0442\",\"\\u0412\\u043e\\u0437\\u0440\\u0430\\u0441\\u0442\",\"\\u0412\\u043e\\u0437\\u0440\\u0430\\u0441\\u0442\",\"\\u0412\\u043e\\u0437\\u0440\\u0430\\u0441\\u0442\",\"\\u0412\\u043e\\u0437\\u0440\\u0430\\u0441\\u0442\",\"\\u0412\\u043e\\u0437\\u0440\\u0430\\u0441\\u0442\",\"\\u0412\\u043e\\u0437\\u0440\\u0430\\u0441\\u0442\",\"\\u0412\\u043e\\u0437\\u0440\\u0430\\u0441\\u0442\",\"\\u0412\\u043e\\u0437\\u0440\\u0430\\u0441\\u0442\",\"\\u0412\\u043e\\u0437\\u0440\\u0430\\u0441\\u0442\",\"\\u0412\\u043e\\u0437\\u0440\\u0430\\u0441\\u0442\",\"\\u0412\\u043e\\u0437\\u0440\\u0430\\u0441\\u0442\",\"\\u0412\\u043e\\u0437\\u0440\\u0430\\u0441\\u0442\",\"\\u0412\\u043e\\u0437\\u0440\\u0430\\u0441\\u0442\",\"\\u0412\\u043e\\u0437\\u0440\\u0430\\u0441\\u0442\",\"\\u0412\\u043e\\u0437\\u0440\\u0430\\u0441\\u0442\",\"\\u0412\\u043e\\u0437\\u0440\\u0430\\u0441\\u0442\",\"\\u0412\\u043e\\u0437\\u0440\\u0430\\u0441\\u0442\",\"\\u0412\\u043e\\u0437\\u0440\\u0430\\u0441\\u0442\",\"\\u0412\\u043e\\u0437\\u0440\\u0430\\u0441\\u0442\",\"\\u0412\\u043e\\u0437\\u0440\\u0430\\u0441\\u0442\",\"\\u0412\\u043e\\u0437\\u0440\\u0430\\u0441\\u0442\",\"\\u0412\\u043e\\u0437\\u0440\\u0430\\u0441\\u0442\",\"\\u0412\\u043e\\u0437\\u0440\\u0430\\u0441\\u0442\",\"\\u0412\\u043e\\u0437\\u0440\\u0430\\u0441\\u0442\",\"\\u0412\\u043e\\u0437\\u0440\\u0430\\u0441\\u0442\",\"\\u0412\\u043e\\u0437\\u0440\\u0430\\u0441\\u0442\",\"\\u0412\\u043e\\u0437\\u0440\\u0430\\u0441\\u0442\",\"\\u0412\\u043e\\u0437\\u0440\\u0430\\u0441\\u0442\",\"\\u0412\\u043e\\u0437\\u0440\\u0430\\u0441\\u0442\",\"\\u0412\\u043e\\u0437\\u0440\\u0430\\u0441\\u0442\",\"\\u0412\\u043e\\u0437\\u0440\\u0430\\u0441\\u0442\",\"\\u0412\\u043e\\u0437\\u0440\\u0430\\u0441\\u0442\",\"\\u0412\\u043e\\u0437\\u0440\\u0430\\u0441\\u0442\",\"\\u0412\\u043e\\u0437\\u0440\\u0430\\u0441\\u0442\",\"\\u0412\\u043e\\u0437\\u0440\\u0430\\u0441\\u0442\",\"\\u0412\\u043e\\u0437\\u0440\\u0430\\u0441\\u0442\",\"\\u0412\\u043e\\u0437\\u0440\\u0430\\u0441\\u0442\",\"\\u0412\\u043e\\u0437\\u0440\\u0430\\u0441\\u0442\",\"\\u0412\\u043e\\u0437\\u0440\\u0430\\u0441\\u0442\",\"\\u0412\\u043e\\u0437\\u0440\\u0430\\u0441\\u0442\",\"\\u0412\\u043e\\u0437\\u0440\\u0430\\u0441\\u0442\",\"\\u0412\\u043e\\u0437\\u0440\\u0430\\u0441\\u0442\",\"\\u0412\\u043e\\u0437\\u0440\\u0430\\u0441\\u0442\",\"\\u0412\\u043e\\u0437\\u0440\\u0430\\u0441\\u0442\",\"\\u0412\\u043e\\u0437\\u0440\\u0430\\u0441\\u0442\",\"\\u0412\\u043e\\u0437\\u0440\\u0430\\u0441\\u0442\",\"\\u0412\\u043e\\u0437\\u0440\\u0430\\u0441\\u0442\",\"\\u0412\\u043e\\u0437\\u0440\\u0430\\u0441\\u0442\",\"\\u0412\\u043e\\u0437\\u0440\\u0430\\u0441\\u0442\",\"\\u0412\\u043e\\u0437\\u0440\\u0430\\u0441\\u0442\",\"\\u0412\\u043e\\u0437\\u0440\\u0430\\u0441\\u0442\",\"\\u0412\\u043e\\u0437\\u0440\\u0430\\u0441\\u0442\",\"\\u0412\\u043e\\u0437\\u0440\\u0430\\u0441\\u0442\",\"\\u0412\\u043e\\u0437\\u0440\\u0430\\u0441\\u0442\",\"\\u0412\\u043e\\u0437\\u0440\\u0430\\u0441\\u0442\",\"\\u0412\\u043e\\u0437\\u0440\\u0430\\u0441\\u0442\",\"\\u0412\\u043e\\u0437\\u0440\\u0430\\u0441\\u0442\",\"\\u0412\\u043e\\u0437\\u0440\\u0430\\u0441\\u0442\",\"\\u0412\\u043e\\u0437\\u0440\\u0430\\u0441\\u0442\",\"\\u0412\\u043e\\u0437\\u0440\\u0430\\u0441\\u0442\",\"\\u0412\\u043e\\u0437\\u0440\\u0430\\u0441\\u0442\",\"\\u0412\\u043e\\u0437\\u0440\\u0430\\u0441\\u0442\",\"\\u0412\\u043e\\u0437\\u0440\\u0430\\u0441\\u0442\",\"\\u0412\\u043e\\u0437\\u0440\\u0430\\u0441\\u0442\",\"\\u0412\\u043e\\u0437\\u0440\\u0430\\u0441\\u0442\",\"\\u0412\\u043e\\u0437\\u0440\\u0430\\u0441\\u0442\",\"\\u0412\\u043e\\u0437\\u0440\\u0430\\u0441\\u0442\",\"\\u0412\\u043e\\u0437\\u0440\\u0430\\u0441\\u0442\",\"\\u0412\\u043e\\u0437\\u0440\\u0430\\u0441\\u0442\",\"\\u0412\\u043e\\u0437\\u0440\\u0430\\u0441\\u0442\",\"\\u0412\\u043e\\u0437\\u0440\\u0430\\u0441\\u0442\",\"\\u0412\\u043e\\u0437\\u0440\\u0430\\u0441\\u0442\",\"\\u0412\\u043e\\u0437\\u0440\\u0430\\u0441\\u0442\",\"\\u0412\\u043e\\u0437\\u0440\\u0430\\u0441\\u0442\",\"\\u0412\\u043e\\u0437\\u0440\\u0430\\u0441\\u0442\",\"\\u0412\\u043e\\u0437\\u0440\\u0430\\u0441\\u0442\",\"\\u0412\\u043e\\u0437\\u0440\\u0430\\u0441\\u0442\",\"\\u0412\\u043e\\u0437\\u0440\\u0430\\u0441\\u0442\",\"\\u0412\\u043e\\u0437\\u0440\\u0430\\u0441\\u0442\",\"\\u0412\\u043e\\u0437\\u0440\\u0430\\u0441\\u0442\",\"\\u0412\\u043e\\u0437\\u0440\\u0430\\u0441\\u0442\",\"\\u0412\\u043e\\u0437\\u0440\\u0430\\u0441\\u0442\",\"\\u0412\\u043e\\u0437\\u0440\\u0430\\u0441\\u0442\",\"\\u0412\\u043e\\u0437\\u0440\\u0430\\u0441\\u0442\",\"\\u0412\\u043e\\u0437\\u0440\\u0430\\u0441\\u0442\",\"\\u0412\\u043e\\u0437\\u0440\\u0430\\u0441\\u0442\",\"\\u0412\\u043e\\u0437\\u0440\\u0430\\u0441\\u0442\",\"\\u0412\\u043e\\u0437\\u0440\\u0430\\u0441\\u0442\",\"\\u0412\\u043e\\u0437\\u0440\\u0430\\u0441\\u0442\",\"\\u0412\\u043e\\u0437\\u0440\\u0430\\u0441\\u0442\",\"\\u0412\\u043e\\u0437\\u0440\\u0430\\u0441\\u0442\",\"\\u0412\\u043e\\u0437\\u0440\\u0430\\u0441\\u0442\",\"\\u0412\\u043e\\u0437\\u0440\\u0430\\u0441\\u0442\",\"\\u0412\\u043e\\u0437\\u0440\\u0430\\u0441\\u0442\",\"\\u0412\\u043e\\u0437\\u0440\\u0430\\u0441\\u0442\",\"\\u0412\\u043e\\u0437\\u0440\\u0430\\u0441\\u0442\",\"\\u0412\\u043e\\u0437\\u0440\\u0430\\u0441\\u0442\",\"\\u0412\\u043e\\u0437\\u0440\\u0430\\u0441\\u0442\",\"\\u0412\\u043e\\u0437\\u0440\\u0430\\u0441\\u0442\",\"\\u0412\\u043e\\u0437\\u0440\\u0430\\u0441\\u0442\",\"\\u0412\\u043e\\u0437\\u0440\\u0430\\u0441\\u0442\",\"\\u0412\\u043e\\u0437\\u0440\\u0430\\u0441\\u0442\",\"\\u0412\\u043e\\u0437\\u0440\\u0430\\u0441\\u0442\",\"\\u0412\\u043e\\u0437\\u0440\\u0430\\u0441\\u0442\",\"\\u0412\\u043e\\u0437\\u0440\\u0430\\u0441\\u0442\",\"\\u0412\\u043e\\u0437\\u0440\\u0430\\u0441\\u0442\",\"\\u0412\\u043e\\u0437\\u0440\\u0430\\u0441\\u0442\",\"\\u0412\\u043e\\u0437\\u0440\\u0430\\u0441\\u0442\",\"\\u0412\\u043e\\u0437\\u0440\\u0430\\u0441\\u0442\",\"\\u0412\\u043e\\u0437\\u0440\\u0430\\u0441\\u0442\",\"\\u0412\\u043e\\u0437\\u0440\\u0430\\u0441\\u0442\",\"\\u0412\\u043e\\u0437\\u0440\\u0430\\u0441\\u0442\",\"\\u0412\\u043e\\u0437\\u0440\\u0430\\u0441\\u0442\",\"\\u0412\\u043e\\u0437\\u0440\\u0430\\u0441\\u0442\",\"\\u0412\\u043e\\u0437\\u0440\\u0430\\u0441\\u0442\",\"\\u0412\\u043e\\u0437\\u0440\\u0430\\u0441\\u0442\",\"\\u0412\\u043e\\u0437\\u0440\\u0430\\u0441\\u0442\",\"\\u0412\\u043e\\u0437\\u0440\\u0430\\u0441\\u0442\",\"\\u0412\\u043e\\u0437\\u0440\\u0430\\u0441\\u0442\",\"\\u0412\\u043e\\u0437\\u0440\\u0430\\u0441\\u0442\",\"\\u0412\\u043e\\u0437\\u0440\\u0430\\u0441\\u0442\",\"\\u0412\\u043e\\u0437\\u0440\\u0430\\u0441\\u0442\",\"\\u0412\\u043e\\u0437\\u0440\\u0430\\u0441\\u0442\",\"\\u0412\\u043e\\u0437\\u0440\\u0430\\u0441\\u0442\",\"\\u0412\\u043e\\u0437\\u0440\\u0430\\u0441\\u0442\",\"\\u0412\\u043e\\u0437\\u0440\\u0430\\u0441\\u0442\",\"\\u0412\\u043e\\u0437\\u0440\\u0430\\u0441\\u0442\",\"\\u0412\\u043e\\u0437\\u0440\\u0430\\u0441\\u0442\",\"\\u0412\\u043e\\u0437\\u0440\\u0430\\u0441\\u0442\",\"\\u0412\\u043e\\u0437\\u0440\\u0430\\u0441\\u0442\",\"\\u0412\\u043e\\u0437\\u0440\\u0430\\u0441\\u0442\",\"\\u0412\\u043e\\u0437\\u0440\\u0430\\u0441\\u0442\",\"\\u0412\\u043e\\u0437\\u0440\\u0430\\u0441\\u0442\",\"\\u0412\\u043e\\u0437\\u0440\\u0430\\u0441\\u0442\",\"\\u0412\\u043e\\u0437\\u0440\\u0430\\u0441\\u0442\",\"\\u0412\\u043e\\u0437\\u0440\\u0430\\u0441\\u0442\",\"\\u0412\\u043e\\u0437\\u0440\\u0430\\u0441\\u0442\",\"\\u0412\\u043e\\u0437\\u0440\\u0430\\u0441\\u0442\",\"\\u0412\\u043e\\u0437\\u0440\\u0430\\u0441\\u0442\",\"\\u0412\\u043e\\u0437\\u0440\\u0430\\u0441\\u0442\",\"\\u0412\\u043e\\u0437\\u0440\\u0430\\u0441\\u0442\",\"\\u0412\\u043e\\u0437\\u0440\\u0430\\u0441\\u0442\",\"\\u0412\\u043e\\u0437\\u0440\\u0430\\u0441\\u0442\",\"\\u0412\\u043e\\u0437\\u0440\\u0430\\u0441\\u0442\",\"\\u0412\\u043e\\u0437\\u0440\\u0430\\u0441\\u0442\",\"\\u0412\\u043e\\u0437\\u0440\\u0430\\u0441\\u0442\",\"\\u0412\\u043e\\u0437\\u0440\\u0430\\u0441\\u0442\",\"\\u0412\\u043e\\u0437\\u0440\\u0430\\u0441\\u0442\",\"\\u0412\\u043e\\u0437\\u0440\\u0430\\u0441\\u0442\",\"\\u0412\\u043e\\u0437\\u0440\\u0430\\u0441\\u0442\",\"\\u0412\\u043e\\u0437\\u0440\\u0430\\u0441\\u0442\",\"\\u0412\\u043e\\u0437\\u0440\\u0430\\u0441\\u0442\",\"\\u0412\\u043e\\u0437\\u0440\\u0430\\u0441\\u0442\",\"\\u0412\\u043e\\u0437\\u0440\\u0430\\u0441\\u0442\",\"\\u0412\\u043e\\u0437\\u0440\\u0430\\u0441\\u0442\",\"\\u0412\\u043e\\u0437\\u0440\\u0430\\u0441\\u0442\",\"\\u0412\\u043e\\u0437\\u0440\\u0430\\u0441\\u0442\",\"\\u0412\\u043e\\u0437\\u0440\\u0430\\u0441\\u0442\",\"\\u0412\\u043e\\u0437\\u0440\\u0430\\u0441\\u0442\",\"\\u0412\\u043e\\u0437\\u0440\\u0430\\u0441\\u0442\",\"\\u0412\\u043e\\u0437\\u0440\\u0430\\u0441\\u0442\"],\"yaxis\":\"y2\",\"type\":\"scatter\"}],                        {\"barmode\":\"overlay\",\"hovermode\":\"closest\",\"legend\":{\"traceorder\":\"reversed\"},\"xaxis\":{\"anchor\":\"y2\",\"domain\":[0.0,1.0],\"zeroline\":false},\"yaxis\":{\"anchor\":\"free\",\"domain\":[0.35,1],\"position\":0.0},\"yaxis2\":{\"anchor\":\"x\",\"domain\":[0,0.25],\"dtick\":1,\"showticklabels\":false},\"template\":{\"data\":{\"histogram2dcontour\":[{\"type\":\"histogram2dcontour\",\"colorbar\":{\"outlinewidth\":0,\"ticks\":\"\"},\"colorscale\":[[0.0,\"#0d0887\"],[0.1111111111111111,\"#46039f\"],[0.2222222222222222,\"#7201a8\"],[0.3333333333333333,\"#9c179e\"],[0.4444444444444444,\"#bd3786\"],[0.5555555555555556,\"#d8576b\"],[0.6666666666666666,\"#ed7953\"],[0.7777777777777778,\"#fb9f3a\"],[0.8888888888888888,\"#fdca26\"],[1.0,\"#f0f921\"]]}],\"choropleth\":[{\"type\":\"choropleth\",\"colorbar\":{\"outlinewidth\":0,\"ticks\":\"\"}}],\"histogram2d\":[{\"type\":\"histogram2d\",\"colorbar\":{\"outlinewidth\":0,\"ticks\":\"\"},\"colorscale\":[[0.0,\"#0d0887\"],[0.1111111111111111,\"#46039f\"],[0.2222222222222222,\"#7201a8\"],[0.3333333333333333,\"#9c179e\"],[0.4444444444444444,\"#bd3786\"],[0.5555555555555556,\"#d8576b\"],[0.6666666666666666,\"#ed7953\"],[0.7777777777777778,\"#fb9f3a\"],[0.8888888888888888,\"#fdca26\"],[1.0,\"#f0f921\"]]}],\"heatmap\":[{\"type\":\"heatmap\",\"colorbar\":{\"outlinewidth\":0,\"ticks\":\"\"},\"colorscale\":[[0.0,\"#0d0887\"],[0.1111111111111111,\"#46039f\"],[0.2222222222222222,\"#7201a8\"],[0.3333333333333333,\"#9c179e\"],[0.4444444444444444,\"#bd3786\"],[0.5555555555555556,\"#d8576b\"],[0.6666666666666666,\"#ed7953\"],[0.7777777777777778,\"#fb9f3a\"],[0.8888888888888888,\"#fdca26\"],[1.0,\"#f0f921\"]]}],\"heatmapgl\":[{\"type\":\"heatmapgl\",\"colorbar\":{\"outlinewidth\":0,\"ticks\":\"\"},\"colorscale\":[[0.0,\"#0d0887\"],[0.1111111111111111,\"#46039f\"],[0.2222222222222222,\"#7201a8\"],[0.3333333333333333,\"#9c179e\"],[0.4444444444444444,\"#bd3786\"],[0.5555555555555556,\"#d8576b\"],[0.6666666666666666,\"#ed7953\"],[0.7777777777777778,\"#fb9f3a\"],[0.8888888888888888,\"#fdca26\"],[1.0,\"#f0f921\"]]}],\"contourcarpet\":[{\"type\":\"contourcarpet\",\"colorbar\":{\"outlinewidth\":0,\"ticks\":\"\"}}],\"contour\":[{\"type\":\"contour\",\"colorbar\":{\"outlinewidth\":0,\"ticks\":\"\"},\"colorscale\":[[0.0,\"#0d0887\"],[0.1111111111111111,\"#46039f\"],[0.2222222222222222,\"#7201a8\"],[0.3333333333333333,\"#9c179e\"],[0.4444444444444444,\"#bd3786\"],[0.5555555555555556,\"#d8576b\"],[0.6666666666666666,\"#ed7953\"],[0.7777777777777778,\"#fb9f3a\"],[0.8888888888888888,\"#fdca26\"],[1.0,\"#f0f921\"]]}],\"surface\":[{\"type\":\"surface\",\"colorbar\":{\"outlinewidth\":0,\"ticks\":\"\"},\"colorscale\":[[0.0,\"#0d0887\"],[0.1111111111111111,\"#46039f\"],[0.2222222222222222,\"#7201a8\"],[0.3333333333333333,\"#9c179e\"],[0.4444444444444444,\"#bd3786\"],[0.5555555555555556,\"#d8576b\"],[0.6666666666666666,\"#ed7953\"],[0.7777777777777778,\"#fb9f3a\"],[0.8888888888888888,\"#fdca26\"],[1.0,\"#f0f921\"]]}],\"mesh3d\":[{\"type\":\"mesh3d\",\"colorbar\":{\"outlinewidth\":0,\"ticks\":\"\"}}],\"scatter\":[{\"marker\":{\"line\":{\"color\":\"#283442\"}},\"type\":\"scatter\"}],\"parcoords\":[{\"type\":\"parcoords\",\"line\":{\"colorbar\":{\"outlinewidth\":0,\"ticks\":\"\"}}}],\"scatterpolargl\":[{\"type\":\"scatterpolargl\",\"marker\":{\"colorbar\":{\"outlinewidth\":0,\"ticks\":\"\"}}}],\"bar\":[{\"error_x\":{\"color\":\"#f2f5fa\"},\"error_y\":{\"color\":\"#f2f5fa\"},\"marker\":{\"line\":{\"color\":\"rgb(17,17,17)\",\"width\":0.5},\"pattern\":{\"fillmode\":\"overlay\",\"size\":10,\"solidity\":0.2}},\"type\":\"bar\"}],\"scattergeo\":[{\"type\":\"scattergeo\",\"marker\":{\"colorbar\":{\"outlinewidth\":0,\"ticks\":\"\"}}}],\"scatterpolar\":[{\"type\":\"scatterpolar\",\"marker\":{\"colorbar\":{\"outlinewidth\":0,\"ticks\":\"\"}}}],\"histogram\":[{\"marker\":{\"pattern\":{\"fillmode\":\"overlay\",\"size\":10,\"solidity\":0.2}},\"type\":\"histogram\"}],\"scattergl\":[{\"marker\":{\"line\":{\"color\":\"#283442\"}},\"type\":\"scattergl\"}],\"scatter3d\":[{\"type\":\"scatter3d\",\"line\":{\"colorbar\":{\"outlinewidth\":0,\"ticks\":\"\"}},\"marker\":{\"colorbar\":{\"outlinewidth\":0,\"ticks\":\"\"}}}],\"scattermapbox\":[{\"type\":\"scattermapbox\",\"marker\":{\"colorbar\":{\"outlinewidth\":0,\"ticks\":\"\"}}}],\"scatterternary\":[{\"type\":\"scatterternary\",\"marker\":{\"colorbar\":{\"outlinewidth\":0,\"ticks\":\"\"}}}],\"scattercarpet\":[{\"type\":\"scattercarpet\",\"marker\":{\"colorbar\":{\"outlinewidth\":0,\"ticks\":\"\"}}}],\"carpet\":[{\"aaxis\":{\"endlinecolor\":\"#A2B1C6\",\"gridcolor\":\"#506784\",\"linecolor\":\"#506784\",\"minorgridcolor\":\"#506784\",\"startlinecolor\":\"#A2B1C6\"},\"baxis\":{\"endlinecolor\":\"#A2B1C6\",\"gridcolor\":\"#506784\",\"linecolor\":\"#506784\",\"minorgridcolor\":\"#506784\",\"startlinecolor\":\"#A2B1C6\"},\"type\":\"carpet\"}],\"table\":[{\"cells\":{\"fill\":{\"color\":\"#506784\"},\"line\":{\"color\":\"rgb(17,17,17)\"}},\"header\":{\"fill\":{\"color\":\"#2a3f5f\"},\"line\":{\"color\":\"rgb(17,17,17)\"}},\"type\":\"table\"}],\"barpolar\":[{\"marker\":{\"line\":{\"color\":\"rgb(17,17,17)\",\"width\":0.5},\"pattern\":{\"fillmode\":\"overlay\",\"size\":10,\"solidity\":0.2}},\"type\":\"barpolar\"}],\"pie\":[{\"automargin\":true,\"type\":\"pie\"}]},\"layout\":{\"autotypenumbers\":\"strict\",\"colorway\":[\"#636efa\",\"#EF553B\",\"#00cc96\",\"#ab63fa\",\"#FFA15A\",\"#19d3f3\",\"#FF6692\",\"#B6E880\",\"#FF97FF\",\"#FECB52\"],\"font\":{\"color\":\"#f2f5fa\"},\"hovermode\":\"closest\",\"hoverlabel\":{\"align\":\"left\"},\"paper_bgcolor\":\"rgb(17,17,17)\",\"plot_bgcolor\":\"rgb(17,17,17)\",\"polar\":{\"bgcolor\":\"rgb(17,17,17)\",\"angularaxis\":{\"gridcolor\":\"#506784\",\"linecolor\":\"#506784\",\"ticks\":\"\"},\"radialaxis\":{\"gridcolor\":\"#506784\",\"linecolor\":\"#506784\",\"ticks\":\"\"}},\"ternary\":{\"bgcolor\":\"rgb(17,17,17)\",\"aaxis\":{\"gridcolor\":\"#506784\",\"linecolor\":\"#506784\",\"ticks\":\"\"},\"baxis\":{\"gridcolor\":\"#506784\",\"linecolor\":\"#506784\",\"ticks\":\"\"},\"caxis\":{\"gridcolor\":\"#506784\",\"linecolor\":\"#506784\",\"ticks\":\"\"}},\"coloraxis\":{\"colorbar\":{\"outlinewidth\":0,\"ticks\":\"\"}},\"colorscale\":{\"sequential\":[[0.0,\"#0d0887\"],[0.1111111111111111,\"#46039f\"],[0.2222222222222222,\"#7201a8\"],[0.3333333333333333,\"#9c179e\"],[0.4444444444444444,\"#bd3786\"],[0.5555555555555556,\"#d8576b\"],[0.6666666666666666,\"#ed7953\"],[0.7777777777777778,\"#fb9f3a\"],[0.8888888888888888,\"#fdca26\"],[1.0,\"#f0f921\"]],\"sequentialminus\":[[0.0,\"#0d0887\"],[0.1111111111111111,\"#46039f\"],[0.2222222222222222,\"#7201a8\"],[0.3333333333333333,\"#9c179e\"],[0.4444444444444444,\"#bd3786\"],[0.5555555555555556,\"#d8576b\"],[0.6666666666666666,\"#ed7953\"],[0.7777777777777778,\"#fb9f3a\"],[0.8888888888888888,\"#fdca26\"],[1.0,\"#f0f921\"]],\"diverging\":[[0,\"#8e0152\"],[0.1,\"#c51b7d\"],[0.2,\"#de77ae\"],[0.3,\"#f1b6da\"],[0.4,\"#fde0ef\"],[0.5,\"#f7f7f7\"],[0.6,\"#e6f5d0\"],[0.7,\"#b8e186\"],[0.8,\"#7fbc41\"],[0.9,\"#4d9221\"],[1,\"#276419\"]]},\"xaxis\":{\"gridcolor\":\"#283442\",\"linecolor\":\"#506784\",\"ticks\":\"\",\"title\":{\"standoff\":15},\"zerolinecolor\":\"#283442\",\"automargin\":true,\"zerolinewidth\":2},\"yaxis\":{\"gridcolor\":\"#283442\",\"linecolor\":\"#506784\",\"ticks\":\"\",\"title\":{\"standoff\":15},\"zerolinecolor\":\"#283442\",\"automargin\":true,\"zerolinewidth\":2},\"scene\":{\"xaxis\":{\"backgroundcolor\":\"rgb(17,17,17)\",\"gridcolor\":\"#506784\",\"linecolor\":\"#506784\",\"showbackground\":true,\"ticks\":\"\",\"zerolinecolor\":\"#C8D4E3\",\"gridwidth\":2},\"yaxis\":{\"backgroundcolor\":\"rgb(17,17,17)\",\"gridcolor\":\"#506784\",\"linecolor\":\"#506784\",\"showbackground\":true,\"ticks\":\"\",\"zerolinecolor\":\"#C8D4E3\",\"gridwidth\":2},\"zaxis\":{\"backgroundcolor\":\"rgb(17,17,17)\",\"gridcolor\":\"#506784\",\"linecolor\":\"#506784\",\"showbackground\":true,\"ticks\":\"\",\"zerolinecolor\":\"#C8D4E3\",\"gridwidth\":2}},\"shapedefaults\":{\"line\":{\"color\":\"#f2f5fa\"}},\"annotationdefaults\":{\"arrowcolor\":\"#f2f5fa\",\"arrowhead\":0,\"arrowwidth\":1},\"geo\":{\"bgcolor\":\"rgb(17,17,17)\",\"landcolor\":\"rgb(17,17,17)\",\"subunitcolor\":\"#506784\",\"showland\":true,\"showlakes\":true,\"lakecolor\":\"rgb(17,17,17)\"},\"title\":{\"x\":0.05},\"updatemenudefaults\":{\"bgcolor\":\"#506784\",\"borderwidth\":0},\"sliderdefaults\":{\"bgcolor\":\"#C8D4E3\",\"borderwidth\":1,\"bordercolor\":\"rgb(17,17,17)\",\"tickwidth\":0},\"mapbox\":{\"style\":\"dark\"}}}},                        {\"responsive\": true}                    ).then(function(){\n                            \nvar gd = document.getElementById('4d8b9543-01c1-4d3f-9478-f5bad35f28ff');\nvar x = new MutationObserver(function (mutations, observer) {{\n        var display = window.getComputedStyle(gd).display;\n        if (!display || display === 'none') {{\n            console.log([gd, 'removed!']);\n            Plotly.purge(gd);\n            observer.disconnect();\n        }}\n}});\n\n// Listen for the removal of the full notebook cells\nvar notebookContainer = gd.closest('#notebook-container');\nif (notebookContainer) {{\n    x.observe(notebookContainer, {childList: true});\n}}\n\n// Listen for the clearing of the current output cell\nvar outputEl = gd.closest('.output');\nif (outputEl) {{\n    x.observe(outputEl, {childList: true});\n}}\n\n                        })                };                });            </script>        </div>"
     },
     "metadata": {},
     "output_type": "display_data"
    }
   ],
   "source": [
    "import plotly.figure_factory as ff\n",
    "\n",
    "fig = ff.create_distplot([ages], ['Возраст'])\n",
    "fig.show()"
   ],
   "metadata": {
    "collapsed": false,
    "pycharm": {
     "name": "#%%\n"
    }
   }
  }
 ],
 "metadata": {
  "kernelspec": {
   "display_name": "Python 3",
   "language": "python",
   "name": "python3"
  },
  "language_info": {
   "codemirror_mode": {
    "name": "ipython",
    "version": 2
   },
   "file_extension": ".py",
   "mimetype": "text/x-python",
   "name": "python",
   "nbconvert_exporter": "python",
   "pygments_lexer": "ipython2",
   "version": "2.7.6"
  }
 },
 "nbformat": 4,
 "nbformat_minor": 0
}
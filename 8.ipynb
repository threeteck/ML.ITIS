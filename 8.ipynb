{
 "cells": [
  {
   "cell_type": "code",
   "execution_count": 13,
   "metadata": {
    "collapsed": true,
    "pycharm": {
     "name": "#%%\n"
    }
   },
   "outputs": [],
   "source": [
    "import numpy as np\n",
    "\n",
    "\n",
    "class DiophantineEq:\n",
    "    def __init__(self, params, target):\n",
    "        self.params = np.array(params)\n",
    "        self.target = target\n",
    "        \n",
    "    def solve_with(self, x):\n",
    "        x = np.array(x)\n",
    "        return self.params @ x.T\n",
    "\n",
    "    def __str__(self):\n",
    "        return f\"{self.params} * x^T = {self.target}\"\n",
    "        "
   ]
  },
  {
   "cell_type": "markdown",
   "source": [
    "# Genetic Algorithm\n",
    "We will use (1/fitness)/(sum of 1/fitness of entire population) as weights for parents selection.\n",
    "We also will keep history of best solutions and plot it."
   ],
   "metadata": {
    "collapsed": false,
    "pycharm": {
     "name": "#%% md\n"
    }
   }
  },
  {
   "cell_type": "code",
   "execution_count": 99,
   "outputs": [],
   "source": [
    "from tqdm import tqdm\n",
    "import random\n",
    "import matplotlib.pyplot as plt\n",
    "\n",
    "class GeneticAlgorithm:\n",
    "    def __init__(self, eq, population_size, mutation_chance, crossover_chance, max_generations):\n",
    "        self.eq = eq\n",
    "        self.population_size = population_size\n",
    "        self.mutation_chance = mutation_chance\n",
    "        self.crossover_chance = crossover_chance\n",
    "        self.max_generations = max_generations\n",
    "        self.best_solutions = []\n",
    "        self.population = None\n",
    "        self.population_indexes = np.arange(population_size)\n",
    "        \n",
    "    def run(self):\n",
    "        self.best_solutions = []\n",
    "        self.population = self._generate_population()\n",
    "        for i in tqdm(range(self.max_generations)):\n",
    "            fitness = self._fitness(self.population)\n",
    "            if np.any(fitness == 0):\n",
    "                self.best_solutions.append(self._get_best_solution())\n",
    "                break\n",
    "\n",
    "            new_population = []\n",
    "            weights = self._get_weights(fitness)\n",
    "            for _ in range(self.population_size):\n",
    "                parent1 = self.population[np.random.choice(self.population_indexes, p=weights)]\n",
    "                parent2 = self.population[np.random.choice(self.population_indexes, p=weights)]\n",
    "                child = self._crossover(parent1, parent2)\n",
    "                child = self._mutate(child)\n",
    "                new_population.append(child)\n",
    "            self.population = np.array(new_population)\n",
    "            \n",
    "            self.best_solutions.append(self._get_best_solution())\n",
    "        \n",
    "        self.best_solutions = np.array(self.best_solutions, dtype=object)\n",
    "        return self.best_solutions[np.argmin(self.best_solutions[:, 1])]\n",
    "            \n",
    "    def _generate_population(self):\n",
    "        return np.random.randint(0, self.eq.target + 1, (self.population_size, len(self.eq.params)))\n",
    "    \n",
    "    def _crossover(self, parent1, parent2):\n",
    "        if random.random() > self.crossover_chance:\n",
    "            return parent1\n",
    "        index = random.randint(0, len(parent1) - 1)\n",
    "        return np.concatenate((parent1[:index], parent2[index:]))\n",
    "    \n",
    "    def _mutate(self, child):\n",
    "        if random.random() > self.mutation_chance:\n",
    "            return child\n",
    "        index = random.randint(0, len(child) - 1)\n",
    "        child[index] += random.randint(-10, 10)\n",
    "        return child\n",
    "    \n",
    "    def _fitness(self, x):\n",
    "        return np.abs(self.eq.solve_with(x) - self.eq.target)\n",
    "    \n",
    "    def _get_weights(self, fitness):\n",
    "        weights = 1 / fitness\n",
    "        weights_sum = np.sum(weights)\n",
    "        weights = weights / weights_sum\n",
    "        return weights\n",
    "    \n",
    "    def _get_best_solution(self):\n",
    "        fitness = self._fitness(self.population)\n",
    "        best_index = np.argmin(fitness)\n",
    "        return [self.population[best_index], fitness[best_index]]\n",
    "    \n",
    "    def plot_best_solutions(self, marker='o'):\n",
    "        plt.figure(figsize=(20, 10))\n",
    "        plt.plot(self.best_solutions[:, 1], marker=marker)\n",
    "        plt.xlabel(\"Generation\")\n",
    "        plt.ylabel(\"Fitness\")\n",
    "        ax = plt.gca()\n",
    "        ax.xaxis.set_major_locator(plt.MaxNLocator(integer=True))\n",
    "        plt.show()"
   ],
   "metadata": {
    "collapsed": false,
    "pycharm": {
     "name": "#%%\n"
    }
   }
  },
  {
   "cell_type": "markdown",
   "source": [
    "# Example"
   ],
   "metadata": {
    "collapsed": false,
    "pycharm": {
     "name": "#%% md\n"
    }
   }
  },
  {
   "cell_type": "code",
   "execution_count": 130,
   "outputs": [
    {
     "name": "stdout",
     "output_type": "stream",
     "text": [
      "[3 2 8 4 7 6 7 2 4 7 1 2 0 0 9 3 7 8 0 6 5 9 5 8 9 2 8 5 7 1 2 8 8 2 9 2 7\n",
      " 1 3 5 5 3 7 4 8 8 3 6 8 6] * x^T = 258\n"
     ]
    }
   ],
   "source": [
    "par = np.random.randint(low=0, high=10, size=50)\n",
    "eq = DiophantineEq(par, par @ np.random.randint(low=-10, high=10, size=50).T)\n",
    "print(eq)"
   ],
   "metadata": {
    "collapsed": false,
    "pycharm": {
     "name": "#%%\n"
    }
   }
  },
  {
   "cell_type": "code",
   "execution_count": 135,
   "outputs": [
    {
     "name": "stderr",
     "output_type": "stream",
     "text": [
      " 86%|████████▌ | 429/500 [00:09<00:01, 44.75it/s]"
     ]
    },
    {
     "name": "stdout",
     "output_type": "stream",
     "text": [
      "Solution: [  6  56  -8  18  -1   2  -2  19  -8 -14  34  48  28 240  -8  12 -24   7\n",
      " 179   3   0 -19  13  10 -17  21  -3  29   2   2  -2  -5 -25 120 -25  12\n",
      "  14  75   8  -3  -2   3  32  13 -13  10   7   1   1  -7], fitness: 0\n"
     ]
    },
    {
     "name": "stderr",
     "output_type": "stream",
     "text": [
      "\n"
     ]
    }
   ],
   "source": [
    "ga = GeneticAlgorithm(eq, 500, 0.1, 1, 500)\n",
    "solution, fitness = ga.run()\n",
    "print(f\"Solution: {solution}, fitness: {fitness}\")"
   ],
   "metadata": {
    "collapsed": false,
    "pycharm": {
     "name": "#%%\n"
    }
   }
  },
  {
   "cell_type": "code",
   "execution_count": 136,
   "outputs": [
    {
     "data": {
      "text/plain": "<Figure size 1440x720 with 1 Axes>",
      "image/png": "[encoded data removed]"
     },
     "metadata": {
      "needs_background": "light"
     },
     "output_type": "display_data"
    }
   ],
   "source": [
    "ga.plot_best_solutions(marker=None)"
   ],
   "metadata": {
    "collapsed": false,
    "pycharm": {
     "name": "#%%\n"
    }
   }
  }
 ],
 "metadata": {
  "kernelspec": {
   "display_name": "Python 3",
   "language": "python",
   "name": "python3"
  },
  "language_info": {
   "codemirror_mode": {
    "name": "ipython",
    "version": 2
   },
   "file_extension": ".py",
   "mimetype": "text/x-python",
   "name": "python",
   "nbconvert_exporter": "python",
   "pygments_lexer": "ipython2",
   "version": "2.7.6"
  }
 },
 "nbformat": 4,
 "nbformat_minor": 0
}